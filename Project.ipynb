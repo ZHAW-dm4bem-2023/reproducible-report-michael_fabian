{
 "cells": [
  {
   "cell_type": "markdown",
   "id": "48287e75-82ec-4c92-9d7e-9b6bb08d938b",
   "metadata": {},
   "source": [
    "# Thermal circuit and state-space representation for a cubic Building\n",
    "### Authors: Fabian Rechsteiner, Michael Wäspe\n",
    "\n",
    "**Objectives:**\n",
    "- Analyse a cubic building with 1 wall, 2 walls with a window and 3 adiabatic walls.\n",
    "- Model the heat transfer in the building by a thermal circuit.\n",
    "- Obtain the mathematical model as a system of Differential Algebraic Equations (DAE) from the thermal circuit.\n",
    "- Transfrom the system of DAE into state-space representation.\n",
    "- Find the steady-state solution.\n",
    "- Simulate by using Euler methods for numerical integration.."
   ]
  },
  {
   "cell_type": "markdown",
   "id": "50ea4338-474b-4ec4-93b2-6c06460264b1",
   "metadata": {},
   "source": [
    "# Visualization of Model\n",
    "## Model\n",
    "A cubic building is simulated. This building has three walls made of concrete and insulation, two of which contain a window. The other three walls are assumed to be adiabatic. A 3D model of the building is shown in Figure 1. The adiabatic walls are shown in red. The aim is to simulate the temperature of the indoor air as a function of the outdoor temperature and solar radiation.\n",
    "<div>\n",
    "<img src=\"./figures_project/Building_Front.png\" width=\"500\"/>\n",
    "<img src=\"./figures_project/Building_open.png\" width=\"513\"/>\n",
    "</div>\n",
    "\n",
    "> Figure 1. Simple Building with 3 walls considered as not perfectly isolated. The adiabatic walls are shown in red. One wall is missing in the illustration on the left and is intended to serve as a sectional model.\n",
    "\n",
    "## Distances\n",
    "Figure 2 shows the relevant dimensions of the building. These dimensions are defined later in the code.\n",
    "<div>\n",
    "<img src=\"./figures_project/Building_measured.png\" width=\"600\"/>\n",
    "</div>\n",
    "\n",
    "> Figure 2. Dimensioned representation of the cubic building model.\n",
    "\n",
    "## Model Schematic\n",
    "Figure 3 shows the thermal model of the cubic building shown in figure 1. It is visualized with the following colors:\n",
    "- Red: Walls that contain a window\n",
    "- Green: Wall without a window\n",
    "- Blue: Windows\n",
    "- Orange: Indoor air\n",
    "- Purple: Longwave indoor radiation\n",
    "\n",
    "The numbering will be used later to identify the walls and windows.\n",
    "\n",
    "<div>\n",
    "<img src=\"./figures_project/ThermalModelWithColors.png\" width=\"1200\"/>\n",
    "</div>\n",
    "\n",
    "> Figure 3. Cubic Building Model represented as a thermal model."
   ]
  },
  {
   "cell_type": "markdown",
   "id": "1c7a5295-66a8-4b7b-ad0b-d509c986bcf8",
   "metadata": {},
   "source": [
    "## Imports\n",
    "Imports of all libraries that are needed."
   ]
  },
  {
   "cell_type": "code",
   "execution_count": 1,
   "id": "a12e308e-5f0e-4dec-afe0-84c2ce8c80c5",
   "metadata": {},
   "outputs": [],
   "source": [
    "# For High Resolution Screens\n",
    "%config InlineBackend.figure_format = 'retina'\n",
    "\n",
    "import numpy as np\n",
    "import pandas as pd\n",
    "import matplotlib.pyplot as plt\n",
    "import dm4bem"
   ]
  },
  {
   "cell_type": "markdown",
   "id": "eea10b2a-7aa7-40ed-ae72-6fb3a4a5c7fd",
   "metadata": {},
   "source": [
    "## Physical Properties"
   ]
  },
  {
   "cell_type": "markdown",
   "id": "051c7e72-5534-4274-9795-43bb89c9e885",
   "metadata": {},
   "source": [
    "### Dimensions of the building"
   ]
  },
  {
   "cell_type": "code",
   "execution_count": 2,
   "id": "248a8f23-44f9-427f-ac35-bd9cb5569028",
   "metadata": {},
   "outputs": [],
   "source": [
    "# Dimensions building\n",
    "d_ins    = 0.08   #[m]\n",
    "d_conc   = 0.2   #[m]\n",
    "d_window = 0.04  #[m]\n",
    "w_room   = 4     #[m]\n",
    "w_window = 1.5   #[m]"
   ]
  },
  {
   "cell_type": "markdown",
   "id": "610a83b2-3c31-4ab8-b4a1-4af500690fb8",
   "metadata": {},
   "source": [
    "### Thermo-physical properties and Dimension\n",
    "The thermophysical properties of the air (in SI units) are:"
   ]
  },
  {
   "cell_type": "code",
   "execution_count": 3,
   "id": "0917dd90-27e7-4e2a-b85b-ffdd479b81dc",
   "metadata": {},
   "outputs": [
    {
     "data": {
      "text/html": [
       "<div>\n",
       "<style scoped>\n",
       "    .dataframe tbody tr th:only-of-type {\n",
       "        vertical-align: middle;\n",
       "    }\n",
       "\n",
       "    .dataframe tbody tr th {\n",
       "        vertical-align: top;\n",
       "    }\n",
       "\n",
       "    .dataframe thead th {\n",
       "        text-align: right;\n",
       "    }\n",
       "</style>\n",
       "<table border=\"1\" class=\"dataframe\">\n",
       "  <thead>\n",
       "    <tr style=\"text-align: right;\">\n",
       "      <th></th>\n",
       "      <th>Density</th>\n",
       "      <th>Specific heat</th>\n",
       "    </tr>\n",
       "  </thead>\n",
       "  <tbody>\n",
       "    <tr>\n",
       "      <th>Air</th>\n",
       "      <td>1.2</td>\n",
       "      <td>1000</td>\n",
       "    </tr>\n",
       "  </tbody>\n",
       "</table>\n",
       "</div>"
      ],
      "text/plain": [
       "     Density  Specific heat\n",
       "Air      1.2           1000"
      ]
     },
     "execution_count": 3,
     "metadata": {},
     "output_type": "execute_result"
    }
   ],
   "source": [
    "# Properties Air\n",
    "air = {'Density': 1.2,                      # kg/m³\n",
    "       'Specific heat': 1000}               # J/(kg·K)\n",
    "pd.DataFrame(air, index=['Air'])"
   ]
  },
  {
   "cell_type": "markdown",
   "id": "b34a3e17-edfa-4593-9d67-567bd43c6897",
   "metadata": {},
   "source": [
    "The [thermophysical properties](https://energieplus-lesite.be/donnees/enveloppe44/enveloppe2/conductivite-thermique-des-materiaux/) ([thermal conductivities](https://en.m.wikipedia.org/wiki/List_of_thermal_conductivities), [densities](https://en.wikipedia.org/wiki/Density) and [specific heat capacities](https://en.m.wikipedia.org/wiki/Table_of_specific_heat_capacities)) and the geometry (widths and surface areas) of the three materials (i.e., concrete, insulation) in SI units  of the wall without a window are:"
   ]
  },
  {
   "cell_type": "code",
   "execution_count": 4,
   "id": "7eff1db5-d99a-450f-9c4e-f48120f5f303",
   "metadata": {},
   "outputs": [
    {
     "name": "stdout",
     "output_type": "stream",
     "text": [
      "Properties of the wall without window:\n"
     ]
    },
    {
     "data": {
      "text/html": [
       "<div>\n",
       "<style scoped>\n",
       "    .dataframe tbody tr th:only-of-type {\n",
       "        vertical-align: middle;\n",
       "    }\n",
       "\n",
       "    .dataframe tbody tr th {\n",
       "        vertical-align: top;\n",
       "    }\n",
       "\n",
       "    .dataframe thead th {\n",
       "        text-align: right;\n",
       "    }\n",
       "</style>\n",
       "<table border=\"1\" class=\"dataframe\">\n",
       "  <thead>\n",
       "    <tr style=\"text-align: right;\">\n",
       "      <th></th>\n",
       "      <th>Conductivity</th>\n",
       "      <th>Density</th>\n",
       "      <th>Specific heat</th>\n",
       "      <th>Width</th>\n",
       "      <th>Surface</th>\n",
       "    </tr>\n",
       "  </thead>\n",
       "  <tbody>\n",
       "    <tr>\n",
       "      <th>Layer_out</th>\n",
       "      <td>1.400</td>\n",
       "      <td>2300.0</td>\n",
       "      <td>880</td>\n",
       "      <td>0.20</td>\n",
       "      <td>16</td>\n",
       "    </tr>\n",
       "    <tr>\n",
       "      <th>Layer_in</th>\n",
       "      <td>0.027</td>\n",
       "      <td>55.0</td>\n",
       "      <td>1210</td>\n",
       "      <td>0.08</td>\n",
       "      <td>16</td>\n",
       "    </tr>\n",
       "  </tbody>\n",
       "</table>\n",
       "</div>"
      ],
      "text/plain": [
       "           Conductivity  Density  Specific heat  Width  Surface\n",
       "Layer_out         1.400   2300.0            880   0.20       16\n",
       "Layer_in          0.027     55.0           1210   0.08       16"
      ]
     },
     "metadata": {},
     "output_type": "display_data"
    }
   ],
   "source": [
    "# Properties wall without window\n",
    "concrete_wow = {'Conductivity': 1.400,\n",
    "                'Density': 2300.0,              # kg/m³\n",
    "                'Specific heat': 880,           # J/(kg·K)\n",
    "                'Width': d_conc,\n",
    "                'Surface': w_room**2}\n",
    "\n",
    "insulation_wow = {'Conductivity': 0.027,\n",
    "                  'Density': 55.0,              # kg/m³\n",
    "                  'Specific heat': 1210,        # J/(kg·K)\n",
    "                  'Width': d_ins,\n",
    "                  'Surface': w_room**2}\n",
    "             \n",
    "wall_wow = pd.DataFrame.from_dict({'Layer_out': concrete_wow,\n",
    "                                   'Layer_in': insulation_wow},\n",
    "                                   orient='index')          \n",
    "\n",
    "# Print Data Frames\n",
    "print('Properties of the wall without window:')\n",
    "display(wall_wow)"
   ]
  },
  {
   "cell_type": "markdown",
   "id": "825e4d2e-f089-4efc-90ea-2ccec3457676",
   "metadata": {},
   "source": [
    "The [thermophysical properties](https://energieplus-lesite.be/donnees/enveloppe44/enveloppe2/conductivite-thermique-des-materiaux/) ([thermal conductivities](https://en.m.wikipedia.org/wiki/List_of_thermal_conductivities), [densities](https://en.wikipedia.org/wiki/Density) and [specific heat capacities](https://en.m.wikipedia.org/wiki/Table_of_specific_heat_capacities)) and the geometry (widths and surface areas) of the three materials (i.e., concrete, insulation, glass) in SI units  of the walls with a window are:"
   ]
  },
  {
   "cell_type": "code",
   "execution_count": 5,
   "id": "5f9708ae-4ef8-4c32-b3e6-684098897852",
   "metadata": {},
   "outputs": [
    {
     "name": "stdout",
     "output_type": "stream",
     "text": [
      "Properties of the wall with window:\n"
     ]
    },
    {
     "data": {
      "text/html": [
       "<div>\n",
       "<style scoped>\n",
       "    .dataframe tbody tr th:only-of-type {\n",
       "        vertical-align: middle;\n",
       "    }\n",
       "\n",
       "    .dataframe tbody tr th {\n",
       "        vertical-align: top;\n",
       "    }\n",
       "\n",
       "    .dataframe thead th {\n",
       "        text-align: right;\n",
       "    }\n",
       "</style>\n",
       "<table border=\"1\" class=\"dataframe\">\n",
       "  <thead>\n",
       "    <tr style=\"text-align: right;\">\n",
       "      <th></th>\n",
       "      <th>Conductivity</th>\n",
       "      <th>Density</th>\n",
       "      <th>Specific heat</th>\n",
       "      <th>Width</th>\n",
       "      <th>Surface</th>\n",
       "    </tr>\n",
       "  </thead>\n",
       "  <tbody>\n",
       "    <tr>\n",
       "      <th>Layer_out</th>\n",
       "      <td>1.400</td>\n",
       "      <td>2300.0</td>\n",
       "      <td>880</td>\n",
       "      <td>0.20</td>\n",
       "      <td>13.75</td>\n",
       "    </tr>\n",
       "    <tr>\n",
       "      <th>Layer_in</th>\n",
       "      <td>0.027</td>\n",
       "      <td>55.0</td>\n",
       "      <td>1210</td>\n",
       "      <td>0.08</td>\n",
       "      <td>13.75</td>\n",
       "    </tr>\n",
       "    <tr>\n",
       "      <th>Window</th>\n",
       "      <td>1.400</td>\n",
       "      <td>2500.0</td>\n",
       "      <td>1210</td>\n",
       "      <td>0.04</td>\n",
       "      <td>2.25</td>\n",
       "    </tr>\n",
       "  </tbody>\n",
       "</table>\n",
       "</div>"
      ],
      "text/plain": [
       "           Conductivity  Density  Specific heat  Width  Surface\n",
       "Layer_out         1.400   2300.0            880   0.20    13.75\n",
       "Layer_in          0.027     55.0           1210   0.08    13.75\n",
       "Window            1.400   2500.0           1210   0.04     2.25"
      ]
     },
     "metadata": {},
     "output_type": "display_data"
    }
   ],
   "source": [
    "# Properties wall without window\n",
    "concrete_ww = {'Conductivity': 1.400,\n",
    "               'Density': 2300.0,              # kg/m³\n",
    "               'Specific heat': 880,           # J/(kg·K)\n",
    "               'Width': d_conc,\n",
    "               'Surface': w_room**2-w_window**2}\n",
    "\n",
    "insulation_ww = {'Conductivity': 0.027,\n",
    "                  'Density': 55.0,              # kg/m³\n",
    "                  'Specific heat': 1210,        # J/(kg·K)\n",
    "                  'Width': d_ins,\n",
    "                  'Surface': w_room**2-w_window**2}\n",
    "\n",
    "glass_ww = {'Conductivity': 1.4,\n",
    "            'Density': 2500,\n",
    "            'Specific heat': 1210,\n",
    "            'Width': d_window,\n",
    "            'Surface': w_window**2}\n",
    "             \n",
    "wall_ww = pd.DataFrame.from_dict({'Layer_out': concrete_ww,\n",
    "                                  'Layer_in': insulation_ww,\n",
    "                                  'Window': glass_ww},\n",
    "                                  orient='index')          \n",
    "\n",
    "# Print Data Frames\n",
    "print('Properties of the wall with window:')\n",
    "display(wall_ww)"
   ]
  },
  {
   "cell_type": "markdown",
   "id": "97aa16e7-874c-4f53-9460-9e1d2173dbe9",
   "metadata": {},
   "source": [
    "### Radiation Properties\n",
    "\n",
    "The [radiative properties](https://en.wikipedia.org/wiki/Emissivity#Absorptivity) of the surfaces are:\n",
    "- long wave [emmisivity](https://www.engineeringtoolbox.com/emissivity-coefficients-d_447.html) of concrete (between normal and rough) and glass pyrex;\n",
    "- short wave [absortivity of solar radiation](https://www.engineeringtoolbox.com/solar-radiation-absorbed-materials-d_1568.html) of white smooth surfaces;\n",
    "- short wave [transmittance](https://www.engineeringtoolbox.com/optical-properties-glazing-materials-d_1355.html) of window glass (thickness of 4 mm);\n",
    "- short wave [absortivity and transmittance](https://energieplus-lesite.be/techniques/enveloppe7/composants-de-l-enveloppe/vitrages/vitrage-permettant-le-controle-solaire/) of reflective blue window glass."
   ]
  },
  {
   "cell_type": "code",
   "execution_count": 6,
   "id": "355f2c2c-1bef-4f76-bb0d-6f20f12f71d7",
   "metadata": {},
   "outputs": [
    {
     "name": "stdout",
     "output_type": "stream",
     "text": [
      "Stefan-Bolzmann constant:  σ = 5.67e-08 W/(m²⋅K⁴)\n"
     ]
    }
   ],
   "source": [
    "# radiative properties\n",
    "ε_wLW = 0.85    # long wave emmisivity: wall surface (concrete)\n",
    "ε_gLW = 0.90    # long wave emmisivity: glass pyrex\n",
    "α_wSW = 0.25    # short wave absortivity: white smooth surface\n",
    "α_gSW = 0.38    # short wave absortivity: reflective blue glass\n",
    "τ_gSW = 0.30    # short wave transmitance: reflective blue glass\n",
    "\n",
    "# Stefan-Bolzmann constant\n",
    "σ = 5.67e-8     # W/(m²⋅K⁴) Stefan-Bolzmann constant\n",
    "print('Stefan-Bolzmann constant: ',f'σ = {σ} W/(m²⋅K⁴)')"
   ]
  },
  {
   "cell_type": "markdown",
   "id": "a0cbf913-99b4-469c-b3fc-cbc711f46e48",
   "metadata": {},
   "source": [
    "### Convection coefficients\n",
    "\n",
    "Conventional values for the [convection coeficients](https://energieplus-lesite.be/theories/enveloppe9/echanges-chaleur-parois/resistance-thermique-d-echange-superficiel/) for indoor and outdoor convection in W/(m²⋅K) are:"
   ]
  },
  {
   "cell_type": "code",
   "execution_count": 7,
   "id": "6bf7d32e-c0f0-4774-9e54-067034c07aa2",
   "metadata": {},
   "outputs": [
    {
     "name": "stdout",
     "output_type": "stream",
     "text": [
      "Indoor and outdoor convection coeficients:\n"
     ]
    },
    {
     "data": {
      "text/html": [
       "<div>\n",
       "<style scoped>\n",
       "    .dataframe tbody tr th:only-of-type {\n",
       "        vertical-align: middle;\n",
       "    }\n",
       "\n",
       "    .dataframe tbody tr th {\n",
       "        vertical-align: top;\n",
       "    }\n",
       "\n",
       "    .dataframe thead th {\n",
       "        text-align: right;\n",
       "    }\n",
       "</style>\n",
       "<table border=\"1\" class=\"dataframe\">\n",
       "  <thead>\n",
       "    <tr style=\"text-align: right;\">\n",
       "      <th></th>\n",
       "      <th>in</th>\n",
       "      <th>out</th>\n",
       "    </tr>\n",
       "  </thead>\n",
       "  <tbody>\n",
       "    <tr>\n",
       "      <th>h</th>\n",
       "      <td>8.0</td>\n",
       "      <td>25</td>\n",
       "    </tr>\n",
       "  </tbody>\n",
       "</table>\n",
       "</div>"
      ],
      "text/plain": [
       "    in  out\n",
       "h  8.0   25"
      ]
     },
     "metadata": {},
     "output_type": "display_data"
    }
   ],
   "source": [
    "h = pd.DataFrame([{'in': 8., 'out': 25}], index=['h'])  # W/(m²⋅K)\n",
    "print('Indoor and outdoor convection coeficients:')\n",
    "display(h)"
   ]
  },
  {
   "cell_type": "markdown",
   "id": "e2d4ddfe-44c7-4ce1-b780-9a25b0b306c3",
   "metadata": {},
   "source": [
    "## Thermal network\n",
    "Thermal networks (or circuits) are weighted [directed graphs](https://en.m.wikipedia.org/wiki/Directed_graph) in which:\n",
    "- the **nodes** (or vertices) represent temperatures,  $\\theta_i$, of geometrical points, surfaces or volumes;\n",
    "- the oriented **branches** (or edges) represent thermal heat flow rates, $q_j$, betweenn the temperature nodes.\n",
    "\n",
    "![basic_TC](./figures/A01_Basic_thermal_circuit.svg)\n",
    "> Figure 4. Basic thermal network.\n",
    "\n",
    "A thermal network has at least one oriented branch, $q$, and one node, $\\theta$.\n",
    "\n",
    "In a node there are a thermal capacity, $C_i$, (which can be positive or zero) and a heat flow rate source, $\\dot Q_i$, (which can be zero).\n",
    "\n",
    "On a branch, there are a conductane, $G_j > 0$, (which needs to be strictely pozitve) and a temperature source, $T_j$ (which can be zero).\n",
    "\n",
    "The problem of analysis of thermal circuits (or the simulation problem, or the direct problem) is:\n",
    "\n",
    "**given**:\n",
    "- [incidence matrix](https://en.m.wikipedia.org/wiki/Incidence_matrix) $A$ which indicates how the nodes are connected by oriented branches;\n",
    "- conductance diagonal matrix $G$;\n",
    "- capacity diagonal matrix $C$;\n",
    "- temperature source vector $b$;\n",
    "- heat flow source vector $f$;\n",
    "\n",
    "**find** the temperature vector $\\theta$ and the flow rate vector $q.$\n",
    "\n",
    "\n",
    "For the cubic building shown in Figure 1, heat transfert is:\n",
    "- through the walls (concrete and insulation), \n",
    "- through the glass window,\n",
    "\n",
    "The sources are:\n",
    "- $T_o$ - outdoor temperature, °C;\n",
    "- $\\Phi_0$, $\\Phi_3$ - solar radiation absorbed by the outdoor surface of the walls with a window;\n",
    "- $\\Phi_6$ - solar radiation absorbed by the outdoor surface of the wall without a window;\n",
    "- $\\Phi_1$, $\\Phi_4$ - solar radiation absorbed by the indoor surface of the walls with a window;\n",
    "- $\\Phi_7$ - solar radiation absorbed by the indoor surface of the wall without a window;\n",
    "- $\\Phi_2$, $\\Phi_5$ - solar radiation absorbed by the glass of the windows."
   ]
  },
  {
   "cell_type": "markdown",
   "id": "c9bbffc0-c4a5-4980-9090-1d5a53ab66e9",
   "metadata": {},
   "source": [
    "### Thermal coductances\n",
    "#### Conduction\n",
    "The conductances 1, 2, 3, 4, 5, 6, 8, 9, 10, 11, 12, 13, 15, 16, 17 and 18 of the thermal circuit from Figure 3 model the heat transfer by [conduction](https://en.m.wikipedia.org/wiki/Thermal_conduction) (Conductances 5 and 12 later also include the convection of the windows). Conduction conductances, in W/K, are of the form:\n",
    "$$G_{cd} = \\frac{\\lambda}{w}S$$\n",
    "where:\n",
    "\n",
    "- $\\lambda$ - [thermal conductvity](https://en.m.wikipedia.org/wiki/Thermal_conductivity), W/(m⋅K);\n",
    "- $w$ - width of the material, m;\n",
    "- $S$ - surface area of the wall, m²."
   ]
  },
  {
   "cell_type": "code",
   "execution_count": 8,
   "id": "b32ddf95-b925-4771-a2b7-c32244fe27c5",
   "metadata": {
    "tags": []
   },
   "outputs": [
    {
     "name": "stdout",
     "output_type": "stream",
     "text": [
      "Conductance of the wall without a window:\n"
     ]
    },
    {
     "ename": "ValueError",
     "evalue": "columns cannot be a set",
     "output_type": "error",
     "traceback": [
      "\u001b[1;31m---------------------------------------------------------------------------\u001b[0m",
      "\u001b[1;31mValueError\u001b[0m                                Traceback (most recent call last)",
      "\u001b[1;32m~\\AppData\\Local\\Temp\\ipykernel_12144\\1486403186.py\u001b[0m in \u001b[0;36m?\u001b[1;34m()\u001b[0m\n\u001b[0;32m      1\u001b[0m \u001b[1;31m# conduction\u001b[0m\u001b[1;33m\u001b[0m\u001b[1;33m\u001b[0m\u001b[0m\n\u001b[0;32m      2\u001b[0m \u001b[0mG_cond_wow\u001b[0m \u001b[1;33m=\u001b[0m \u001b[0mwall_wow\u001b[0m\u001b[1;33m[\u001b[0m\u001b[1;34m'Conductivity'\u001b[0m\u001b[1;33m]\u001b[0m \u001b[1;33m/\u001b[0m \u001b[0mwall_wow\u001b[0m\u001b[1;33m[\u001b[0m\u001b[1;34m'Width'\u001b[0m\u001b[1;33m]\u001b[0m \u001b[1;33m*\u001b[0m \u001b[0mwall_wow\u001b[0m\u001b[1;33m[\u001b[0m\u001b[1;34m'Surface'\u001b[0m\u001b[1;33m]\u001b[0m\u001b[1;33m\u001b[0m\u001b[1;33m\u001b[0m\u001b[0m\n\u001b[0;32m      3\u001b[0m \u001b[0mG_cond_ww\u001b[0m \u001b[1;33m=\u001b[0m \u001b[0mwall_ww\u001b[0m\u001b[1;33m[\u001b[0m\u001b[1;34m'Conductivity'\u001b[0m\u001b[1;33m]\u001b[0m \u001b[1;33m/\u001b[0m \u001b[0mwall_ww\u001b[0m\u001b[1;33m[\u001b[0m\u001b[1;34m'Width'\u001b[0m\u001b[1;33m]\u001b[0m \u001b[1;33m*\u001b[0m \u001b[0mwall_ww\u001b[0m\u001b[1;33m[\u001b[0m\u001b[1;34m'Surface'\u001b[0m\u001b[1;33m]\u001b[0m\u001b[1;33m\u001b[0m\u001b[1;33m\u001b[0m\u001b[0m\n\u001b[0;32m      4\u001b[0m \u001b[0mprint\u001b[0m\u001b[1;33m(\u001b[0m\u001b[1;34m'Conductance of the wall without a window:'\u001b[0m\u001b[1;33m)\u001b[0m\u001b[1;33m\u001b[0m\u001b[1;33m\u001b[0m\u001b[0m\n\u001b[1;32m----> 5\u001b[1;33m \u001b[0mdisplay\u001b[0m\u001b[1;33m(\u001b[0m\u001b[0mpd\u001b[0m\u001b[1;33m.\u001b[0m\u001b[0mDataFrame\u001b[0m\u001b[1;33m(\u001b[0m\u001b[0mG_cond_wow\u001b[0m\u001b[1;33m,\u001b[0m \u001b[0mcolumns\u001b[0m\u001b[1;33m=\u001b[0m\u001b[1;33m{\u001b[0m\u001b[1;34m'Conductance'\u001b[0m\u001b[1;33m}\u001b[0m\u001b[1;33m)\u001b[0m\u001b[1;33m)\u001b[0m\u001b[1;33m\u001b[0m\u001b[1;33m\u001b[0m\u001b[0m\n\u001b[0m\u001b[0;32m      6\u001b[0m \u001b[0mprint\u001b[0m\u001b[1;33m(\u001b[0m\u001b[1;34m'Conductance of the walls with a window:'\u001b[0m\u001b[1;33m)\u001b[0m\u001b[1;33m\u001b[0m\u001b[1;33m\u001b[0m\u001b[0m\n\u001b[0;32m      7\u001b[0m \u001b[0mdisplay\u001b[0m\u001b[1;33m(\u001b[0m\u001b[0mpd\u001b[0m\u001b[1;33m.\u001b[0m\u001b[0mDataFrame\u001b[0m\u001b[1;33m(\u001b[0m\u001b[0mG_cond_ww\u001b[0m\u001b[1;33m,\u001b[0m \u001b[0mcolumns\u001b[0m\u001b[1;33m=\u001b[0m\u001b[1;33m{\u001b[0m\u001b[1;34m'Conductance'\u001b[0m\u001b[1;33m}\u001b[0m\u001b[1;33m)\u001b[0m\u001b[1;33m)\u001b[0m\u001b[1;33m\u001b[0m\u001b[1;33m\u001b[0m\u001b[0m\n",
      "\u001b[1;32mC:\\ProgramData\\anaconda3\\Lib\\site-packages\\pandas\\core\\frame.py\u001b[0m in \u001b[0;36m?\u001b[1;34m(self, data, index, columns, dtype, copy)\u001b[0m\n\u001b[0;32m    671\u001b[0m         \u001b[1;31m# GH47215\u001b[0m\u001b[1;33m\u001b[0m\u001b[1;33m\u001b[0m\u001b[0m\n\u001b[0;32m    672\u001b[0m         \u001b[1;32mif\u001b[0m \u001b[0mindex\u001b[0m \u001b[1;32mis\u001b[0m \u001b[1;32mnot\u001b[0m \u001b[1;32mNone\u001b[0m \u001b[1;32mand\u001b[0m \u001b[0misinstance\u001b[0m\u001b[1;33m(\u001b[0m\u001b[0mindex\u001b[0m\u001b[1;33m,\u001b[0m \u001b[0mset\u001b[0m\u001b[1;33m)\u001b[0m\u001b[1;33m:\u001b[0m\u001b[1;33m\u001b[0m\u001b[1;33m\u001b[0m\u001b[0m\n\u001b[0;32m    673\u001b[0m             \u001b[1;32mraise\u001b[0m \u001b[0mValueError\u001b[0m\u001b[1;33m(\u001b[0m\u001b[1;34m\"index cannot be a set\"\u001b[0m\u001b[1;33m)\u001b[0m\u001b[1;33m\u001b[0m\u001b[1;33m\u001b[0m\u001b[0m\n\u001b[0;32m    674\u001b[0m         \u001b[1;32mif\u001b[0m \u001b[0mcolumns\u001b[0m \u001b[1;32mis\u001b[0m \u001b[1;32mnot\u001b[0m \u001b[1;32mNone\u001b[0m \u001b[1;32mand\u001b[0m \u001b[0misinstance\u001b[0m\u001b[1;33m(\u001b[0m\u001b[0mcolumns\u001b[0m\u001b[1;33m,\u001b[0m \u001b[0mset\u001b[0m\u001b[1;33m)\u001b[0m\u001b[1;33m:\u001b[0m\u001b[1;33m\u001b[0m\u001b[1;33m\u001b[0m\u001b[0m\n\u001b[1;32m--> 675\u001b[1;33m             \u001b[1;32mraise\u001b[0m \u001b[0mValueError\u001b[0m\u001b[1;33m(\u001b[0m\u001b[1;34m\"columns cannot be a set\"\u001b[0m\u001b[1;33m)\u001b[0m\u001b[1;33m\u001b[0m\u001b[1;33m\u001b[0m\u001b[0m\n\u001b[0m\u001b[0;32m    676\u001b[0m \u001b[1;33m\u001b[0m\u001b[0m\n\u001b[0;32m    677\u001b[0m         \u001b[1;32mif\u001b[0m \u001b[0mcopy\u001b[0m \u001b[1;32mis\u001b[0m \u001b[1;32mNone\u001b[0m\u001b[1;33m:\u001b[0m\u001b[1;33m\u001b[0m\u001b[1;33m\u001b[0m\u001b[0m\n\u001b[0;32m    678\u001b[0m             \u001b[1;32mif\u001b[0m \u001b[0misinstance\u001b[0m\u001b[1;33m(\u001b[0m\u001b[0mdata\u001b[0m\u001b[1;33m,\u001b[0m \u001b[0mdict\u001b[0m\u001b[1;33m)\u001b[0m\u001b[1;33m:\u001b[0m\u001b[1;33m\u001b[0m\u001b[1;33m\u001b[0m\u001b[0m\n",
      "\u001b[1;31mValueError\u001b[0m: columns cannot be a set"
     ]
    }
   ],
   "source": [
    "# conduction\n",
    "G_cond_wow = wall_wow['Conductivity'] / wall_wow['Width'] * wall_wow['Surface']\n",
    "G_cond_ww = wall_ww['Conductivity'] / wall_ww['Width'] * wall_ww['Surface']\n",
    "print('Conductance of the wall without a window:')\n",
    "display(pd.DataFrame(G_cond_wow, columns={'Conductance'}))\n",
    "print('Conductance of the walls with a window:')\n",
    "display(pd.DataFrame(G_cond_ww, columns={'Conductance'}))"
   ]
  },
  {
   "cell_type": "markdown",
   "id": "b1e751dc-63d1-4992-898b-01f1138baeb9",
   "metadata": {
    "tags": []
   },
   "source": [
    "#### Convection\n",
    "The conductances 0, 5, 7, 12, 14, 19, 20, 21, 22, 23 model the heat transfer by [convection](https://en.m.wikipedia.org/wiki/Convection_(heat_transfer). Convection conductances, in W/K, are of the form:\n",
    "$$G_{cv} = {h S}$$\n",
    "where:\n",
    "- $h$ is the [convection coefficient](https://en.m.wikipedia.org/wiki/Heat_transfer_coefficient), W/(m²⋅K);\n",
    "- $S$ - surface area of the wall, m²."
   ]
  },
  {
   "cell_type": "code",
   "execution_count": null,
   "id": "97b6ff59-9fa7-4fea-8080-a9a4266aa112",
   "metadata": {
    "tags": []
   },
   "outputs": [],
   "source": [
    "# convection\n",
    "G_conv_wow = h * wall_wow['Surface']['Layer_out']   # wall without window\n",
    "G_conv_ww  = h * wall_ww['Surface']['Layer_in']   # wall\n",
    "G_conv_g    = h * wall_ww['Surface']['Window']     # glass\n",
    "\n",
    "print('Convection Coefficients of wall without window:')\n",
    "display(G_conv_wow)\n",
    "print('Convection Coefficients of wall with window:')\n",
    "display(G_conv_ww)\n",
    "print('Convection Coefficients of window:')\n",
    "display(G_conv_g)"
   ]
  },
  {
   "cell_type": "markdown",
   "id": "ffc29244-d768-488c-9b7c-2a08b5f0d05e",
   "metadata": {
    "tags": []
   },
   "source": [
    "#### Long wave radiation\n",
    "##### View factors inside the building\n",
    "\n",
    "The view factor $F_{i,j}$ is defined as *the proportion of radiation leaving surface $i$ that is intercepted by surface $j$*. A simplified model is used to determine the viewfactors.\n",
    "\n",
    "A simplified relation is used to calculate the view factors of the cubic building:\n",
    "\n",
    "The view factors are defined by:\n",
    "$$\\begin{cases}\n",
    "F_{i,j} = \\frac{S_j}{S_T -S_i}\\\\ \n",
    "F_{i,i} = 0\n",
    "\\end{cases}$$\n",
    "\n",
    "where $S_{T} = \\sum_{j=0}^{n-1} S_j$, i.e. the surface $S_i$ is not included in the total surface $S_{T,i} = S_T - S_i$. \n",
    "\n",
    "In this case, the reciprocty theorem is generally not respected:\n",
    "$$F_{i, j} S_i = \\frac{S_j}{S_T - S_i} S_i \\neq F_{j, i} S_j = \\frac{S_i}{S_T - S_j} S_j$$\n",
    "but the summation rule is respected:\n",
    "$$ \\sum_{i=0}^{n-1} F_{i, j} = \\frac{1}{S_T - S_i} \\sum_{\\substack{j=0\\\\i\\neq j}}^{n-1} S_j = 1 $$\n",
    "\n",
    "To calculate the view factors, we use a simplified representation as shown in Figure 5. To ensure that the view factors are correct, the areas of the adiabatic walls must also be taken into account in the total area. The designations of the view factors in the following code are based on the designations in Figure 5. The numbering of the walls and windows in Figure 5 refers to the numbering in Figure 3.\n",
    "\n",
    "<div>\n",
    "<img src=\"./figures_project/viewFactorsSimplifiedRepresentation.png\" width=\"600\"/>\n",
    "</div>\n",
    "\n",
    "> Figure 5. Simplified representation of the relevant view factors of the cubic building model.\n",
    "\n",
    "Note: The view factor between two surfaces, $j,k$ that are in the same plane (e.g. a window and a wall) is zero,\n",
    "$$F_{j,k} = F_{k,j}=0$$\n",
    "\n",
    "Therefore the total surface $S_{T,i}$ should be:\n",
    "$$S_{T,i} = \\sum_{j=0}^{n-1} S_j - \\sum_k S_k$$\n",
    "i.e. the surfaces $S_k$ in the same plan with the surface $S_i$ are not included in $S_{T,i}$.\n"
   ]
  },
  {
   "cell_type": "code",
   "execution_count": null,
   "id": "0f8e110f-0aef-4ce8-a5ec-cccb0a893700",
   "metadata": {},
   "outputs": [],
   "source": [
    "# Total surface\n",
    "S_t = wall_wow['Surface']['Layer_in']*6\n",
    "# Viewfactors (simplified)\n",
    "S_1_3 = wall_ww['Surface']['Layer_in']  / (S_t - wall_ww['Surface']['Layer_in'] - wall_ww['Surface']['Window'])    # (#3 / (total - #1 - #2)\n",
    "S_1_4 = wall_ww['Surface']['Window']    / (S_t - wall_ww['Surface']['Layer_in'] - wall_ww['Surface']['Window'])    # (#4 / (total - #1 - #2)\n",
    "S_1_5 = wall_wow['Surface']['Layer_in'] / (S_t - wall_ww['Surface']['Layer_in'] - wall_ww['Surface']['Window'])    # (#5 / (total - #1 - #2)\n",
    "S_2_3 = wall_ww['Surface']['Layer_in']  / (S_t - wall_ww['Surface']['Window']   - wall_ww['Surface']['Layer_in'])  # (#3 / (total - #2 - #1)\n",
    "S_2_4 = wall_ww['Surface']['Window']    / (S_t - wall_ww['Surface']['Window']   - wall_ww['Surface']['Layer_in'])  # (#4 / (total - #2 - #1)\n",
    "S_2_5 = wall_wow['Surface']['Layer_in'] / (S_t - wall_ww['Surface']['Window']   - wall_ww['Surface']['Layer_in'])  # (#5 / (total - #2 - #1)\n",
    "S_3_5 = wall_wow['Surface']['Layer_in'] / (S_t - wall_ww['Surface']['Layer_in'] - wall_ww['Surface']['Window'])    # (#5 / (total - #3 - #4)\n",
    "S_4_5 = wall_wow['Surface']['Layer_in'] / (S_t - wall_ww['Surface']['Window']   - wall_ww['Surface']['Layer_in'])  # (#5 / (total - #4 - #3)"
   ]
  },
  {
   "cell_type": "markdown",
   "id": "5feb6978-bdeb-4910-b5ff-e3ddba725e92",
   "metadata": {},
   "source": [
    "##### View factor between tilted outdoor walls and sky\n",
    "\n",
    "The view factor between the top surface of finite wall $w$ tilted relative to an infinite plane of the ground $g$ is [[5](http://www.thermalradiation.net/sectionc/C-9.html), [6](http://www.diva-portal.org/smash/get/diva2:1305017/FULLTEXT01.pdf), eq. 4.18]:\n",
    "\n",
    "$$ F_{w,g} = \\frac {1 - \\cos \\beta}{2}$$\n",
    "\n",
    "Therefore, the view factor between the tilted wall $w$ and the sky dome $s$ is [[6](http://www.diva-portal.org/smash/get/diva2:1305017/FULLTEXT01.pdf), eq. 4.17]:\n",
    "$$ F_{w,s} = 1 - F_{w,g} = \\frac {1 + \\cos \\beta}{2}$$"
   ]
  },
  {
   "cell_type": "markdown",
   "id": "8c665f78-985c-4bb0-ab8c-2ae81b141ea6",
   "metadata": {},
   "source": [
    "##### Thermal network for long wave radiation\n",
    "\n",
    "The long-wave heat exchange between surfaces may be modelled by using the concept of [radiosity](https://en.m.wikipedia.org/wiki/Radiosity_(radiometry)) and then linearizing the radiative heat exchange. \n",
    "\n",
    "![LW_rad_excg](./figures/03_LW_rad_excg.svg)\n",
    "> Figure 6. Radiative long-wave heat exchange between two surfaces: a) modeled by [emmitance](https://en.m.wikipedia.org/wiki/Radiant_exitance) (source) and [radiosity](https://en.m.wikipedia.org/wiki/Radiosity_(radiometry)) (nodes); b) modeled by linearization of emmitance (temperature sources) and radiosity (temperature nodes).\n",
    "\n",
    "For two surfaces the [conductances](https://en.m.wikipedia.org/wiki/Radiosity_(radiometry)#Circuit_analogy), in m², for radiative heat exchange expressed by using the emmitance (or the [radiant excitance](https://en.m.wikipedia.org/wiki/Radiant_exitance))  of the black body, the [radiosity](https://en.m.wikipedia.org/wiki/Radiosity_(radiometry)), and the [reciprocity](https://en.m.wikipedia.org/wiki/View_factor#Reciprocity) of view factors are:\n",
    "\n",
    "$$G_{1}^{r} = \\frac{\\varepsilon_1}{1 - \\varepsilon_1} S_1$$\n",
    "\n",
    "$$G_{1,2}^{r} = F_{1,2} S_1 = F_{2,1} S_2$$\n",
    "\n",
    "$$G_{2}^{r} = \\frac{\\varepsilon_2}{1 - \\varepsilon_2} S_2$$\n",
    "\n",
    "where:\n",
    "- $\\varepsilon_1$ and $\\varepsilon_2$ are the [emmisivities](https://en.m.wikipedia.org/wiki/Emissivity) of the surfaces 1 and 2;\n",
    "- $S_1$ and $S_2$ - areas of the surfaces 1 and 2, m²;\n",
    "- $F_{1,2}$ - [view factor](https://en.m.wikipedia.org/wiki/View_factor) between surfaces 1 and 2.\n",
    "\n",
    "\n",
    "The [net flows leaving the surfaces 1 and 2](https://en.m.wikipedia.org/wiki/Radiosity_(radiometry)#Circuit_analogy) are:\n",
    "\n",
    "$$q_{net,1} = \\frac{\\varepsilon_1}{1 - \\varepsilon_1} S_1 (M^o_1 - J_1)= G^r_1 (M_1^o - J_1)$$\n",
    "\n",
    "$$q_{net,2} = \\frac{\\varepsilon_2}{1 - \\varepsilon_2} S_2 (M^o_2 - J_2)= G^r_2 (M_2^o - J_2)$$\n",
    "\n",
    "respectively, where:\n",
    "- $M^o_1$ and $M^o_2$ are the [emmitances](https://en.m.wikipedia.org/wiki/Radiant_exitance) of the surfaces 1 and 2 when emmiting as black bodies, $M^o = \\sigma T^4$, W/m²;\n",
    "- $J_1$ and $J_2$ - [radiosities](https://en.m.wikipedia.org/wiki/Radiosity_(radiometry)) of surfaces 1 and 2, W/m²;\n",
    "- $G^r_1$ and $G^r_2$ - conductances for long wave radiative heat exchange, m².\n",
    "\n",
    "The [net flow between surfaces 1 and 2](https://en.m.wikipedia.org/wiki/Radiosity_(radiometry)#Circuit_analogy) is:\n",
    "\n",
    "$$q_{1,2} = F_{1,2} S_1 (J_1 - J_2) = F_{2,1} S_2 (J_1 - J_2)= G_{1,2}^r (J_1 - J_2)$$\n",
    "\n",
    "In order to express the long-wave radiative exchange as a function of temperature differences, a linearization of the difference of temperatures $T_1^4 - T_2^4$ may be used:\n",
    "\n",
    "$$T_1^4 - T_2^4 = (T_1^2 + T_2^2)(T_1^2 - T_2^2) = (T_1^2 + T_2^2)(T_1 + T_2)(T_1 - T_2) = 4 \\bar{T}^3 (T_1 - T_2)$$\n",
    "\n",
    "where the mean temperature $\\bar{T}$, measured in kelvin, is:\n",
    "\n",
    "$$\\bar{T} =\\sqrt[3]{ \\frac{(T_1^2 + T_2^2)(T_1 + T_2)}{4}}$$\n",
    "\n",
    "The evaluation of mean temperaure, $\\bar{T}$, requires the values of the surface tempetratures, $T_1$ and $T_2$. An initial guess can be used (and then an iterative process, for a more precise evaluation).\n",
    "\n",
    "After linearization, the conductances, in W/K, for radiative heat exchange are:\n",
    "\n",
    "$$G_{1} = 4 \\sigma \\bar{T}^3 \\frac{\\varepsilon_1}{1 - \\varepsilon_1} S_1$$\n",
    "\n",
    "$$G_{1,2} = 4 \\sigma \\bar{T}^3 F_{1,2} S_1 = 4 \\sigma \\bar{T}^3 F_{2,1} S_2$$\n",
    "\n",
    "$$G_{2} = 4 \\sigma \\bar{T}^3 \\frac{\\varepsilon_2}{1 - \\varepsilon_2} S_2$$\n",
    "\n",
    "In the cubic building model, conductances 24, 25, 26, 27, 28, 29, 30, 31, 32, 33, 34, 35 and 36 represent the longwave radiation heat exchange between the different surfaces. This part of the thermal network can be seen in Figure 7.\n",
    "\n",
    "<div>\n",
    "<img src=\"./figures_project/ThermalModel_radiation.png\" width=\"600\"/>\n",
    "</div>\n",
    "\n",
    "> Figure 7. Thermal network of long wave radiation in cubic building model"
   ]
  },
  {
   "cell_type": "code",
   "execution_count": null,
   "id": "e0e8b54b-9aa7-4677-b04a-b09adef9cf10",
   "metadata": {},
   "outputs": [],
   "source": [
    "# long wave radiation\n",
    "Tm = 20 + 273   # K, mean temp for radiative exchange\n",
    "\n",
    "GLW24 = 4 * σ * Tm**3 * ε_wLW / (1 - ε_wLW) * wall_ww['Surface']['Layer_in']\n",
    "GLW25 = 4 * σ * Tm**3 * ε_gLW / (1 - ε_gLW) * wall_ww['Surface']['Window']\n",
    "GLW26 = 4 * σ * Tm**3 * ε_wLW / (1 - ε_wLW) * wall_ww['Surface']['Layer_in']\n",
    "GLW27 = 4 * σ * Tm**3 * ε_gLW / (1 - ε_gLW) * wall_ww['Surface']['Window']\n",
    "GLW28 = 4 * σ * Tm**3 * ε_wLW / (1 - ε_wLW) * wall_wow['Surface']['Layer_in']\n",
    "GLW29 = 4 * σ * Tm**3 * S_1_3 * wall_ww['Surface']['Layer_in']\n",
    "GLW30 = 4 * σ * Tm**3 * S_1_4 * wall_ww['Surface']['Layer_in']\n",
    "GLW31 = 4 * σ * Tm**3 * S_1_5 * wall_ww['Surface']['Layer_in']\n",
    "GLW32 = 4 * σ * Tm**3 * S_2_3 * wall_ww['Surface']['Window']\n",
    "GLW33 = 4 * σ * Tm**3 * S_2_4 * wall_ww['Surface']['Window']\n",
    "GLW34 = 4 * σ * Tm**3 * S_2_5 * wall_ww['Surface']['Window']\n",
    "GLW35 = 4 * σ * Tm**3 * S_3_5 * wall_ww['Surface']['Layer_in']\n",
    "GLW36 = 4 * σ * Tm**3 * S_4_5 * wall_ww['Surface']['Window']"
   ]
  },
  {
   "cell_type": "markdown",
   "id": "9b0f89db-b8cc-4ac1-8923-1da3a3a04f4a",
   "metadata": {},
   "source": [
    "#### Conductances in series and/or parallel\n",
    "If conductances are connected to temperature nodes which have no capacity and/or flow rate source, then the conductances can be considered in [series or parallel](https://en.m.wikipedia.org/wiki/Series_and_parallel_circuits) (depending on the connection). Let's consider, for example, the outdoor side of the glass windows (Figure 3): the outdoor convection conductance and the conduction conductance (corresponding to half of the width of the glass) are in series:\n",
    "\n",
    "$$ G_{gs} = \\frac{1}{1/G_{g,cv.out } + 1/(2 G_{g,cd})} =  \n",
    "\\frac{1}{\\frac{1}{h_{out} S_g} + \\frac{w / 2}{\\lambda S_g}}\n",
    "$$"
   ]
  },
  {
   "cell_type": "code",
   "execution_count": null,
   "id": "3042460a-1c87-41f3-a4af-c83864edef35",
   "metadata": {},
   "outputs": [],
   "source": [
    "# glass: convection outdoor & conduction\n",
    "G_conv_cond_g = float(1 / (1 / G_conv_g['out'] + 1 / (G_cond_ww['Window']/2)))"
   ]
  },
  {
   "cell_type": "markdown",
   "id": "677e77c0-000f-49e9-828d-908a6c6cece5",
   "metadata": {},
   "source": [
    "### Thermal capacities\n",
    "#### Walls\n",
    "The [thermal capacities](https://en.m.wikipedia.org/wiki/Heat_capacity) of the walls and the windows, in J/kg, are:\n",
    "\n",
    "$$C_w= m_w c_w= \\rho_w c_w w_w S_w$$\n",
    "\n",
    "where:\n",
    "- $m_w = \\rho_w w_w S_w$ is the mass of the wall or the window, kg;\n",
    "- $c_w$ - [specific heat capacity](https://en.m.wikipedia.org/wiki/Specific_heat_capacity), J/(kg⋅K);\n",
    "- $\\rho_w$ - [density](https://en.m.wikipedia.org/wiki/Density), kg/m³;\n",
    "- $w_w$ - width of the wall or window, m;\n",
    "- $S_w$ - surface area of the wall or window, m²."
   ]
  },
  {
   "cell_type": "code",
   "execution_count": null,
   "id": "6b3d07ab-0d7f-46e5-a651-b36cf28a234c",
   "metadata": {},
   "outputs": [],
   "source": [
    "C_wow = wall_wow['Density'] * wall_wow['Specific heat'] * wall_wow['Surface'] * wall_wow['Width']\n",
    "C_ww  = wall_ww['Density'] * wall_ww['Specific heat'] * wall_ww['Surface'] * wall_ww['Width']\n",
    "\n",
    "print('Capacities of wall without a window:')\n",
    "display(pd.DataFrame(C_wow, columns={'Capacity'}))\n",
    "print('Capacities of walls with a window:')\n",
    "display(pd.DataFrame(C_ww, columns={'Capacity'}))"
   ]
  },
  {
   "cell_type": "markdown",
   "id": "f0567b98-8781-4e4a-9fe3-bc67ce2e6fff",
   "metadata": {},
   "source": [
    "#### Air\n",
    "Similarly, the thermal capacity of the air, in J/kg, is:\n",
    "\n",
    "$$C_a = m_a c_a = \\rho_a c_a V_a$$\n",
    "\n",
    "where:\n",
    "- $m_a = \\rho_a V_a$ is the mass of the air, kg;\n",
    "- $\\rho_w$ - [density](https://en.m.wikipedia.org/wiki/Density) of air, kg/m³;\n",
    "- $c_a$ - specific heat capacity of the air, J/(kg⋅K);\n",
    "- $V_a$ - volume of the air in the thermal zone, m³."
   ]
  },
  {
   "cell_type": "code",
   "execution_count": null,
   "id": "6e5542c1-afd8-4c76-9034-495fa41ad584",
   "metadata": {},
   "outputs": [],
   "source": [
    "Va = w_room**3 # m³, volume of air\n",
    "C_air = air['Density'] * air['Specific heat'] * Va"
   ]
  },
  {
   "cell_type": "markdown",
   "id": "4224b253-54f5-4a48-ac39-eda909d1dbd1",
   "metadata": {},
   "source": [
    "### Temperature sources\n",
    "\n",
    "The [temperature sources](https://en.m.wikipedia.org/wiki/Voltage_source#Ideal_voltage_sources) model temperatures which vary independently of what happens in the themal circuit; they are inputs of the physical model. Generally, the temperature sources are:\n",
    "- outdoor air and ground temperature;\n",
    "- temperature of adjacent spaces which have controlled temperature;\n",
    "- setpoint temperature.\n",
    "\n",
    "In this simulation, only the outside temperature is taken into account as a temperature source.\n",
    "\n",
    "#### Outdoor air and ground temperature\n",
    "The hourly values of outdoor temperatures can be obtained from weather data files downloadable from the [Repository of free climate data for building performance simulation](http://climate.onebuilding.org) or from [Weather data for EnergyPlus®](https://energyplus.net/weather) (see the tutorial on [Weather data and solar radiation](01WeatherData.ipynb))."
   ]
  },
  {
   "cell_type": "markdown",
   "id": "ffc5092f-0a1f-4f22-856f-15d9ebd0d2cc",
   "metadata": {},
   "source": [
    "### Heat flow rate sources\n",
    "The [heat flow rate sources](https://en.m.wikipedia.org/wiki/Current_source#Background) model flow rates which vary idependently of what happens in the themal circuit. They are inputs of the physical model. Generally, the heat flow rate sources are:\n",
    "- solar radiation absorbed by the walls;\n",
    "- internal auxiliary sources."
   ]
  },
  {
   "cell_type": "markdown",
   "id": "e7f9baf7-2367-42c6-b309-353adec647d9",
   "metadata": {},
   "source": [
    "#### Solar radiation absorbed by the walls\n",
    "\n",
    "The [direct](https://en.m.wikipedia.org/wiki/Direct_insolation), diffuse and reflected components of the [solar radiation](https://en.m.wikipedia.org/wiki/Solar_irradiance) on a tilted surface can be estimated from weather data by using the function `sol_rad_tilt_surf` from the module `dm4bem` (see the tutorial on [Weather data and solar radiation](../t01/t01ReadWeatherData.ipynb))."
   ]
  },
  {
   "cell_type": "markdown",
   "id": "30be0a8b-d9aa-4693-add5-eaa14e9609ec",
   "metadata": {},
   "source": [
    "##### External wall\n",
    "\n",
    "The radiation absorbed by the outdoor surface of the wall is:\n",
    "\n",
    "$$\\Phi_o = \\alpha_{w,SW} S_w E_{tot}$$\n",
    "\n",
    "where:\n",
    "- $\\alpha_{w,SW}$ is the [absorptance](https://en.m.wikipedia.org/wiki/Absorptance) of the outdoor surface of the wall in short wave, $0 \\leqslant \\alpha_{w,SW} \\leqslant 1$;\n",
    "- $S_w$ - surface area of the wall, m²;\n",
    "- $E_{tot}$ - total [solar irradiance](https://en.m.wikipedia.org/wiki/Solar_irradiance) on the wall, W/m²."
   ]
  },
  {
   "cell_type": "markdown",
   "id": "621ac7d9-9e1b-44bc-9d35-1c7ef57f11d7",
   "metadata": {},
   "source": [
    "##### Internal walls\n",
    "\n",
    "The total shortwave incident irradiance on the wall $i$, $E_i$, may be estimated as a function of the direct solar irradiance incident on the surface of the walls, $E_{i}^{o}$:\n",
    "\n",
    "$$S_i E_i = S_i E_{i}^{o} + \\sum_{j=1}^{n} F_{j,i} S_j \\rho_j E_j$$\n",
    "\n",
    "where:\n",
    "- $S_i$ is the area of the surface of the wall $i$, m²;\n",
    "- $E_i$ - total irradiance received directly and by multiple reflections on surface $i$, W/m²;\n",
    "- $E_{i}^{o}$ - irradiance received directly from the sun on surface $i$, W/m²;\n",
    "- $F_{j, i}$ - [view factor](https://en.m.wikipedia.org/wiki/View_factor) between surface $j$ and surface $i$, $0 ⩽ F_{j,i} ⩽ 1$;\n",
    "- $\\rho_j$ - [reflectance](https://en.m.wikipedia.org/wiki/Reflectance) of surface $j$, $0 ⩽ \\rho_j ⩽ 1$.\n",
    "\n",
    "\n",
    "By taking into account the [reciprocity](https://en.m.wikipedia.org/wiki/View_factor#Reciprocity) of the view factors: $S_i F_{i,j} = S_j F_{j,i}$, the set of previous equation becomes:\n",
    "\n",
    "$$\n",
    "\\begin{bmatrix}\n",
    "1 - \\rho_1 F_{1,1} & - \\rho_2 F_{1,2}     & ...  & - \\rho_n F_{1,n}\\\\ \n",
    "- \\rho_1 F_{2,1}   & 1 - \\rho_2 F_{2,2}  & ...  & - \\rho_n F_{2,n} \\\\ \n",
    "...                         & ...                            & ...  & ... \\\\ \n",
    "- \\rho_1 F_{n,1}  & - \\rho_2 F_{n,1}      & ... & 1 - \\rho_n F_{n,n}\n",
    "\\end{bmatrix} \\begin{bmatrix}\n",
    "E_1\\\\ \n",
    "E_2\\\\ \n",
    "...\\\\ \n",
    "E_n\n",
    "\\end{bmatrix} = \\begin{bmatrix}\n",
    "E_{1}^{o}\\\\ \n",
    "E_{2}^{o}\\\\ \n",
    "...\\\\ \n",
    "E_{n}^{o}\n",
    "\\end{bmatrix}\n",
    "$$\n",
    "\n",
    "or\n",
    "\n",
    "$$(I - \\rho \\circ F) E = E^o$$\n",
    "\n",
    "The unknown total [irradiances](https://en.m.wikipedia.org/wiki/Irradiance) on walls, in W/m², are then\n",
    "\n",
    "$$ E = (I - \\rho \\circ F)^{-1} E^o$$\n",
    "\n",
    "where:\n",
    "\n",
    "- the symbol $\\circ$ represents the [Hadamard (or element-wise) product](https://en.wikipedia.org/wiki/Hadamard_product_(matrices));\n",
    "\n",
    "$I =\\begin{bmatrix}\n",
    "1 & 0 & ... & 0 \\\\ \n",
    "0 & 1 & ... & 0 \\\\ \n",
    "... & ... & ... & ...\\\\ \n",
    "0 & 0 & ... & 1 \n",
    "\\end{bmatrix}, $ is the [identity matrix](https://en.m.wikipedia.org/wiki/Identity_matrix);\n",
    "\n",
    "$\\rho = \\begin{bmatrix}\n",
    "\\rho_1\\\\ \n",
    "\\rho_2\\\\ \n",
    "...\\\\ \n",
    "\\rho_n\n",
    "\\end{bmatrix}$ - vector of [reflectances](https://en.m.wikipedia.org/wiki/Reflectance), $0 \\le \\rho_{i,j} \\le 1$;\n",
    "\n",
    "$F = \\begin{bmatrix}\n",
    "F_{1,1} & F_{1,2} & ... & F_{1,n}\\\\ \n",
    "F_{2,1} & F_{2,2} & ... & F_{2,n} \\\\ \n",
    "... & ... & ... & ...\\\\ \n",
    "F_{n,1} & F_{n,2} & ... & F_{n,n}\n",
    "\\end{bmatrix}$ - matrix of [view factors](https://en.m.wikipedia.org/wiki/View_factor), $0 \\le F_{i,j} \\le 1$;\n",
    "\n",
    "$E^o = \\begin{bmatrix}\n",
    "E_{1}^{o}\\\\ \n",
    "E_{2}^{o}\\\\ \n",
    "...\\\\ \n",
    "E_{n}^{o}\n",
    "\\end{bmatrix}$ - vector of [direct solar irradiances](https://en.m.wikipedia.org/wiki/Solar_irradiance), W/m²;\n",
    "\n",
    "$E = \\begin{bmatrix}\n",
    "E_1\\\\ \n",
    "E_2\\\\ \n",
    "...\\\\ \n",
    "E_n\n",
    "\\end{bmatrix}$ - vector of unknown total irradiances, W/m².\n",
    "\n",
    "\n",
    "The radiative short wave (i.e. solar) heat flow rate on each surface is:\n",
    "\n",
    "$$ \\Phi = S E $$\n",
    "\n",
    "where:\n",
    "\n",
    "$\\Phi = \\begin{bmatrix}\n",
    "\\Phi_1\\\\ \n",
    "\\Phi_2\\\\ \n",
    "...\\\\ \n",
    "\\Phi_n\n",
    "\\end{bmatrix}$ - vector of total heat flow rates due to solar radiation, W; \n",
    "\n",
    "$S =\\begin{bmatrix}\n",
    "S_1 & 0 & ... & 0 \\\\ \n",
    "0 & S_2 & ... & 0 \\\\ \n",
    "... & ... & ... & ...\\\\ \n",
    "0 & 0 & ... & S_n \n",
    "\\end{bmatrix}$ - matrix of surface areas of walls $i$, m²."
   ]
  },
  {
   "cell_type": "markdown",
   "id": "f73da6aa-fa28-45f9-9c4c-5c687c372eb7",
   "metadata": {},
   "source": [
    "## System of algebraic-differential equations (DAE)\n",
    "\n",
    "The analysis of a thermal circuit, or the direct problem ([Ghiaus 2022](https://hal.archives-ouvertes.fr/hal-03484064/document)), means to find the temperatures in the nodes, $\\theta$, and the heat flows on the branches, $q$, i.e. to solve for $\\theta$ and $q$ the system of [Differential-Algebraic Equations (DAE)](https://en.m.wikipedia.org/wiki/Differential-algebraic_system_of_equations) (Figures 3 and 4):\n",
    "\n",
    "$$\\left\\{\\begin{array}{ll}\n",
    "C \\dot{\\theta} = -(A^T G A) \\theta + A^T G b + f\\\\ \n",
    "q = G (-A \\theta + b)\n",
    "\\end{array}\\right.$$\n",
    "\n",
    "where:\n",
    "- $\\theta$ is the temperature vector of size $n_\\theta$ equal to the number of nodes;\n",
    "- $q$ - heat flow vector of size $n_q$ equal to the number of branches;\n",
    "- $A$ - [incidence matrix](https://en.m.wikipedia.org/wiki/Incidence_matrix) of size $n_q$ rows and $n_{\\theta}$ columns, where $n_q$ is the number of flow branches and $n_{\\theta}$  is the number of temperature nodes. It shows how the temperature nodes are connected by oriented branches of heat flows:\n",
    "    - if flow *m* enters into node *n*, then the element (*m, n*) of the matrix $A$ is 1, i.e., $A_{m,n} = 1$;\n",
    "    - if flow *m* exits from node *n*, then the element (*m, n*) of the matrix $A$ is -1, i.e., $A_{m,n} = -1$, ; \n",
    "    - if flow *m* is not connected to node *n*, then the element (*m, n*) of the matrix $A$ is 0, i.e., $A_{m,n} = 0$.\n",
    "\n",
    "- $G$ - conductance diagonal matrix of size $n_q \\times n_q$,  where $n_q$ is the number of flow branches: diagonal matrix containing the conductances. Each branch $k$ needs to contain a conductance $0 < G_{k,k} < \\infty $. \n",
    "\n",
    "- $C$ - capacity diagonal matrix of size $n_θ \\times n_θ$,  where $n_θ$ is the number of temperature nodes: diagonal matrix containing the capacities. If there is no capacity in the node *n*, then $C_{n, n} = 0$.\n",
    "\n",
    "- $b$ - temperature source vector of size $n_q$: if there is no temperature source on the branch *m*, then $b_m = 0$.\n",
    "\n",
    "- $f$ - heat flow source vector of size $n_θ$: if there is no heat flow source in the node *n*, then $f_n = 0$.\n",
    "\n",
    "The resolution is first done for temperatures, $\\theta$, by solving the equation\n",
    "$$C \\dot{\\theta} = -(A^T G A) \\theta + A^T G b + f$$\n",
    "which, generally, is a system of differential-algebraic equations (DAE). Then, the heat flow rates are found from the equation\n",
    "$$q = G (-A \\theta + b)$$\n"
   ]
  },
  {
   "cell_type": "markdown",
   "id": "f38edcfc-5fc1-4502-92fc-743419bae864",
   "metadata": {},
   "source": [
    "### A: incidence matrix\n",
    "\n",
    "The [incidence matrix](https://en.m.wikipedia.org/wiki/Incidence_matrix) is:\n",
    "\n",
    "$A_{kl} = \\begin{cases}\\phantom{-}\n",
    "0 & \\text{if branch } q_k \\text{ is not connected to node }  \\theta_l \\\\ \n",
    "+1 & \\text{if branch } q_k \\text{ enters into node }  \\theta_l\\\\ \n",
    "-1 & \\text{if branch } q_k \\text{ gets out of node }  \\theta_l \n",
    "\\end{cases}$\n",
    "\n",
    "For the themal circuit shown in Figure 3,\n",
    "\n",
    "$ A = \\begin{cases}\n",
    "A_{0,0} = 1\\\\ \n",
    "A_{1,0} = -1, A_{1,1} = 1\\\\ \n",
    "...\\\\\n",
    "A_{36,24} = 1\\\\\n",
    "\\end{cases}$"
   ]
  },
  {
   "cell_type": "code",
   "execution_count": null,
   "id": "ddc48b96-39cb-4233-911b-b633c00a3d70",
   "metadata": {},
   "outputs": [],
   "source": [
    "# A --> 37x25\n",
    "#              Θ0    Θ1    Θ2    Θ3    Θ4    Θ5    Θ6    Θ7    Θ8    Θ9    Θ10   Θ11   Θ12   Θ13   Θ14   Θ15   Θ16   Θ17   Θ18   Θ19   Θ20   Θ21   Θ22   Θ23   Θ24 \n",
    "A = np.array([[ 1  ,  0  ,  0  ,  0  ,  0  ,  0  ,  0  ,  0  ,  0  ,  0  ,  0  ,  0  ,  0  ,  0  ,  0  ,  0  ,  0  ,  0  ,  0  ,  0  ,  0  ,  0  ,  0  ,  0  ,  0 ],  # q0\n",
    "              [-1  ,  1  ,  0  ,  0  ,  0  ,  0  ,  0  ,  0  ,  0  ,  0  ,  0  ,  0  ,  0  ,  0  ,  0  ,  0  ,  0  ,  0  ,  0  ,  0  ,  0  ,  0  ,  0  ,  0  ,  0 ],  # q1\n",
    "              [ 0  , -1  ,  1  ,  0  ,  0  ,  0  ,  0  ,  0  ,  0  ,  0  ,  0  ,  0  ,  0  ,  0  ,  0  ,  0  ,  0  ,  0  ,  0  ,  0  ,  0  ,  0  ,  0  ,  0  ,  0 ],  # q2\n",
    "              [ 0  ,  0  , -1  ,  1  ,  0  ,  0  ,  0  ,  0  ,  0  ,  0  ,  0  ,  0  ,  0  ,  0  ,  0  ,  0  ,  0  ,  0  ,  0  ,  0  ,  0  ,  0  ,  0  ,  0  ,  0 ],  # q3\n",
    "              [ 0  ,  0  ,  0  , -1  ,  1  ,  0  ,  0  ,  0  ,  0  ,  0  ,  0  ,  0  ,  0  ,  0  ,  0  ,  0  ,  0  ,  0  ,  0  ,  0  ,  0  ,  0  ,  0  ,  0  ,  0 ],  # q4\n",
    "              [ 0  ,  0  ,  0  ,  0  ,  0  ,  1  ,  0  ,  0  ,  0  ,  0  ,  0  ,  0  ,  0  ,  0  ,  0  ,  0  ,  0  ,  0  ,  0  ,  0  ,  0  ,  0  ,  0  ,  0  ,  0 ],  # q5\n",
    "              [ 0  ,  0  ,  0  ,  0  ,  0  , -1  ,  1  ,  0  ,  0  ,  0  ,  0  ,  0  ,  0  ,  0  ,  0  ,  0  ,  0  ,  0  ,  0  ,  0  ,  0  ,  0  ,  0  ,  0  ,  0 ],  # q6\n",
    "              [ 0  ,  0  ,  0  ,  0  ,  0  ,  0  ,  0  ,  1  ,  0  ,  0  ,  0  ,  0  ,  0  ,  0  ,  0  ,  0  ,  0  ,  0  ,  0  ,  0  ,  0  ,  0  ,  0  ,  0  ,  0 ],  # q7\n",
    "              [ 0  ,  0  ,  0  ,  0  ,  0  ,  0  ,  0  , -1  ,  1  ,  0  ,  0  ,  0  ,  0  ,  0  ,  0  ,  0  ,  0  ,  0  ,  0  ,  0  ,  0  ,  0  ,  0  ,  0  ,  0 ],  # q8\n",
    "              [ 0  ,  0  ,  0  ,  0  ,  0  ,  0  ,  0  ,  0  , -1  ,  1  ,  0  ,  0  ,  0  ,  0  ,  0  ,  0  ,  0  ,  0  ,  0  ,  0  ,  0  ,  0  ,  0  ,  0  ,  0 ],  # q9\n",
    "              [ 0  ,  0  ,  0  ,  0  ,  0  ,  0  ,  0  ,  0  ,  0  , -1  ,  1  ,  0  ,  0  ,  0  ,  0  ,  0  ,  0  ,  0  ,  0  ,  0  ,  0  ,  0  ,  0  ,  0  ,  0 ],  # q10\n",
    "              [ 0  ,  0  ,  0  ,  0  ,  0  ,  0  ,  0  ,  0  ,  0  ,  0  , -1  ,  1  ,  0  ,  0  ,  0  ,  0  ,  0  ,  0  ,  0  ,  0  ,  0  ,  0  ,  0  ,  0  ,  0 ],  # q11\n",
    "              [ 0  ,  0  ,  0  ,  0  ,  0  ,  0  ,  0  ,  0  ,  0  ,  0  ,  0  ,  0  ,  1  ,  0  ,  0  ,  0  ,  0  ,  0  ,  0  ,  0  ,  0  ,  0  ,  0  ,  0  ,  0 ],  # q12\n",
    "              [ 0  ,  0  ,  0  ,  0  ,  0  ,  0  ,  0  ,  0  ,  0  ,  0  ,  0  ,  0  , -1  ,  1  ,  0  ,  0  ,  0  ,  0  ,  0  ,  0  ,  0  ,  0  ,  0  ,  0  ,  0 ],  # q13\n",
    "              [ 0  ,  0  ,  0  ,  0  ,  0  ,  0  ,  0  ,  0  ,  0  ,  0  ,  0  ,  0  ,  0  ,  0  ,  1  ,  0  ,  0  ,  0  ,  0  ,  0  ,  0  ,  0  ,  0  ,  0  ,  0 ],  # q14\n",
    "              [ 0  ,  0  ,  0  ,  0  ,  0  ,  0  ,  0  ,  0  ,  0  ,  0  ,  0  ,  0  ,  0  ,  0  , -1  ,  1  ,  0  ,  0  ,  0  ,  0  ,  0  ,  0  ,  0  ,  0  ,  0 ],  # q15\n",
    "              [ 0  ,  0  ,  0  ,  0  ,  0  ,  0  ,  0  ,  0  ,  0  ,  0  ,  0  ,  0  ,  0  ,  0  ,  0  , -1  ,  1  ,  0  ,  0  ,  0  ,  0  ,  0  ,  0  ,  0  ,  0 ],  # q16\n",
    "              [ 0  ,  0  ,  0  ,  0  ,  0  ,  0  ,  0  ,  0  ,  0  ,  0  ,  0  ,  0  ,  0  ,  0  ,  0  ,  0  , -1  ,  1  ,  0  ,  0  ,  0  ,  0  ,  0  ,  0  ,  0 ],  # q17\n",
    "              [ 0  ,  0  ,  0  ,  0  ,  0  ,  0  ,  0  ,  0  ,  0  ,  0  ,  0  ,  0  ,  0  ,  0  ,  0  ,  0  ,  0  , -1  ,  1  ,  0  ,  0  ,  0  ,  0  ,  0  ,  0 ],  # q18\n",
    "              [ 0  ,  0  ,  0  ,  0  , -1  ,  0  ,  0  ,  0  ,  0  ,  0  ,  0  ,  0  ,  0  ,  0  ,  0  ,  0  ,  0  ,  0  ,  0  ,  1  ,  0  ,  0  ,  0  ,  0  ,  0 ],  # q19\n",
    "              [ 0  ,  0  ,  0  ,  0  ,  0  ,  0  , -1  ,  0  ,  0  ,  0  ,  0  ,  0  ,  0  ,  0  ,  0  ,  0  ,  0  ,  0  ,  0  ,  1  ,  0  ,  0  ,  0  ,  0  ,  0 ],  # q20\n",
    "              [ 0  ,  0  ,  0  ,  0  ,  0  ,  0  ,  0  ,  0  ,  0  ,  0  ,  0  , -1  ,  0  ,  0  ,  0  ,  0  ,  0  ,  0  ,  0  ,  1  ,  0  ,  0  ,  0  ,  0  ,  0 ],  # q21\n",
    "              [ 0  ,  0  ,  0  ,  0  ,  0  ,  0  ,  0  ,  0  ,  0  ,  0  ,  0  ,  0  ,  0  , -1  ,  0  ,  0  ,  0  ,  0  ,  0  ,  1  ,  0  ,  0  ,  0  ,  0  ,  0 ],  # q22\n",
    "              [ 0  ,  0  ,  0  ,  0  ,  0  ,  0  ,  0  ,  0  ,  0  ,  0  ,  0  ,  0  ,  0  ,  0  ,  0  ,  0  ,  0  ,  0  , -1  ,  1  ,  0  ,  0  ,  0  ,  0  ,  0 ],  # q23\n",
    "              [ 0  ,  0  ,  0  ,  0  , -1  ,  0  ,  0  ,  0  ,  0  ,  0  ,  0  ,  0  ,  0  ,  0  ,  0  ,  0  ,  0  ,  0  ,  0  ,  0  ,  1  ,  0  ,  0  ,  0  ,  0 ],  # q24\n",
    "              [ 0  ,  0  ,  0  ,  0  ,  0  ,  0  , -1  ,  0  ,  0  ,  0  ,  0  ,  0  ,  0  ,  0  ,  0  ,  0  ,  0  ,  0  ,  0  ,  0  ,  0  ,  1  ,  0  ,  0  ,  0 ],  # q25\n",
    "              [ 0  ,  0  ,  0  ,  0  ,  0  ,  0  ,  0  ,  0  ,  0  ,  0  ,  0  , -1  ,  0  ,  0  ,  0  ,  0  ,  0  ,  0  ,  0  ,  0  ,  0  ,  0  ,  1  ,  0  ,  0 ],  # q26\n",
    "              [ 0  ,  0  ,  0  ,  0  ,  0  ,  0  ,  0  ,  0  ,  0  ,  0  ,  0  ,  0  ,  0  , -1  ,  0  ,  0  ,  0  ,  0  ,  0  ,  0  ,  0  ,  0  ,  0  ,  1  ,  0 ],  # q27\n",
    "              [ 0  ,  0  ,  0  ,  0  ,  0  ,  0  ,  0  ,  0  ,  0  ,  0  ,  0  ,  0  ,  0  ,  0  ,  0  ,  0  ,  0  ,  0  , -1  ,  0  ,  0  ,  0  ,  0  ,  0  ,  1 ],  # q28\n",
    "              [ 0  ,  0  ,  0  ,  0  ,  0  ,  0  ,  0  ,  0  ,  0  ,  0  ,  0  ,  0  ,  0  ,  0  ,  0  ,  0  ,  0  ,  0  ,  0  ,  0  , -1  ,  0  ,  1  ,  0  ,  0 ],  # q29\n",
    "              [ 0  ,  0  ,  0  ,  0  ,  0  ,  0  ,  0  ,  0  ,  0  ,  0  ,  0  ,  0  ,  0  ,  0  ,  0  ,  0  ,  0  ,  0  ,  0  ,  0  , -1  ,  0  ,  0  ,  1  ,  0 ],  # q30\n",
    "              [ 0  ,  0  ,  0  ,  0  ,  0  ,  0  ,  0  ,  0  ,  0  ,  0  ,  0  ,  0  ,  0  ,  0  ,  0  ,  0  ,  0  ,  0  ,  0  ,  0  , -1  ,  0  ,  0  ,  0  ,  1 ],  # q31\n",
    "              [ 0  ,  0  ,  0  ,  0  ,  0  ,  0  ,  0  ,  0  ,  0  ,  0  ,  0  ,  0  ,  0  ,  0  ,  0  ,  0  ,  0  ,  0  ,  0  ,  0  ,  0  , -1  ,  0  ,  0  ,  1 ],  # q32\n",
    "              [ 0  ,  0  ,  0  ,  0  ,  0  ,  0  ,  0  ,  0  ,  0  ,  0  ,  0  ,  0  ,  0  ,  0  ,  0  ,  0  ,  0  ,  0  ,  0  ,  0  ,  0  , -1  ,  0  ,  1  ,  0 ],  # q33\n",
    "              [ 0  ,  0  ,  0  ,  0  ,  0  ,  0  ,  0  ,  0  ,  0  ,  0  ,  0  ,  0  ,  0  ,  0  ,  0  ,  0  ,  0  ,  0  ,  0  ,  0  ,  0  , -1  ,  1  ,  0  ,  0 ],  # q34\n",
    "              [ 0  ,  0  ,  0  ,  0  ,  0  ,  0  ,  0  ,  0  ,  0  ,  0  ,  0  ,  0  ,  0  ,  0  ,  0  ,  0  ,  0  ,  0  ,  0  ,  0  ,  0  ,  0  , -1  ,  0  ,  1 ],  # q35\n",
    "              [ 0  ,  0  ,  0  ,  0  ,  0  ,  0  ,  0  ,  0  ,  0  ,  0  ,  0  ,  0  ,  0  ,  0  ,  0  ,  0  ,  0  ,  0  ,  0  ,  0  ,  0  ,  0  ,  0  , -1  ,  1 ]]) # q36"
   ]
  },
  {
   "cell_type": "markdown",
   "id": "07610913-51cc-48bb-be4c-706647a53e97",
   "metadata": {},
   "source": [
    "### G: conductance matrix\n",
    "\n",
    "The conductance matrix of the themal circuit shown in Figure 3 is diagonal:\n",
    "\n",
    "$ G = \\begin{cases}\n",
    "G_{0,0} = G_{7,7} = G_{ww,cv,Layer\\,out} & \\text{convection outside surface of the walls with a window}\\\\\n",
    "G_{1,1} = G_{2,2} = G_{8,8} = G_{9,9} = 2G_{ww,cd,Layer\\,out} & \\text{conduction in half width of the outer layer of the walls with a window}\\\\\n",
    "G_{3,3} = G_{4,4} = G_{10,10} = G_{11,11} = 2G_{ww,cd,Layer\\,in} & \\text{conduction in half width of the inner layer of the walls with a window}\\\\\n",
    "G_{5,5} = G_{12,12} = G_{window,cdcv} & \\text{conduction in half width and convection outside surface of the windows }\\\\\n",
    "G_{6,6} = G_{13,13} = 2G_{window,cd} & \\text{conduction in half width of the windows }\\\\\n",
    "G_{14,14} = G_{wow,cv,Layer\\,out} & \\text{convection outside surface of the walls without a window}\\\\\n",
    "G_{15,15} = G_{16,16} = 2G_{wow,cd,Layer\\,out} & \\text{conduction in half width of the outer layer of the walls without a window}\\\\\n",
    "G_{17,17} = G_{18,18} = 2G_{wow,cd,Layer\\,in} & \\text{conduction in half width of the inner layer of the walls without a window}\\\\\n",
    "G_{19,19} = G_{21,21} = G_{ww,cv,Layer\\,in} & \\text{convection inside surface of the walls with a window}\\\\\n",
    "G_{20,20} = G_{22,22} = G_{window,cv,Layer\\,in} & \\text{convection inside surface of the windows}\\\\\n",
    "G_{23,23} = G_{wow,cv,Layer\\,in} & \\text{convection inside surface of the walls without a window}\\\\\n",
    "G_{24,24} = G_{LW24} & \\text{Long wave radiation conductance}\\\\\n",
    "G_{25,25} = G_{LW25} & \\text{Long wave radiation conductance}\\\\\n",
    "G_{26,26} = G_{LW26} & \\text{Long wave radiation conductance}\\\\\n",
    "G_{27,27} = G_{LW27} & \\text{Long wave radiation conductance}\\\\\n",
    "G_{28,28} = G_{LW28} & \\text{Long wave radiation conductance}\\\\\n",
    "G_{29,29} = G_{LW29} & \\text{Long wave radiation conductance}\\\\\n",
    "G_{30,30} = G_{LW30} & \\text{Long wave radiation conductance}\\\\\n",
    "G_{31,31} = G_{LW31} & \\text{Long wave radiation conductance}\\\\\n",
    "G_{32,32} = G_{LW32} & \\text{Long wave radiation conductance}\\\\\n",
    "G_{33,33} = G_{LW33} & \\text{Long wave radiation conductance}\\\\\n",
    "G_{34,34} = G_{LW34} & \\text{Long wave radiation conductance}\\\\\n",
    "G_{35,35} = G_{LW35} & \\text{Long wave radiation conductance}\\\\\n",
    "G_{36,36} = G_{LW36} & \\text{Long wave radiation conductance}\\\\\n",
    "\\end{cases}$\n",
    "\n",
    "Note: The conductances $G_{LW24}$ to $G_{LW36}$ can be interpreted using Figures 3 and 5."
   ]
  },
  {
   "cell_type": "code",
   "execution_count": null,
   "id": "40d2c888-f16a-40d3-89b0-89aa924efcf1",
   "metadata": {},
   "outputs": [],
   "source": [
    "# G --> 37x37\n",
    "G = np.zeros((37, 37))\n",
    "# Wall with window\n",
    "G[0,0]   = G_conv_ww['out']\n",
    "G[1,1]   = G_cond_ww['Layer_out']*2\n",
    "G[2,2]   = G_cond_ww['Layer_out']*2\n",
    "G[3,3]   = G_cond_ww['Layer_in']*2\n",
    "G[4,4]   = G_cond_ww['Layer_in']*2\n",
    "# Window\n",
    "G[5,5]   = G_conv_cond_g  # Convection and conduction of window\n",
    "G[6,6]   = G_cond_ww['Window']*2\n",
    "# Wall with window\n",
    "G[7,7]   = G_conv_ww['out']\n",
    "G[8,8]   = G_cond_ww['Layer_out']*2\n",
    "G[9,9]   = G_cond_ww['Layer_out']*2\n",
    "G[10,10] = G_cond_ww['Layer_in']*2\n",
    "G[11,11] = G_cond_ww['Layer_in']*2\n",
    "# Window\n",
    "G[12,12] = G_conv_cond_g  # Convection and conduction of window\n",
    "G[13,13] = G_cond_ww['Window']*2\n",
    "# Wall without window\n",
    "G[14,14] = G_conv_wow['out']\n",
    "G[15,15] = G_cond_wow['Layer_out']*2\n",
    "G[16,16] = G_cond_wow['Layer_out']*2\n",
    "G[17,17] = G_cond_wow['Layer_in']*2\n",
    "G[18,18] = G_cond_wow['Layer_in']*2\n",
    "# Convections to inside air\n",
    "G[19,19] = G_conv_ww['in']\n",
    "G[20,20] = G_conv_g['in']\n",
    "G[21,21] = G_conv_ww['in']\n",
    "G[22,22] = G_conv_g['in']\n",
    "G[23,23] = G_conv_wow['in']\n",
    "# Long wave radiation\n",
    "G[24,24] = GLW24\n",
    "G[25,25] = GLW25\n",
    "G[26,26] = GLW26\n",
    "G[27,27] = GLW27\n",
    "G[28,28] = GLW28\n",
    "G[29,29] = GLW29\n",
    "G[30,30] = GLW30\n",
    "G[31,31] = GLW31\n",
    "G[32,32] = GLW32\n",
    "G[33,33] = GLW33\n",
    "G[34,34] = GLW34\n",
    "G[35,35] = GLW35\n",
    "G[36,36] = GLW36"
   ]
  },
  {
   "cell_type": "markdown",
   "id": "fc46045f-100d-4c10-965d-7cdadcaff1bd",
   "metadata": {},
   "source": [
    "### C: capacity matrix\n",
    "\n",
    "The capacity matrix of the themal circuit shown in Figure 3 is diagonal:\n",
    "\n",
    "$ C = \\begin{cases}\n",
    "C_{1,1} = C_{8,8} = C_{ww,Layer\\,out} & \\text{outer layer of the walls with a window}\\\\\n",
    "C_{3,3} = C_{10,10} = C_{ww,Layer\\,in} & \\text{inner layer of the walls with a window}\\\\\n",
    "C_{5,5} = C_{12,12} = C_{window} & \\text{glass of the windows}\\\\\n",
    "C_{15,15} = C_{wow,Layer\\,out} & \\text{outer layer of the wall without a window}\\\\\n",
    "C_{17,17} = C_{wow,Layer\\,in} & \\text{inner layer of the wall without a window}\\\\\n",
    "C_{19,19} = C_{Air} & \\text{air of the room}\\\\ \n",
    "\\end{cases}$"
   ]
  },
  {
   "cell_type": "code",
   "execution_count": null,
   "id": "0438823e-f4a0-427e-be03-4825378d68ee",
   "metadata": {},
   "outputs": [],
   "source": [
    "# C --> 25x25\n",
    "C = np.zeros((25, 25))\n",
    "# Wall with window\n",
    "C[1,1] = C_ww['Layer_out']\n",
    "C[3,3] = C_ww['Layer_in']\n",
    "# Window\n",
    "C[5,5] = C_ww['Window']\n",
    "# Wall with window\n",
    "C[8,8] = C_ww['Layer_out']\n",
    "C[10,10] = C_ww['Layer_in']\n",
    "# Window\n",
    "C[12,12] = C_ww['Window']\n",
    "# Wall without window\n",
    "C[15,15] = C_wow['Layer_out']\n",
    "C[17,17] = C_wow['Layer_in']\n",
    "# Inside air\n",
    "C[19,19] = C_air"
   ]
  },
  {
   "cell_type": "markdown",
   "id": "bfed7f0d-c954-42c3-9004-f168a1c4f463",
   "metadata": {},
   "source": [
    "### b: temperature source vector\n",
    "\n",
    "The vector of *temperature sources* is $b$, of size $n_q$, the number of branches (in this example 37). An element of the vector $b$ corresponding to a branch without a source is zero. If the flow in a source is from the low potential to the high potential of the source (i.e. from - to +), then the source is positive. If the flow rate in the temperature source is from high potential to low potential (i.e. from + to -), then the source is negative (see [passive sign convention](https://en.m.wikipedia.org/wiki/Passive_sign_convention)). \n",
    "\n",
    "For the thermal circuit shown in Figure 3,\n",
    "\n",
    "$$b = [\\begin{matrix}\n",
    "T_o &0  &0  &0  &0  &T_o  &0  &T_o  &0  &0  &0  &0  &T_o  &0  &T_o  &0  &...  &0\n",
    "\\end{matrix}]^T$$\n",
    "\n",
    "i.e. $b_0 = b_5 = b_7 = b_{12} = b_{14} = T_o$ where $T_o$ is the outdoor temperature, °C.\n",
    "\n",
    "Since the temperature sorces $T_o$ is a [time series](https://en.m.wikipedia.org/wiki/Time_series), in vector $b$ the branches which contain temperature sources are designated by $1$ and the branches without any temeprature source by $0$."
   ]
  },
  {
   "cell_type": "code",
   "execution_count": null,
   "id": "67d30ca8-12e7-42c3-8be8-1770bc0b7566",
   "metadata": {},
   "outputs": [],
   "source": [
    "# b --> 37x1\n",
    "b = np.zeros(37)            # nodes\n",
    "b[[0, 5, 7, 12, 14]] = 1    # nodes with temperature sources"
   ]
  },
  {
   "cell_type": "markdown",
   "id": "fc330da8-f3eb-426c-b80e-5376e1ff0c73",
   "metadata": {},
   "source": [
    "### f: heat flow source vector\n",
    "\n",
    "The vector of *heat sources* is $f$, of size $n_{\\theta}$, the number of nodes. An element of the vector $f$ corresponding to a node without a heat source is zero.\n",
    "\n",
    "For the thermal circuit shown in Figure 3,\n",
    "\n",
    "$$f = [\\begin{matrix}\n",
    "\\Phi_0 &0  &0  &0  &\\Phi_1  &\\Phi_2  &0  &\\Phi_3  &0  &0  &0  &\\Phi_4  &\\Phi_5  &0  &\\Phi_6  &0  &0  &0  &\\Phi_7  &0  &...  &0\n",
    "\\end{matrix}]^T$$\n",
    "\n",
    "i.e. $f_0 = \\Phi_0$, $f_4 = \\Phi_1$, $f_5 = \\Phi_2$, $f_7 = \\Phi_3$, $f_{11} = \\Phi_4$, $f_{12} = \\Phi_5$, $f_{14} = \\Phi_6$, $f_{18} = \\Phi_7$, where:\n",
    "- $\\Phi_0$, $\\Phi_3$ - solar radiation absorbed by the outdoor surfaces of the walls with a window;\n",
    "- $\\Phi_1$, $\\Phi_4$ - solar radiation absorbed by the indoor surfaces of the walls with a window;\n",
    "- $\\Phi_2$, $\\Phi_5$ - solar radiation absorbed by the windows.\n",
    "- $\\Phi_6$ - solar radiation absorbed by the outdoor surface of the wall without a window;\n",
    "- $\\Phi_7$ - solar radiation absorbed by the indoor surface of the wall without a window;\n",
    "\n",
    "Since the flow rate sorces $\\Phi_0$ to $\\Phi_7$ are [time series](https://en.m.wikipedia.org/wiki/Time_series), in vector $f$ the nodes which contain flow rate sources are designated by $1$ and the  nodes without any flow rate source by $0$."
   ]
  },
  {
   "cell_type": "code",
   "execution_count": null,
   "id": "78fa7ac7-3ae5-4aed-acad-f00de8a1d7a3",
   "metadata": {},
   "outputs": [],
   "source": [
    "# f --> 25x1\n",
    "f = np.zeros(25)                        # nodes\n",
    "f[[0, 4, 5, 7, 11, 12, 14, 18]] = 1     # nodes with heat-flow sources"
   ]
  },
  {
   "cell_type": "markdown",
   "id": "23f7506e-a1ec-4832-b225-979a6f5512b0",
   "metadata": {},
   "source": [
    "### y: output vector\n",
    "\n",
    "The vector of outputs is $y$, of size $n_{\\theta}$, the number of nodes (in this example 25). The non-zero values of $y$ indicate the nodes which are the outputs of the model.\n",
    "\n",
    "For the thermal circuit shown in Figure 3, if the output is the indoor air temperature, then the output vector is:\n",
    "\n",
    "$$y = [\\begin{matrix}\n",
    "0  &0  &...  &0  &\\theta_{19} \n",
    "\\end{matrix}]^T$$\n",
    "\n",
    "In vector $y$, the nodes for which the temperatures are outputs are noted by $1$ and the other nodes by $0$."
   ]
  },
  {
   "cell_type": "code",
   "execution_count": null,
   "id": "0909e3fc-3893-4b65-9f7b-b92439c16f52",
   "metadata": {},
   "outputs": [],
   "source": [
    "# y --> 25x1\n",
    "y = np.zeros(25)         # nodes\n",
    "y[[19]] = 1              # nodes (temperatures) of interest"
   ]
  },
  {
   "cell_type": "markdown",
   "id": "a6699a25-b595-489f-bbb6-8c19d99b8f70",
   "metadata": {},
   "source": [
    "## State-space representation\n",
    "The [differential-algebraic system of equations (DAE)](https://en.m.wikipedia.org/wiki/Differential-algebraic_system_of_equations)\n",
    "\n",
    "$$C \\dot{\\theta} = -(A^T G A) \\theta + A^T G b + f$$\n",
    "\n",
    "is transformed in [state-space representation](https://en.m.wikipedia.org/wiki/State-space_representation) ([Ghiaus 2013](https://hal.archives-ouvertes.fr/hal-03605823/document)):\n",
    "\n",
    "$$\\left\\{\\begin{array}{rr}\n",
    "\\dot{\\theta}_s=A_s \\theta_s + B_s u\\\\ \n",
    "y = C_s \\theta_s + D_s u\n",
    "\\end{array}\\right.$$\n",
    "\n",
    "where:\n",
    "- $\\theta_s$ is the vector of state variables which are the temperatures of nodes containing capacities; the elements are in the same order as in the vector of temperatures, $\\theta$; its dimension, $\\dim \\theta_s$, is equal to the number of capacities from the thermal network; for the circuit presented in Figure 3, $\\theta_s = [\\theta_1, \\theta_3, \\theta_6, \\theta_7]^T$;\n",
    "\n",
    "- $u = \\begin{bmatrix} b_T \\\\ f_Q\\end{bmatrix}$ - vector of inputs of dimension $\\dim u$ equal to the number of sources (of temperaure, $b_T$, and heat flows, $f_Q$) of the thermal network, where:\n",
    "\n",
    "    - vector $b_T$ of nonzero elements of vector $b$ of temperature sources; for the circuit presented in Figure 3, $b_T = [T_o, T_o, T_o, T_o, T_o]^T$ corresponds to branches 0, 5, 7, 12 and 14; \n",
    "    - vector $f_Q$ of nonzero elements of vector $f$ of flow sources; for the circuit presented in Figure 3, $f_Q = [\\Phi_0, \\Phi_1, \\Phi_2, \\Phi_3, \\Phi_4, \\Phi_5, \\Phi_6, \\Phi_7]^T$ corresponds to nodes 0, 4, 5, 7, 11, 12, 14 and 18;\n",
    "    \n",
    "- $y$ - vector of outputs, a subset of vector $\\theta$ representing temperature nodes which are of interest; for the circuit presented in Figure 3, $y = \\theta_19$, the indoor temperature.\n",
    "\n",
    "- $A_s$ - state matrix, of dimension $\\dim A_s = \\dim {\\theta_s} \\times \\dim {\\theta_s}$;\n",
    "\n",
    "- $B_s$ - input matrix, of dimension $\\dim B_s = \\dim {\\theta_s} \\times \\dim u$;\n",
    "\n",
    "- $C_s$ - output matrix, of dimension $\\dim C_s = \\dim y \\times \\dim {\\theta_s}$;\n",
    "\n",
    "- $D_s$ - feedthrough (or feedforward) matrix, of dimension $\\dim D_s = \\dim y \\times \\dim u$.\n",
    "\n",
    "*Note*: The subscript $s$ of the matrices $A_s, B_s, C_s, D_s$ is used to differentiante the matrices $A_s, C_s$ of the state-space represenation of the matrices $A, C$ of the system of DAE."
   ]
  },
  {
   "cell_type": "markdown",
   "id": "6c812227-fff0-4874-b6ab-7846b905b59f",
   "metadata": {},
   "source": [
    "The [state-space representation](https://en.m.wikipedia.org/wiki/State-space_representation), i.e., matrices $A_s, B_s, C_s, D_s$ is obtained from the system of DAE, i.e., matrices and vectors $A, G, b, C, f, y$ ([Ghiaus 2013](https://hal.archives-ouvertes.fr/hal-03605823/document))."
   ]
  },
  {
   "cell_type": "code",
   "execution_count": null,
   "id": "5e7f0e93-f86b-4889-8b34-8f5eb2328970",
   "metadata": {
    "tags": []
   },
   "outputs": [],
   "source": [
    "[As, Bs, Cs, Ds] = dm4bem.tc2ss(A, G, C, b, f, y)\n",
    "θs = ['θ1', 'θ3', 'θ5', 'θ8', 'θ10', 'θ12', 'θ15', 'θ17', 'θ19']  # state temperature nodes\n",
    "uT = ['q0', 'q5', 'q7', 'q12', 'q14']                             # temperature sources\n",
    "uQ = ['θ0', 'θ4', 'θ5', 'θ7', 'θ11', 'θ12', 'θ14', 'θ18']         # flow sources\n",
    "u = uT + uQ                                                       # inputs\n",
    "y = ['θ19']                                                       # output"
   ]
  },
  {
   "cell_type": "code",
   "execution_count": null,
   "id": "ad176ea7-8e67-49c8-a73f-28c991f2d7d5",
   "metadata": {},
   "outputs": [],
   "source": [
    "pd.DataFrame(As, index=θs, columns=θs)"
   ]
  },
  {
   "cell_type": "code",
   "execution_count": null,
   "id": "2e2938dd-54a4-48a7-9902-678f2bba6ce0",
   "metadata": {},
   "outputs": [],
   "source": [
    "pd.DataFrame(Bs, index=θs, columns=u)"
   ]
  },
  {
   "cell_type": "code",
   "execution_count": null,
   "id": "cf947745-5682-4764-a44f-d8891879406d",
   "metadata": {},
   "outputs": [],
   "source": [
    "pd.DataFrame(Cs, index=y, columns=θs)"
   ]
  },
  {
   "cell_type": "code",
   "execution_count": null,
   "id": "ad463905-a2dc-490e-a79a-8e12039b3804",
   "metadata": {},
   "outputs": [],
   "source": [
    "pd.DataFrame(Ds, index=y, columns=u)"
   ]
  },
  {
   "cell_type": "markdown",
   "id": "eacf3218-4027-4287-a79c-1c6a30df4878",
   "metadata": {},
   "source": [
    "## Steady-state\n",
    "[Steady-state](https://en.m.wikipedia.org/wiki/Steady_state) means that the term $C \\dot \\theta = 0$ in the system of DAE.\n",
    "\n",
    "In [steady-state](https://en.m.wikipedia.org/wiki/Steady_state), the model can be checked if it is incorrect. Let's consider that:\n",
    "- the outdoor temperature is $T_o = 10 \\, \\mathrm{^\\circ C}$,\n",
    "- all flow rate sources are zero."
   ]
  },
  {
   "cell_type": "code",
   "execution_count": null,
   "id": "2777ab75-e774-4b75-97ee-657931ba9022",
   "metadata": {},
   "outputs": [],
   "source": [
    "b = np.zeros(37)              # temperature sources\n",
    "b[[0, 5, 7, 12, 14]] = 10     # outdoor temperature\n",
    "f = np.zeros(25)              # flow-rate sources"
   ]
  },
  {
   "cell_type": "markdown",
   "id": "7cead9cf-6f6c-40f4-8a9f-86556eb5412d",
   "metadata": {},
   "source": [
    "*Note*: Steady-state analysis is a test of [falsification (refutability)](https://en.m.wikipedia.org/wiki/Falsifiability) of the model, not a [verification and validation](https://en.m.wikipedia.org/wiki/Verification_and_validation). If the model does not pass the steady-state test, it means that it is wrong. If the model passes the steady-state test, it does not mean that it is correct. For example, the values of the capacities in matrix $C$ or of the conductances in matrix $G$ can be wrong even when the steady-state test is passed. "
   ]
  },
  {
   "cell_type": "markdown",
   "id": "9968af85-bc1c-4ee2-922e-158bf4f9171d",
   "metadata": {},
   "source": [
    "### Steady-state from differential algebraic equations (DAE)\n",
    "The value of temperature in [steady-state](https://en.m.wikipedia.org/wiki/Steady_state) is obtained from the system of DAE by considering that $C \\dot{\\theta} = 0$:\n",
    "\n",
    "$$\\theta_{ss} = (A^T G A)^{-1}(A^T G b + f)$$\n"
   ]
  },
  {
   "cell_type": "code",
   "execution_count": null,
   "id": "89ad0e24-5f28-4d18-881f-eba42b4bd678",
   "metadata": {},
   "outputs": [],
   "source": [
    "θ = np.linalg.inv(A.T @ G @ A) @ (A.T @ G @ b + f)\n",
    "print(f'θ = {θ} °C')"
   ]
  },
  {
   "cell_type": "markdown",
   "id": "89cf3320-f7b6-4506-953e-889887e6e40a",
   "metadata": {},
   "source": [
    "### Steady-state from state-space representation\n",
    "The input vector $u$ is obtained by stacking the vectors $b_T$ and $f_Q$:\n",
    "\n",
    "$$u = \\begin{bmatrix} b_T \\\\ f_Q\\end{bmatrix}$$\n",
    "\n",
    "*Note*: Zero in vectors $b$ and $f$ indicates that there is no source on the branch or in the node, respectively. However, a source can have the value zero."
   ]
  },
  {
   "cell_type": "code",
   "execution_count": null,
   "id": "907f84b9-065e-40a0-871c-ed482d824736",
   "metadata": {},
   "outputs": [],
   "source": [
    "bT = np.array([10, 10, 10, 10, 10])     # [To, To, To, To, To]\n",
    "fQ = np.array([0, 0, 0, 0, 0, 0, 0, 0])         # [Φ0, Φ1, Φ2, Φ3, Φ4, Φ5, Φ6, Φ7]\n",
    "u = np.hstack([bT, fQ])\n",
    "print(f'u = {u}')"
   ]
  },
  {
   "cell_type": "markdown",
   "id": "cc1882ae-bbc8-4af5-9728-bb06d376450d",
   "metadata": {},
   "source": [
    "The steady-state value of the output of the state-space representation is obtained when $\\dot \\theta_{C} = 0$:\n",
    "\n",
    "$$y_{ss} = (-C_s A_s^{-1} B_s + D_s) u$$"
   ]
  },
  {
   "cell_type": "code",
   "execution_count": null,
   "id": "d508fc72-9519-4601-a5ca-25fa11f3d7d0",
   "metadata": {},
   "outputs": [],
   "source": [
    "yss = (-Cs @ np.linalg.inv(As) @ Bs + Ds) @ u\n",
    "print(f'yss = {yss} °C')"
   ]
  },
  {
   "cell_type": "markdown",
   "id": "16d93486-8da0-46e9-b3c2-9ca06e2f7a34",
   "metadata": {},
   "source": [
    "The error between the steady-state values obtained from the system of DAE, $\\theta_6$, and the output of the state-space representation, $y_{ss}$, \n",
    "\n",
    "$$\\varepsilon = \\left | \\theta_6 - y_{ss} \\right |$$\n",
    "\n",
    "is practically zero; the slight difference is due to [numerical errors](https://en.m.wikipedia.org/wiki/Numerical_error)."
   ]
  },
  {
   "cell_type": "code",
   "execution_count": null,
   "id": "4e6a78de-6f14-4d95-b08a-20f89d3fa667",
   "metadata": {},
   "outputs": [],
   "source": [
    "print(f'Max error between DAE and state-space: \\\n",
    "{max(abs(θ[19] - yss)):.2e} °C')"
   ]
  },
  {
   "cell_type": "markdown",
   "id": "cef48356-f037-454b-ba23-a0e8200efd45",
   "metadata": {},
   "source": [
    "## Dynamic simulation"
   ]
  },
  {
   "cell_type": "markdown",
   "id": "48fde621-d2ff-4207-99af-1bce9dfa2371",
   "metadata": {},
   "source": [
    "### Time step\n",
    "\n",
    "The condition for [numerical stability](https://en.m.wikipedia.org/wiki/Euler_method#Numerical_stability) of [Euler explicit integration](https://en.m.wikipedia.org/wiki/Numerical_methods_for_ordinary_differential_equations#Euler_method) method is\n",
    "\n",
    "$$\\left |  \\lambda_i \\Delta t + 1 \\right | < 1, \\forall \\lambda_i, $$\n",
    "\n",
    "i.e. in the complex plane, $\\lambda_i \\Delta t$ is inside a circle of radius 1 centered in {-1, 0j}, where:\n",
    "- $\\lambda_i$ are the eigenvalues of matrix $A_s$,\n",
    "- $\\Delta t$ - time step.\n",
    "\n",
    "For positive real eigenvalues $\\left \\{ \\lambda \\in \\Re |\\lambda >0  \\right \\}$, which is the case of thermal networks, the above condition [becomes](http://www.math.iit.edu/~fass/478578_Chapter_4.pdf)\n",
    "\n",
    "$$- \\lambda_i \\Delta t - 1  < 1, \\forall \\lambda_i, $$\n",
    "\n",
    "or\n",
    "\n",
    "$$ 0 < \\Delta t < -\\frac{2}{\\min \\lambda_i} = 2 \\min -\\frac{1}{\\lambda_i} = 2 \\min T_i$$\n",
    "\n",
    "where $T_i$ are the [time constants](https://en.m.wikipedia.org/wiki/Time_constant), $T_i = - \\frac{1}{\\lambda_i} $"
   ]
  },
  {
   "cell_type": "code",
   "execution_count": null,
   "id": "263cf71d-bc6c-4695-bce6-0b3ee9cebae6",
   "metadata": {},
   "outputs": [],
   "source": [
    "λ = np.linalg.eig(As)[0]    # eigenvalues of matrix As\n",
    "λ = np.sort(λ)\n",
    "\n",
    "print('Time constants:') \n",
    "print([f'{T:.2f} s' for T in -1 / λ])\n",
    "\n",
    "print('\\n2 x Time constants:') \n",
    "print([f'{T:.2f} s' for T in -2 / λ])\n",
    "\n",
    "dtmax = 2 * min(-1. / λ)\n",
    "print(f'\\nMaximum time step: {dtmax:.2f} s = {dtmax / 60:.2f} min')"
   ]
  },
  {
   "cell_type": "markdown",
   "id": "8afcd5e9-f603-49a1-99d3-76a500502960",
   "metadata": {},
   "source": [
    "Let's chose a time step smaller than $\\Delta t_{max} = \\min (-2 / \\lambda_i) $."
   ]
  },
  {
   "cell_type": "code",
   "execution_count": null,
   "id": "714aeb8b-0549-47f5-ae4a-7e44f18626d5",
   "metadata": {},
   "outputs": [],
   "source": [
    "# time step\n",
    "dt = np.floor(dtmax / 60) * 60   # s\n",
    "print(f'dt = {dt} s = {dt / 60:.0f} min')"
   ]
  },
  {
   "cell_type": "markdown",
   "id": "e2f267fb-35a3-401e-a60b-903da6457010",
   "metadata": {},
   "source": [
    "Since the calculated time step is very close to the maximum time step, we use a time step of 25 minutes to guarantee numerical stability."
   ]
  },
  {
   "cell_type": "code",
   "execution_count": null,
   "id": "8e1e9e12-764e-4126-93d9-9f7c7f71bb2e",
   "metadata": {},
   "outputs": [],
   "source": [
    "# time step\n",
    "dt = 25 * 60\n",
    "print(f'dt = {dt} s = {dt / 60:.0f} min')"
   ]
  },
  {
   "cell_type": "markdown",
   "id": "8a4c6427-9d8f-4d32-8006-eeaed2b0b216",
   "metadata": {},
   "source": [
    "### Settling time\n",
    "The [settling time](https://en.m.wikipedia.org/wiki/Step_response) is roughly 4 times the larger time constant."
   ]
  },
  {
   "cell_type": "code",
   "execution_count": null,
   "id": "8b54d3a1-2688-48dc-914c-9ce2b18386a6",
   "metadata": {},
   "outputs": [],
   "source": [
    "# settling time\n",
    "time_const = np.array([int(x) for x in sorted(-1 / λ)])\n",
    "print('4 * Time constants: \\n', 4 * time_const, 's \\n')\n",
    "\n",
    "t_settle = 4 * max(-1 / λ)\n",
    "print(f'Settling time: \\\n",
    "{t_settle:.0f} s = \\\n",
    "{t_settle / 60:.1f} min = \\\n",
    "{t_settle / (3600):.2f} h = \\\n",
    "{t_settle / (3600 * 24):.2f} days')"
   ]
  },
  {
   "cell_type": "markdown",
   "id": "fc53f93f-dbbe-4e90-9a8e-ef45a397437f",
   "metadata": {},
   "source": [
    "### Step response\n",
    "Let's obtain the dynamic response of the system to a [step input](https://en.m.wikipedia.org/wiki/Step_response).\n",
    "\n",
    "#### Duration\n",
    "The duration of the simulation needs to be larger than the estimated [settling time](https://en.m.wikipedia.org/wiki/Settling_time). This requires a corresponding number of time steps in the time vector."
   ]
  },
  {
   "cell_type": "code",
   "execution_count": null,
   "id": "a7df87c7-b472-443e-a03a-ef304e78ebc4",
   "metadata": {},
   "outputs": [],
   "source": [
    "# Step response\n",
    "# -------------\n",
    "# duration: next multiple of 3600 s that is larger than t_settle\n",
    "duration = np.ceil(t_settle / 3600) * 3600\n",
    "n = int(np.floor(duration / dt))    # number of time steps\n",
    "t = np.arange(0, n * dt, dt)        # time vector for n time steps\n",
    "\n",
    "print(f'Duration = {duration} s')\n",
    "print(f'Number of time steps = {n}')\n",
    "# pd.DataFrame(t, columns=['time'])"
   ]
  },
  {
   "cell_type": "markdown",
   "id": "17f2c69e-61c3-4559-a2af-fa0384811797",
   "metadata": {},
   "source": [
    "#### Input vector\n",
    "In dynamic simulation, the inputs are [time series](https://en.m.wikipedia.org/wiki/Time_series), e.g., the oudoor temperature will have $n$ values $T_o = [T_{o(0)}, T_{o(1)}, ..., T_{o(n-1)}]$ at [discrete time](https://en.m.wikipedia.org/wiki/Discrete_time_and_continuous_time#Discrete_time) $t = [t_0, t_1, ... , t_{n-1}]$.\n",
    "\n",
    "The input vector $u$ of the state-space representation is obtained by stacking the vectors $b_T$ and $f_Q$ of the system of Differential Algebraic Equations:\n",
    "\n",
    "$$u = \\begin{bmatrix} b_T \\\\ f_Q\\end{bmatrix}$$\n",
    "\n",
    "where:\n",
    "- vector $b_T$ consists of the nonzero elements of vector $b$ of temperature sources; for the circuit presented in Figure 3, \n",
    "\n",
    "$$b = [\\begin{matrix}\n",
    "T_o &0  &0  &0  &0  &T_o  &0  &T_o  &0  &0  &0  &0  &T_o  &0  &T_o  &0  &...  &0\n",
    "\\end{matrix}]^T$$\n",
    "and \n",
    "$$b_T = [T_o, T_o, T_o, T_o, T_o]^T$$\n",
    "corresponding to branches 0, 5, 7, 12 and 14; \n",
    "- vector $f_Q$ is the nonzero elements of vector $f$ of flow sources; for the circuit presented in Figure 3,\n",
    "\n",
    "$$f = [\\begin{matrix}\n",
    "\\Phi_0 &0  &0  &0  &\\Phi_1  &\\Phi_2  &0  &\\Phi_3  &0  &0  &0  &\\Phi_4  &\\Phi_5  &0  &\\Phi_6  &0  &0  &0  &\\Phi_7  &0  &...  &0\n",
    "\\end{matrix}]^T$$\n",
    "\n",
    "and\n",
    "\n",
    "$$f_Q = [\\Phi_0, \\Phi_1, \\Phi_2, \\Phi_3, \\Phi_4, \\Phi_5, \\Phi_6, \\Phi_7]^T$$\n",
    "\n",
    "corresponding to nodes 0, 4, 5, 7, 11, 12, 14 and 18.\n",
    "\n",
    "For the thermal circuit shown in Figure 3, the [time series](https://en.m.wikipedia.org/wiki/Time_series) of the input vector, $u = [u_0, u_1, ... , u_{n-1}]^T$, is:\n",
    "\n",
    "$$u = \n",
    "\\begin{bmatrix}\n",
    "T_o\\\\ \n",
    "T_o\\\\ \n",
    "T_o\\\\ \n",
    "T_o\\\\ \n",
    "\\Phi_0\\\\ \n",
    "\\Phi_1\\\\ \n",
    "\\Phi_2\\\\ \n",
    "\\Phi_3\\\\\n",
    "\\Phi_4\\\\\n",
    "\\Phi_5\\\\\n",
    "\\Phi_6\\\\\n",
    "\\Phi_7\\\\\n",
    "\\end{bmatrix}\n",
    "= \\begin{bmatrix}\n",
    "T_{o(0)} & T_{o(1)}& ... & T_{o(n-1)}\\\\ \n",
    "T_{o(0)} & T_{o(1)}& ... & T_{o(n-1)}\\ \\\\ \n",
    "T_{o(0)} & T_{o(1)}& ... & T_{o(n-1)}\\ \\\\ \n",
    "T_{o(0)} & T_{o(1)}& ... & T_{o(n-1)}\\ \\\\ \n",
    "\\Phi_{0(0)} & \\Phi_{0(1)} & ... & \\Phi_{0(n-1)}\\\\\n",
    "\\Phi_{1(0)} & \\Phi_{1(1)} & ... & \\Phi_{1(n-1)}\\\\\n",
    "\\Phi_{2(0)} & \\Phi_{2(1)} & ... & \\Phi_{2(n-1)}\\\\\n",
    "\\Phi_{3(0)} & \\Phi_{3(1)} & ... & \\Phi_{3(n-1)}\\\\\n",
    "\\Phi_{4(0)} & \\Phi_{4(1)} & ... & \\Phi_{4(n-1)}\\\\\n",
    "\\Phi_{5(0)} & \\Phi_{5(1)} & ... & \\Phi_{5(n-1)}\\\\\n",
    "\\Phi_{6(0)} & \\Phi_{6(1)} & ... & \\Phi_{6(n-1)}\\\\\n",
    "\\Phi_{7(0)} & \\Phi_{7(1)} & ... & \\Phi_{7(n-1)}\\\\\n",
    "\\end{bmatrix}$$\n",
    "\n",
    "where:\n",
    "- $T_o = [T_{o(0)}, T_{o(1)}, ..., T_{o(n-1)}]$ is the [time series](https://en.m.wikipedia.org/wiki/Time_series) of the oudoor temperature at [discrete time](https://en.m.wikipedia.org/wiki/Discrete_time_and_continuous_time#Discrete_time) $t = [t_0, t_1, ... , t_{n-1}]$.\n",
    "\n",
    "- $\\Phi_0 = [\\Phi_{0(0)}, \\Phi_{0(1)}, ..., \\Phi_{0(n-1)}]$ is the [time series](https://en.m.wikipedia.org/wiki/Time_series) of the solar radiation absorbed by the outdoor surface of the wall (1) with a window at [discrete time](https://en.m.wikipedia.org/wiki/Discrete_time_and_continuous_time#Discrete_time) $t = [t_0, t_1, ... , t_{n-1}]$.\n",
    "\n",
    "- $\\Phi_1 = [\\Phi_{1(0)}, \\Phi_{1(1)}, ..., \\Phi_{1(n-1)}]$ is the [time series](https://en.m.wikipedia.org/wiki/Time_series) of the solar radiation absorbed by the inner surface of the wall (1) with a window at [discrete time](https://en.m.wikipedia.org/wiki/Discrete_time_and_continuous_time#Discrete_time) $t = [t_0, t_1, ... , t_{n-1}]$.\n",
    "\n",
    "- $\\Phi_2 = [\\Phi_{2(0)}, \\Phi_{2(1)}, ..., \\Phi_{2(n-1)}]$ is the [time series](https://en.m.wikipedia.org/wiki/Time_series) of the solar radiation absorbed by the window (2) at [discrete time](https://en.m.wikipedia.org/wiki/Discrete_time_and_continuous_time#Discrete_time) $t = [t_0, t_1, ... , t_{n-1}]$.\n",
    "\n",
    "- $\\Phi_3 = [\\Phi_{3(0)}, \\Phi_{3(1)}, ..., \\Phi_{3(n-1)}]$ is the [time series](https://en.m.wikipedia.org/wiki/Time_series) of the solar radiation absorbed by the outdoor surface of the wall (3) with a window at [discrete time](https://en.m.wikipedia.org/wiki/Discrete_time_and_continuous_time#Discrete_time) $t = [t_0, t_1, ... , t_{n-1}]$.\n",
    "\n",
    "- $\\Phi_4 = [\\Phi_{4(0)}, \\Phi_{4(1)}, ..., \\Phi_{4(n-1)}]$ is the [time series](https://en.m.wikipedia.org/wiki/Time_series) of the solar radiation absorbed by the inner surface of the wall (3) with a window at [discrete time](https://en.m.wikipedia.org/wiki/Discrete_time_and_continuous_time#Discrete_time) $t = [t_0, t_1, ... , t_{n-1}]$.\n",
    "\n",
    "- $\\Phi_5 = [\\Phi_{5(0)}, \\Phi_{5(1)}, ..., \\Phi_{5(n-1)}]$ is the [time series](https://en.m.wikipedia.org/wiki/Time_series) of the solar radiation absorbed by the window (4) at [discrete time](https://en.m.wikipedia.org/wiki/Discrete_time_and_continuous_time#Discrete_time) $t = [t_0, t_1, ... , t_{n-1}]$.\n",
    "\n",
    "- $\\Phi_6 = [\\Phi_{6(0)}, \\Phi_{6(1)}, ..., \\Phi_{6(n-1)}]$ is the [time series](https://en.m.wikipedia.org/wiki/Time_series) of the solar radiation absorbed by the outdoor surface of the wall (5) without a window at [discrete time](https://en.m.wikipedia.org/wiki/Discrete_time_and_continuous_time#Discrete_time) $t = [t_0, t_1, ... , t_{n-1}]$.\n",
    "\n",
    "- $\\Phi_7 = [\\Phi_{7(0)}, \\Phi_{7(1)}, ..., \\Phi_{7(n-1)}]$ is the [time series](https://en.m.wikipedia.org/wiki/Time_series) of the solar radiation absorbed by the inner surface of the wall (5) without a window at [discrete time](https://en.m.wikipedia.org/wiki/Discrete_time_and_continuous_time#Discrete_time) $t = [t_0, t_1, ... , t_{n-1}]$.\n",
    "\n",
    "Note: The numbering of the walls and windows in the listing above refers to the numbering in Figures 3 and 5.\n",
    "\n",
    "Let's consider a step response in the conditions used for steady-state analysis, i.e. $T_o = 10 \\, \\mathrm{^\\circ C}$, and all the flow sources zero."
   ]
  },
  {
   "cell_type": "code",
   "execution_count": null,
   "id": "f20a5cee-4d51-4507-886f-08429aef86de",
   "metadata": {},
   "outputs": [],
   "source": [
    "u = np.zeros([n, 13])               # u = [To To To To To Φ0 Φ1 Φ2 Φ3 Φ4 Φ5 Φ6 Φ7]\n",
    "u[:, 0:5] = 10 * np.ones([n, 5])    # To = 10 for n time steps\n",
    "\n",
    "pd.DataFrame(u)"
   ]
  },
  {
   "cell_type": "markdown",
   "id": "5dbf3194-81ae-4729-911f-a0d8d1ba7f5b",
   "metadata": {},
   "source": [
    "#### Time integration"
   ]
  },
  {
   "cell_type": "markdown",
   "id": "78b34d69-ba47-4f01-a74e-753ad77d3684",
   "metadata": {},
   "source": [
    "The state-space model\n",
    "\n",
    "$$\\left\\{\\begin{array}{rr}\n",
    "\\dot{\\theta}_C=A_s \\theta_C + B_s u\\\\ \n",
    "y = C_s \\theta_C + D_s u\n",
    "\\end{array}\\right.$$\n",
    "\n",
    "is integrated in time by using [Euler forward (or explicit) method](https://en.m.wikipedia.org/wiki/Numerical_methods_for_ordinary_differential_equations#Euler_method) for numerical integration:\n",
    "\n",
    "$$ \\theta_{s,k+1} = (I + \\Delta t A) \\theta_{s,k} + \\Delta t B u_k $$\n",
    "\n",
    "and [Euler backward (or implicit) method](https://en.m.wikipedia.org/wiki/Numerical_methods_for_ordinary_differential_equations#Backward_Euler_method) for numerical integration:\n",
    "\n",
    "$$\\theta_{s,k+1} = (I - \\Delta t A)^{-1} ( \\theta_{s,k} + \\Delta t B u_k )$$\n",
    "\n",
    "where $k = 0, ... , n - 1$."
   ]
  },
  {
   "cell_type": "code",
   "execution_count": null,
   "id": "32c56126-d693-4803-acc1-fd5c174cb92f",
   "metadata": {},
   "outputs": [],
   "source": [
    "# initial conditions\n",
    "n_s = As.shape[0]                      # number of state variables\n",
    "θ_exp = np.zeros([n_s, t.shape[0]])    # explicit Euler in time t\n",
    "θ_imp = np.zeros([n_s, t.shape[0]])    # implicit Euler in time t\n",
    "\n",
    "# time integration\n",
    "I = np.eye(n_s)                        # identity matrix\n",
    "\n",
    "# numerical integration with explicit and implicit euler\n",
    "for k in range(n - 1):\n",
    "    θ_exp[:, k + 1] = (I + dt * As) @ θ_exp[:, k]\\\n",
    "        + dt * Bs @ u[k, :]\n",
    "    θ_imp[:, k + 1] = np.linalg.inv(I - dt * As) @ (θ_imp[:, k]\\\n",
    "        + dt * Bs @ u[k, :])   "
   ]
  },
  {
   "cell_type": "markdown",
   "id": "e9a20ba5-441b-4c8a-acbb-a9cd60c12596",
   "metadata": {},
   "source": [
    "Then, we obtain the outputs\n",
    "\n",
    "$$ y = C_s \\theta_s + D_s u$$\n",
    "\n",
    "for explicit and for implicit Euler methods, respectively."
   ]
  },
  {
   "cell_type": "code",
   "execution_count": null,
   "id": "ad16264b-88d1-442e-8871-457145df2b95",
   "metadata": {},
   "outputs": [],
   "source": [
    "# outputs\n",
    "y_exp = Cs @ θ_exp + Ds @  u.T\n",
    "y_imp = Cs @ θ_imp + Ds @  u.T"
   ]
  },
  {
   "cell_type": "markdown",
   "id": "8dd962a5-2b46-4d35-9a97-66a95e7f631b",
   "metadata": {},
   "source": [
    "The results of explicit and implicit Euler integration are practically identical."
   ]
  },
  {
   "cell_type": "code",
   "execution_count": null,
   "id": "972e68d4-a2ae-4778-b2f8-b8fd61433c3b",
   "metadata": {},
   "outputs": [],
   "source": [
    "fig, ax = plt.subplots()\n",
    "ax.plot(t / 3600, y_exp.T, t / 3600, y_imp.T)\n",
    "ax.set(xlabel='Time, $t$ / h',\n",
    "       ylabel='Temperatue, $θ_i$ / °C',\n",
    "       title='Step input: outdoor temperature $T_o$')\n",
    "ax.legend(['Explicit', 'Implicit'])\n",
    "ax.grid()\n",
    "plt.show()"
   ]
  },
  {
   "cell_type": "markdown",
   "id": "f6aa8a5c-1459-48e7-b916-dcb261ad7429",
   "metadata": {},
   "source": [
    "> Figure 8. Step response to outdoor temperature by using Euler\n",
    "[implicit](https://en.m.wikipedia.org/wiki/Numerical_methods_for_ordinary_differential_equations#Backward_Euler_method)\n",
    "and\n",
    "[explicit](https://en.m.wikipedia.org/wiki/Numerical_methods_for_ordinary_differential_equations#Euler_method) integration.\n",
    "\n",
    "The value the indoor temperature obtained after the [settling time](https://en.m.wikipedia.org/wiki/Settling_time) is almost equal to the value obtained in steady-state."
   ]
  },
  {
   "cell_type": "code",
   "execution_count": null,
   "id": "009155b1-2803-488a-a99f-a78718200bae",
   "metadata": {},
   "outputs": [],
   "source": [
    "print('Steady-state indoor temperature obtained with:')\n",
    "print(f'- DAE model: {float(θ[6]):.4f} °C')\n",
    "print(f'- state-space model: {float(yss):.4f} °C')\n",
    "print(f'- steady-state response to step input: {float(y_exp[:, -2]):.4f} °C')"
   ]
  },
  {
   "cell_type": "markdown",
   "id": "697e152e-29cb-46ed-b125-89987a10d9cb",
   "metadata": {},
   "source": [
    "### Simulation with weather data"
   ]
  },
  {
   "cell_type": "markdown",
   "id": "b1690b88-0d1c-48a0-835c-b13c1fe2f32f",
   "metadata": {},
   "source": [
    "#### Start and end time\n",
    "The simulation will be done from `start_date` to `end_date` indicated in the format `MM-DD HH:MM:SS` (month, day, hour:minute:second)."
   ]
  },
  {
   "cell_type": "code",
   "execution_count": null,
   "id": "d7482d01-9622-4d13-a90f-58815feb7772",
   "metadata": {},
   "outputs": [],
   "source": [
    "start_date = '02-01 12:00:00'\n",
    "end_date = '02-07 18:00:00'"
   ]
  },
  {
   "cell_type": "markdown",
   "id": "a593e77f-0bb6-4c10-8656-db1d20c8e7d5",
   "metadata": {},
   "source": [
    "The weather data are for a year. The choice of `2000` for the year is arbitrary; it used in order to respect the format `YYYY-MM-DD HH:MM:SS`."
   ]
  },
  {
   "cell_type": "code",
   "execution_count": null,
   "id": "59ebe5d3-da27-414a-ba24-63383e1a5e0f",
   "metadata": {},
   "outputs": [],
   "source": [
    "start_date = '2000-' + start_date\n",
    "end_date = '2000-' + end_date\n",
    "print(f'{start_date} \\tstart date')\n",
    "print(f'{end_date} \\tend date')"
   ]
  },
  {
   "cell_type": "markdown",
   "id": "7e473251-bc11-4caf-909b-b1fa182f2faf",
   "metadata": {},
   "source": [
    "#### Inputs\n",
    "##### Read weather data\n",
    "Dynamic simulation needs [time series](https://en.m.wikipedia.org/wiki/Time_series) of weather data for air temperature, direct solar radiation on a normal surface and diffuse solar radiation on an horizontal surface (see the tutorial on [Weather data and solar radiation](../t01/t01ReadWeatherData.ipynb)).\n",
    "\n",
    "From the weather data, we select:\n",
    "- hourly outdoor air temperature, °C;\n",
    "- hourly solar [direct normal irradiance](https://en.m.wikipedia.org/wiki/Direct_insolation) (or beam radiation), W/m²;\n",
    "- hourly solar diffuse horizontal irradiance (or [diffuse sky radiation](https://en.wikipedia.org/wiki/Diffuse_sky_radiation)), W/m²."
   ]
  },
  {
   "cell_type": "code",
   "execution_count": null,
   "id": "afe391b7-73a4-42f8-a800-6403996d4a23",
   "metadata": {},
   "outputs": [],
   "source": [
    "filename = './weather_data/FRA_Lyon.074810_IWEC.epw'\n",
    "[data, meta] = dm4bem.read_epw(filename, coerce_year=None)\n",
    "weather = data[[\"temp_air\", \"dir_n_rad\", \"dif_h_rad\"]]\n",
    "del data"
   ]
  },
  {
   "cell_type": "markdown",
   "id": "058333c6-260b-48a0-8ae7-458b21ebc195",
   "metadata": {},
   "source": [
    "The year is set to `2000` by convention and the data is selected from start to end."
   ]
  },
  {
   "cell_type": "code",
   "execution_count": null,
   "id": "c198741d-ceb0-4dd4-9eca-5464567ce4bd",
   "metadata": {},
   "outputs": [],
   "source": [
    "weather.index = weather.index.map(lambda t: t.replace(year=2000))\n",
    "weather = weather.loc[start_date:end_date]"
   ]
  },
  {
   "cell_type": "markdown",
   "id": "111fce4e-2af1-4d73-9624-b1526da86aa6",
   "metadata": {},
   "source": [
    "##### Solar irradiance on the walls\n",
    "For the surface orientation given by `slope`, `azimuth`and `latitude`, and the `albedo` of the surface in front of the wall, by using the weather data, we can calculate the:\n",
    "- direct irradiance, W/m²,\n",
    "- diffuse irradiance, W/m²,\n",
    "- reflected irradiance, W/m²,\n",
    "​\n",
    "for hourly solar [irradiance](https://en.m.wikipedia.org/wiki/Solar_irradiance) on a tilted surface.\n",
    "\n",
    "<div>\n",
    "<img src=\"./figures_project/geographicalOrientationBuilding.png\" width=\"800\"/>\n",
    "</div>\n",
    "\n",
    "> Figure 9. Geographical orientation of the cubic building.\n",
    "\n",
    "Note: The numbering of the walls and windows in the listing above refers to the numbering in Figures 3 and 5."
   ]
  },
  {
   "cell_type": "code",
   "execution_count": null,
   "id": "a2478192-efa1-4aa5-8c2d-2a33d7c8a04d",
   "metadata": {},
   "outputs": [],
   "source": [
    "surfaceOrientation_wow5 = {'slope': 0,\n",
    "                           'azimuth': 0,   # Not relevant as slope is 0 degrees\n",
    "                           'latitude': 45}\n",
    "\n",
    "surfaceOrientation_ww12 = {'slope': 90,\n",
    "                          'azimuth': 270,\n",
    "                          'latitude': 45}\n",
    "\n",
    "surfaceOrientation_ww34 = {'slope': 90,\n",
    "                          'azimuth': 180,\n",
    "                          'latitude': 45}\n",
    "\n",
    "albedo = 0.2\n",
    "rad_surf_wow5 = dm4bem.sol_rad_tilt_surf(weather, surfaceOrientation_wow5, albedo)\n",
    "rad_surf_ww12  = dm4bem.sol_rad_tilt_surf(weather, surfaceOrientation_ww12, albedo)\n",
    "rad_surf_ww34  = dm4bem.sol_rad_tilt_surf(weather, surfaceOrientation_ww34, albedo)"
   ]
  },
  {
   "cell_type": "markdown",
   "id": "e13a2a17-59e0-4b9e-b1b7-2c045e9ad1af",
   "metadata": {},
   "source": [
    "The total solar [irradiance](https://en.m.wikipedia.org/wiki/Solar_irradiance)  $E_{tot}$, in W/m², is the sum of direct, diffuse, and reflected components. "
   ]
  },
  {
   "cell_type": "code",
   "execution_count": null,
   "id": "ec7d18bc-9824-4966-b3a9-7a9fd0f7828b",
   "metadata": {},
   "outputs": [],
   "source": [
    "rad_surf_wow5['Φtot_wow5'] = rad_surf_wow5.sum(axis=1)\n",
    "rad_surf_ww12['Φtot_ww12']  = rad_surf_ww12.sum(axis=1)\n",
    "rad_surf_ww34['Φtot_ww34']  = rad_surf_ww34.sum(axis=1)"
   ]
  },
  {
   "cell_type": "markdown",
   "id": "3578a104-46c5-424d-a7b9-2947a59ccc86",
   "metadata": {},
   "source": [
    "##### Resample the weather data\n",
    "The weather data is at the time-step of 1h. It needs to be resampled at time step $\\Delta t$ used for numerical integration."
   ]
  },
  {
   "cell_type": "code",
   "execution_count": null,
   "id": "d254b984-c969-4dfd-80b1-fbdb92a06ca7",
   "metadata": {},
   "outputs": [],
   "source": [
    "# resample weather data\n",
    "data = pd.concat([weather['temp_air'], rad_surf_wow5['Φtot_wow5'], rad_surf_ww12['Φtot_ww12'], rad_surf_ww34['Φtot_ww34']], axis=1)\n",
    "data = data.resample(str(dt) + 'S').interpolate(method='linear', limit_direction='both')\n",
    "data = data.rename(columns={'temp_air': 'To'})\n",
    "data = data.rename_axis('Time')\n",
    "pd.DataFrame(data)"
   ]
  },
  {
   "cell_type": "markdown",
   "id": "ddf82202-0dfe-419a-8448-69f3b558eab8",
   "metadata": {},
   "source": [
    "##### Input vector in time\n",
    "The input is formed by the vectors of time series of temperature sources $\\left [ T_o, T_o ,T_o, T_o, To \\right ]^T$ and vectors of time series of the heat flow sources $\\left [ \\Phi_0, \\Phi_1, \\Phi_2, \\Phi_3, \\Phi_4 ,\\Phi_5 ,\\Phi_5, \\Phi_7 \\right ]^T$:\n",
    "\n",
    "$$u = \n",
    "\\begin{bmatrix}\n",
    "T_o\\\\ \n",
    "T_o\\\\ \n",
    "T_o\\\\ \n",
    "T_o\\\\ \n",
    "\\Phi_0\\\\ \n",
    "\\Phi_1\\\\ \n",
    "\\Phi_2\\\\ \n",
    "\\Phi_3\\\\\n",
    "\\Phi_4\\\\\n",
    "\\Phi_5\\\\\n",
    "\\Phi_6\\\\\n",
    "\\Phi_7\\\\\n",
    "\\end{bmatrix}\n",
    "= \\begin{bmatrix}\n",
    "T_{o(0)} & T_{o(1)}& ... & T_{o(n-1)}\\\\ \n",
    "T_{o(0)} & T_{o(1)}& ... & T_{o(n-1)}\\ \\\\ \n",
    "T_{o(0)} & T_{o(1)}& ... & T_{o(n-1)}\\ \\\\ \n",
    "T_{o(0)} & T_{o(1)}& ... & T_{o(n-1)}\\ \\\\ \n",
    "\\Phi_{0(0)} & \\Phi_{0(1)} & ... & \\Phi_{0(n-1)}\\\\\n",
    "\\Phi_{1(0)} & \\Phi_{1(1)} & ... & \\Phi_{1(n-1)}\\\\\n",
    "\\Phi_{2(0)} & \\Phi_{2(1)} & ... & \\Phi_{2(n-1)}\\\\\n",
    "\\Phi_{3(0)} & \\Phi_{3(1)} & ... & \\Phi_{3(n-1)}\\\\\n",
    "\\Phi_{4(0)} & \\Phi_{4(1)} & ... & \\Phi_{4(n-1)}\\\\\n",
    "\\Phi_{5(0)} & \\Phi_{5(1)} & ... & \\Phi_{5(n-1)}\\\\\n",
    "\\Phi_{6(0)} & \\Phi_{6(1)} & ... & \\Phi_{6(n-1)}\\\\\n",
    "\\Phi_{7(0)} & \\Phi_{7(1)} & ... & \\Phi_{7(n-1)}\\\\\n",
    "\\end{bmatrix}$$\n",
    "\n",
    "\n",
    "where:\n",
    "\n",
    "$T_o$: the time series vector of outdoor temperatures (from weather data), °C.\n",
    "\n",
    "$\\Phi_0, \\Phi_3, \\Phi_6 $: time series vector of solar (i.e. short wave) radiation, in W, absorbed by the outdoor surface of the walls:\n",
    "\n",
    "$$\\Phi_o = \\alpha_{w,SW} S_w E_{tot}$$\n",
    "\n",
    "where:\n",
    "\n",
    "- $\\alpha_{w,SW}$ is the absortion coefficient of the outdoor surface of the wall in short wave, $0 \\leqslant \\alpha_{w,SW} \\leqslant 1$;\n",
    "- $S_w$ - surface area of the wall, m²;\n",
    "- $E_{tot}$ - total solar irradiation on the wall, W/m².\n",
    "\n",
    "$\\Phi_1, \\Phi_4, \\Phi_7$: time series vector of short wave (i.e. solar) radiation, in W, absorbed by the indoor surfaces of the walls:\n",
    "\n",
    "$$\\Phi_i = \\tau_{g,SW}  \\alpha_{w,SW} S_g E_{tot}$$\n",
    "\n",
    "where:\n",
    "- $\\tau_{g,SW}$ is the transmission coefficient of the window glass, $0 \\leqslant \\tau_{g,SW} \\leqslant 1$;\n",
    "- $\\alpha_{w,SW}$ - absortion coefficient of the indoor surface of the wall in short wave, $0 \\leqslant \\alpha_{w,SW} \\leqslant 1$;\n",
    "- $S_g$ - surface area of the window glass, m²;\n",
    "- $E_{tot}$ - total solar radiation intensity on the wall, W/m².\n",
    "\n",
    "$\\Phi_2, \\Phi_5$: time series vector of short wave (i.e. solar) radiation, in W, absorbed by the windows:\n",
    "\n",
    "$$\\Phi_w = \\alpha_{g,SW} S_g E_{tot}$$\n",
    "\n",
    "where:\n",
    "- $\\alpha_{g,SW}$ is the absortion coefficient of the glass window in short wave, $0 \\leqslant \\alpha_{w,SW} \\leqslant 1$;\n",
    "- $S_g$ - surface area of the glass window, m²;\n",
    "- $E_{tot}$ - total solar irradiation on the wall, W/m².\n",
    "\n",
    "For the sake of simplicity, all the short wave radiation that enters through the windows is summed up and distributed proportionally to the areas of the walls:\n",
    "\n",
    "$$S_{total} = S_{ww1} + S_{ww3} + S_{wow5}$$\n",
    "\n",
    "$$\\Phi_{1} = \\frac{\\Phi_{i,sum}}{S_{total}} \\cdot S_{ww1}$$\n",
    "\n",
    "$$\\Phi_{4} = \\frac{\\Phi_{i,sum}}{S_{total}} \\cdot S_{ww3}$$\n",
    "\n",
    "$$\\Phi_{7} = \\frac{\\Phi_{i,sum}}{S_{total}} \\cdot S_{wow5}$$\n",
    "\n",
    "where:\n",
    "- $\\Phi_{i,sum}$ - time series vector of the sum of all the short wave radiation that enters through the windows;\n",
    "- $S_{total}$ - surface area of the two walls with a window and the wall without the window;\n",
    "- $\\Phi_{1}$ - time series vector of short wave (i.e. solar) radiation, in W, absorbed by the indoor surface of the wall (1) with a window.\n",
    "- $\\Phi_{4}$ - time series vector of short wave (i.e. solar) radiation, in W, absorbed by the indoor surface of the wall (3) with a window.\n",
    "- $\\Phi_{7}$ - time series vector of short wave (i.e. solar) radiation, in W, absorbed by the indoor surface of the wall (5) without a window.\n",
    "\n",
    "Note: The numbering of the walls refers to the numbering in Figures 3 and 5."
   ]
  },
  {
   "cell_type": "code",
   "execution_count": null,
   "id": "df3d063b-98a6-463b-9c93-634bc9eb831a",
   "metadata": {},
   "outputs": [],
   "source": [
    "# input vector\n",
    "To = data['To']\n",
    "\n",
    "S_total = 2*wall_ww['Surface']['Layer_in'] + wall_wow['Surface']['Layer_in']\n",
    "Φi_sum = τ_gSW * α_wSW * (wall_ww['Surface']['Window'] * data['Φtot_ww12'] + wall_ww['Surface']['Window'] * data['Φtot_ww34']) # sum of short wave radiation that enters the building\n",
    "\n",
    "Φ0 = α_wSW * wall_ww['Surface']['Layer_out'] * data['Φtot_ww12']\n",
    "Φ1 = Φi_sum / S_total * wall_ww['Surface']['Layer_in']\n",
    "Φ2 = α_gSW * wall_ww['Surface']['Window'] * data['Φtot_ww12']\n",
    "Φ3 = Φi_sum / S_total * wall_ww['Surface']['Layer_in']\n",
    "Φ4 = τ_gSW * α_wSW * wall_ww['Surface']['Window'] * data['Φtot_ww34']\n",
    "Φ5 = α_gSW * wall_ww['Surface']['Window'] * data['Φtot_ww34']\n",
    "Φ6 = α_wSW * wall_wow['Surface']['Layer_out'] * data['Φtot_wow5']\n",
    "Φ7 = Φi_sum / S_total * wall_wow['Surface']['Layer_in']\n",
    "\n",
    "\n",
    "u = pd.concat([To, To, To, To, To, Φ0, Φ1, Φ2, Φ3, Φ4, Φ5, Φ6, Φ7], axis=1)\n",
    "u.columns.values[[5, 6, 7, 8, 9, 10, 11, 12]] = ['Φ0', 'Φ1', 'Φ2', 'Φ3', 'Φ4', 'Φ5', 'Φ6', 'Φ7']\n",
    "pd.DataFrame(u)"
   ]
  },
  {
   "cell_type": "markdown",
   "id": "dcae1608-4269-4169-bcf3-45614f2cb379",
   "metadata": {},
   "source": [
    "#### Initial conditions\n",
    "The initial value of the state-vector can be zero or different from zero."
   ]
  },
  {
   "cell_type": "code",
   "execution_count": null,
   "id": "7012d4a1-9d7c-492f-a474-c70cfe504b34",
   "metadata": {},
   "outputs": [],
   "source": [
    "θ_exp = 20 * np.ones([As.shape[0], u.shape[0]])"
   ]
  },
  {
   "cell_type": "markdown",
   "id": "f1ba6050-901d-461e-aaf8-3e2c45967ada",
   "metadata": {},
   "source": [
    "#### Time integration\n",
    "[Explicit Euler](https://en.m.wikipedia.org/wiki/Numerical_methods_for_ordinary_differential_equations#Euler_method) integration in time,\n",
    "\n",
    "$$ \\theta_{s,k+1} = (I + \\Delta t A) \\theta_{s,k} + \\Delta t B u_k $$\n",
    "\n",
    "where $k = 0, ... , n - 1$,"
   ]
  },
  {
   "cell_type": "code",
   "execution_count": null,
   "id": "6fe50de4-0f7b-422d-b991-c069dd67dc3c",
   "metadata": {},
   "outputs": [],
   "source": [
    "for k in range(u.shape[0] - 1):\n",
    "    θ_exp[:, k + 1] = (I + dt * As) @ θ_exp[:, k]\\\n",
    "        + dt * Bs @ u.iloc[k, :]"
   ]
  },
  {
   "cell_type": "markdown",
   "id": "6a253b2c-a199-40f0-9f3c-ab2d5bac6655",
   "metadata": {},
   "source": [
    "yields the time variation of state variable $\\theta$, from which we obtain the variation of the output (i.e. indoor temperature):\n",
    "\n",
    "$$y = C_s \\theta_s + D_s u$$"
   ]
  },
  {
   "cell_type": "code",
   "execution_count": null,
   "id": "f09c3fec-a6fe-43dc-93d7-8ead3026c4fa",
   "metadata": {},
   "outputs": [],
   "source": [
    "y_exp = Cs @ θ_exp + Ds @ u.to_numpy().T"
   ]
  },
  {
   "cell_type": "code",
   "execution_count": null,
   "id": "5738c15a-f6e6-41b3-9910-62e4364085e1",
   "metadata": {},
   "outputs": [],
   "source": [
    "data['θi_exp'] = y_exp.T"
   ]
  },
  {
   "cell_type": "code",
   "execution_count": null,
   "id": "9874de88-2664-49bf-80cf-71a790995de2",
   "metadata": {},
   "outputs": [],
   "source": [
    "fig = plt.figure()\n",
    "data[['To', 'θi_exp']].plot(xticks=[],\n",
    "                            ylabel='Temperature, $θ$ / °C');\n",
    "plt.legend(['$θ_{outdoor}$', '$θ_{indoor}$'],\n",
    "              loc='upper right')\n",
    "plt.show()"
   ]
  },
  {
   "cell_type": "markdown",
   "id": "f387b06a-2bee-4ff1-82e9-fe18aa86c4fd",
   "metadata": {},
   "source": [
    "> Figure 10. Simulation of indoor and outdoor temperatures in free-running with weather data using Euler explicit method of integration."
   ]
  },
  {
   "cell_type": "code",
   "execution_count": null,
   "id": "03221172-7376-45aa-a1fd-fc8f92cc64a3",
   "metadata": {},
   "outputs": [],
   "source": [
    "t = dt * np.arange(data.shape[0])   # time vector\n",
    "\n",
    "fig, axs = plt.subplots(2, 1)\n",
    "# plot outdoor and indoor temperature\n",
    "axs[0].plot(t / 3600 / 24, data['To'], label='$θ_{outdoor}$')\n",
    "axs[0].plot(t / 3600 / 24, y_exp[0, :], label='$θ_{indoor}$')\n",
    "axs[0].set(ylabel='Temperatures, $θ$ / °C',\n",
    "           title='Simulation for weather')\n",
    "axs[0].legend(loc='upper right')\n",
    "\n",
    "# plot total solar radiation and HVAC heat flow\n",
    "axs[1].plot(t / 3600 / 24, data['Φtot_wow5'] + data['Φtot_ww12'] + data['Φtot_ww34'], label='$Φ_{total}$')\n",
    "axs[1].set(xlabel='Time, $t$ / day',\n",
    "           ylabel='Heat flows, $q$ / W')\n",
    "axs[1].legend(loc='upper right')\n",
    "\n",
    "fig.tight_layout()"
   ]
  },
  {
   "cell_type": "markdown",
   "id": "334a70eb-4bc2-4a44-865b-39cb8331ca2d",
   "metadata": {},
   "source": [
    "> Figure 11. Simulation in free-running with weather data using Euler explicit method of integration."
   ]
  },
  {
   "cell_type": "markdown",
   "id": "2cbc4357-e594-4d70-a88e-868b938841f5",
   "metadata": {},
   "source": [
    "## Discussion\n",
    "\n",
    "Interchange the materials  of the layers of the wall. Discuss the step responses and the simuation for weather. Give arguments for the advantages and the disadvanted of indoor and outdoor insulation.\n",
    "\n",
    "The time step depends on:\n",
    "- Capacities considered into the model:\n",
    "    - if the capacities of the air $C_a =$ `C['Air']` and of the glass $C_g =$ `C['Window']` are considered, then the time step is small;\n",
    "    - if the capacities of the air and of the glass are zero, then the time step is large (and the order of the state-space model is reduced)."
   ]
  },
  {
   "cell_type": "markdown",
   "id": "f89c8a91-6918-4f91-b75f-440958124368",
   "metadata": {},
   "source": [
    "## References\n",
    "\n",
    "1. C. Ghiaus (2013) Causality issue in the heat balance method for calculating the design heating and cooling loads, *Energy* 50: 292-301, https://doi.org/10.1016/j.energy.2012.10.024, open access preprint: [HAL-03605823](https://hal.archives-ouvertes.fr/hal-03605823/document)\n",
    "\n",
    "2. C. Ghiaus (2021). Dynamic Models for Energy Control of Smart Homes, in *S. Ploix M. Amayri, N. Bouguila (eds.) Towards Energy Smart Homes*, Online ISBN: 978-3-030-76477-7, Print ISBN: 978-3-030-76476-0, Springer, pp. 163-198 (ref.)\n",
    "[DOI 10.1007/978-3-030-76477-7_5](https://doi.org/10.1007/978-3-030-76477-7_5), open access preprint: [HAL 03578578](https://hal.archives-ouvertes.fr/hal-03578578/document)\n",
    "\n",
    "3. J.A. Duffie, W. A. Beckman, N. Blair (2020) [Solar Engineering of Thermal Processes](https://www.eng.uc.edu/~beaucag/Classes/SolarPowerForAfrica/Solar%20Engineering%20of%20Thermal%20Processes,%20Photovoltaics%20and%20Wind.pdf), 5th ed. John Wiley & Sons, Inc. ISBN 9781119540281\n",
    "\n",
    "4. [Réglementation Thermique 2005. Méthode de calcul Th-CE.](https://pdfslide.fr/documents/rt2005-methode-de-calcul-th-ce.html) Annexe à l’arrêté du 19 juillet 2006\n",
    "\n",
    "5. H. Recknagel, E. Sprenger, E.-R. Schramek (2013) Génie climatique, 5e edition, Dunod, Paris. ISBN 978-2-10-070451-4\n",
    "\n",
    "§. J.R. Howell et al. (2021) Thermal Radiation Heat Transfer 7th edition, ISBN 978-0-367-34707-0, [A Catalogue of Configuration Factors](http://www.thermalradiation.net/indexCat.html)\n",
    "\n",
    "7. J. Widén, J. Munkhammar (2019) [Solar Radiation Theory](http://www.diva-portal.org/smash/get/diva2:1305017/FULLTEXT01.pdf), Uppsala University"
   ]
  },
  {
   "cell_type": "code",
   "execution_count": null,
   "id": "2d3415a3",
   "metadata": {},
   "outputs": [],
   "source": []
  },
  {
   "cell_type": "code",
   "execution_count": null,
   "id": "5a9f6255",
   "metadata": {},
   "outputs": [],
   "source": []
  },
  {
   "cell_type": "code",
   "execution_count": null,
   "id": "39dd6146",
   "metadata": {},
   "outputs": [],
   "source": []
  },
  {
   "cell_type": "code",
   "execution_count": null,
   "id": "bf755114",
   "metadata": {},
   "outputs": [],
   "source": []
  },
  {
   "cell_type": "code",
   "execution_count": null,
   "id": "4d4b2940",
   "metadata": {},
   "outputs": [],
   "source": []
  }
 ],
 "metadata": {
  "kernelspec": {
   "display_name": "Python 3 (ipykernel)",
   "language": "python",
   "name": "python3"
  },
  "language_info": {
   "codemirror_mode": {
    "name": "ipython",
    "version": 3
   },
   "file_extension": ".py",
   "mimetype": "text/x-python",
   "name": "python",
   "nbconvert_exporter": "python",
   "pygments_lexer": "ipython3",
   "version": "3.11.5"
  }
 },
 "nbformat": 4,
 "nbformat_minor": 5
}
