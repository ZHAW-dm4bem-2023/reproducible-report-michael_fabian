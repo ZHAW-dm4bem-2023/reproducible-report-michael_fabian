{
 "cells": [
  {
   "cell_type": "markdown",
   "id": "48287e75-82ec-4c92-9d7e-9b6bb08d938b",
   "metadata": {},
   "source": [
    "# Thermal circuit and state-space representation for a cubic Building\n",
    "### Authors: Fabian Rechsteiner, Michael Wäspe\n",
    "\n",
    "**Objectives:**\n",
    "- Analyse a cubic building with 1 wall, 2 walls with a window and 3 adiabatic walls.\n",
    "- Model the heat transfer in the building by a thermal circuit.\n",
    "- Obtain the mathematical model as a system of Differential Algebraic Equations (DAE) from the thermal circuit.\n",
    "- Transfrom the system of DAE into state-space representation.\n",
    "- Find the steady-state solution.\n",
    "- Simulate by using Euler methods for numerical integration.."
   ]
  },
  {
   "cell_type": "markdown",
   "id": "50ea4338-474b-4ec4-93b2-6c06460264b1",
   "metadata": {},
   "source": [
    "# Visualization of Model\n",
    "## Model\n",
    "\n",
    "<div>\n",
    "<img src=\"./figures_project/Building_Front.png\" width=\"500\"/>\n",
    "<img src=\"./figures_project/Building_open.png\" width=\"513\"/>\n",
    "</div>\n",
    "\n",
    "> Figure 1. Simple Building with 3 walls considered as not perfectly isolated. The adiabatic walls are shown in red. One wall is missing in the illustration on the left and is intended to serve as a sectional model.\n",
    "\n",
    "## Distances\n",
    "<div>\n",
    "<img src=\"./figures_project/Building_measured.png\" width=\"600\"/>\n",
    "</div>\n",
    "\n",
    "> Figure 2. Dimensioned representation of the cubic building model.\n",
    "\n",
    "## Model Schematic\n",
    "<div>\n",
    "<img src=\"./figures_project/ThermalModel.png\" width=\"1000\"/>\n",
    "</div>\n",
    "\n",
    "> Figure 3. Cubic Building Model represented as a thermal model."
   ]
  },
  {
   "cell_type": "markdown",
   "id": "1c7a5295-66a8-4b7b-ad0b-d509c986bcf8",
   "metadata": {},
   "source": [
    "## Imports\n",
    "Imports of all libraries that are needed."
   ]
  },
  {
   "cell_type": "code",
   "execution_count": 1,
   "id": "a12e308e-5f0e-4dec-afe0-84c2ce8c80c5",
   "metadata": {},
   "outputs": [],
   "source": [
    "# For High Resolution Screens\n",
    "%config InlineBackend.figure_format = 'retina'\n",
    "\n",
    "import numpy as np\n",
    "import pandas as pd\n",
    "import matplotlib.pyplot as plt\n",
    "import dm4bem"
   ]
  },
  {
   "cell_type": "markdown",
   "id": "eea10b2a-7aa7-40ed-ae72-6fb3a4a5c7fd",
   "metadata": {},
   "source": [
    "## Physical Properties\n",
    "\n",
    "### Thermo-physical properties and Dimension\n",
    "#### General"
   ]
  },
  {
   "cell_type": "code",
   "execution_count": 2,
   "id": "0917dd90-27e7-4e2a-b85b-ffdd479b81dc",
   "metadata": {},
   "outputs": [],
   "source": [
    "# Properties Building\n",
    "d_ins    = 0.1   #[m]\n",
    "d_conc   = 0.2   #[m]\n",
    "d_window = 0.04  #[m]\n",
    "w_room   = 4     #[m]\n",
    "w_window = 1.5   #[m]\n",
    "\n",
    "# Properties Air\n",
    "air = {'Density': 1.2,                      # kg/m³\n",
    "       'Specific heat': 1000}               # J/(kg·K)"
   ]
  },
  {
   "cell_type": "markdown",
   "id": "b34a3e17-edfa-4593-9d67-567bd43c6897",
   "metadata": {},
   "source": [
    "#### Wall without window"
   ]
  },
  {
   "cell_type": "code",
   "execution_count": 3,
   "id": "7eff1db5-d99a-450f-9c4e-f48120f5f303",
   "metadata": {},
   "outputs": [
    {
     "name": "stdout",
     "output_type": "stream",
     "text": [
      "Properties of the wall without window:\n"
     ]
    },
    {
     "data": {
      "text/html": [
       "<div>\n",
       "<style scoped>\n",
       "    .dataframe tbody tr th:only-of-type {\n",
       "        vertical-align: middle;\n",
       "    }\n",
       "\n",
       "    .dataframe tbody tr th {\n",
       "        vertical-align: top;\n",
       "    }\n",
       "\n",
       "    .dataframe thead th {\n",
       "        text-align: right;\n",
       "    }\n",
       "</style>\n",
       "<table border=\"1\" class=\"dataframe\">\n",
       "  <thead>\n",
       "    <tr style=\"text-align: right;\">\n",
       "      <th></th>\n",
       "      <th>Conductivity</th>\n",
       "      <th>Density</th>\n",
       "      <th>Specific heat</th>\n",
       "      <th>Width</th>\n",
       "      <th>Surface</th>\n",
       "    </tr>\n",
       "  </thead>\n",
       "  <tbody>\n",
       "    <tr>\n",
       "      <th>Layer_out</th>\n",
       "      <td>1.400</td>\n",
       "      <td>2300.0</td>\n",
       "      <td>880</td>\n",
       "      <td>0.2</td>\n",
       "      <td>16</td>\n",
       "    </tr>\n",
       "    <tr>\n",
       "      <th>Layer_in</th>\n",
       "      <td>0.027</td>\n",
       "      <td>55.0</td>\n",
       "      <td>1210</td>\n",
       "      <td>0.1</td>\n",
       "      <td>16</td>\n",
       "    </tr>\n",
       "  </tbody>\n",
       "</table>\n",
       "</div>"
      ],
      "text/plain": [
       "           Conductivity  Density  Specific heat  Width  Surface\n",
       "Layer_out         1.400   2300.0            880    0.2       16\n",
       "Layer_in          0.027     55.0           1210    0.1       16"
      ]
     },
     "metadata": {},
     "output_type": "display_data"
    }
   ],
   "source": [
    "# Properties wall without window\n",
    "concrete_wow = {'Conductivity': 1.400,\n",
    "                'Density': 2300.0,              # kg/m³\n",
    "                'Specific heat': 880,           # J/(kg·K)\n",
    "                'Width': d_conc,\n",
    "                'Surface': w_room**2}\n",
    "\n",
    "insulation_wow = {'Conductivity': 0.027,\n",
    "                  'Density': 55.0,              # kg/m³\n",
    "                  'Specific heat': 1210,        # J/(kg·K)\n",
    "                  'Width': d_ins,\n",
    "                  'Surface': w_room**2}\n",
    "             \n",
    "wall_wow = pd.DataFrame.from_dict({'Layer_out': concrete_wow,\n",
    "                                   'Layer_in': insulation_wow},\n",
    "                                   orient='index')          \n",
    "\n",
    "# Print Data Frames\n",
    "print('Properties of the wall without window:')\n",
    "display(wall_wow)"
   ]
  },
  {
   "cell_type": "markdown",
   "id": "825e4d2e-f089-4efc-90ea-2ccec3457676",
   "metadata": {},
   "source": [
    "#### Wall with window"
   ]
  },
  {
   "cell_type": "code",
   "execution_count": 4,
   "id": "5f9708ae-4ef8-4c32-b3e6-684098897852",
   "metadata": {},
   "outputs": [
    {
     "name": "stdout",
     "output_type": "stream",
     "text": [
      "Properties of the wall with window:\n"
     ]
    },
    {
     "data": {
      "text/html": [
       "<div>\n",
       "<style scoped>\n",
       "    .dataframe tbody tr th:only-of-type {\n",
       "        vertical-align: middle;\n",
       "    }\n",
       "\n",
       "    .dataframe tbody tr th {\n",
       "        vertical-align: top;\n",
       "    }\n",
       "\n",
       "    .dataframe thead th {\n",
       "        text-align: right;\n",
       "    }\n",
       "</style>\n",
       "<table border=\"1\" class=\"dataframe\">\n",
       "  <thead>\n",
       "    <tr style=\"text-align: right;\">\n",
       "      <th></th>\n",
       "      <th>Conductivity</th>\n",
       "      <th>Density</th>\n",
       "      <th>Specific heat</th>\n",
       "      <th>Width</th>\n",
       "      <th>Surface</th>\n",
       "    </tr>\n",
       "  </thead>\n",
       "  <tbody>\n",
       "    <tr>\n",
       "      <th>Layer_out</th>\n",
       "      <td>1.400</td>\n",
       "      <td>2300.0</td>\n",
       "      <td>880</td>\n",
       "      <td>0.20</td>\n",
       "      <td>13.75</td>\n",
       "    </tr>\n",
       "    <tr>\n",
       "      <th>Layer_in</th>\n",
       "      <td>0.027</td>\n",
       "      <td>55.0</td>\n",
       "      <td>1210</td>\n",
       "      <td>0.10</td>\n",
       "      <td>13.75</td>\n",
       "    </tr>\n",
       "    <tr>\n",
       "      <th>Window</th>\n",
       "      <td>1.400</td>\n",
       "      <td>2500.0</td>\n",
       "      <td>1210</td>\n",
       "      <td>0.04</td>\n",
       "      <td>2.25</td>\n",
       "    </tr>\n",
       "  </tbody>\n",
       "</table>\n",
       "</div>"
      ],
      "text/plain": [
       "           Conductivity  Density  Specific heat  Width  Surface\n",
       "Layer_out         1.400   2300.0            880   0.20    13.75\n",
       "Layer_in          0.027     55.0           1210   0.10    13.75\n",
       "Window            1.400   2500.0           1210   0.04     2.25"
      ]
     },
     "metadata": {},
     "output_type": "display_data"
    }
   ],
   "source": [
    "# Properties wall without window\n",
    "concrete_ww = {'Conductivity': 1.400,\n",
    "               'Density': 2300.0,              # kg/m³\n",
    "               'Specific heat': 880,           # J/(kg·K)\n",
    "               'Width': d_conc,\n",
    "               'Surface': w_room**2-w_window**2}\n",
    "\n",
    "insulation_ww = {'Conductivity': 0.027,\n",
    "                  'Density': 55.0,              # kg/m³\n",
    "                  'Specific heat': 1210,        # J/(kg·K)\n",
    "                  'Width': d_ins,\n",
    "                  'Surface': w_room**2-w_window**2}\n",
    "\n",
    "glass_ww = {'Conductivity': 1.4,\n",
    "            'Density': 2500,\n",
    "            'Specific heat': 1210,\n",
    "            'Width': d_window,\n",
    "            'Surface': w_window**2}\n",
    "             \n",
    "wall_ww = pd.DataFrame.from_dict({'Layer_out': concrete_ww,\n",
    "                                  'Layer_in': insulation_ww,\n",
    "                                  'Window': glass_ww},\n",
    "                                  orient='index')          \n",
    "\n",
    "# Print Data Frames\n",
    "print('Properties of the wall with window:')\n",
    "display(wall_ww)"
   ]
  },
  {
   "cell_type": "markdown",
   "id": "97aa16e7-874c-4f53-9460-9e1d2173dbe9",
   "metadata": {},
   "source": [
    "### Radiation Properties\n",
    "\n",
    "The [radiative properties](https://en.wikipedia.org/wiki/Emissivity#Absorptivity) of the surfaces are:\n",
    "- long wave [emmisivity](https://www.engineeringtoolbox.com/emissivity-coefficients-d_447.html) of concrete (between normal and rough) and glass pyrex;\n",
    "- short wave [absortivity of solar radiation](https://www.engineeringtoolbox.com/solar-radiation-absorbed-materials-d_1568.html) of white smooth surfaces;\n",
    "- short wave [transmittance](https://www.engineeringtoolbox.com/optical-properties-glazing-materials-d_1355.html) of window glass (thickness of 4 mm);\n",
    "- short wave [absortivity and transmittance](https://energieplus-lesite.be/techniques/enveloppe7/composants-de-l-enveloppe/vitrages/vitrage-permettant-le-controle-solaire/) of reflective blue window glass."
   ]
  },
  {
   "cell_type": "code",
   "execution_count": 5,
   "id": "355f2c2c-1bef-4f76-bb0d-6f20f12f71d7",
   "metadata": {},
   "outputs": [
    {
     "name": "stdout",
     "output_type": "stream",
     "text": [
      "Stefan-Bolzmann constant:  σ = 5.67e-08 W/(m²⋅K⁴)\n"
     ]
    }
   ],
   "source": [
    "# radiative properties\n",
    "ε_wLW = 0.85    # long wave emmisivity: wall surface (concrete)\n",
    "ε_gLW = 0.90    # long wave emmisivity: glass pyrex\n",
    "α_wSW = 0.25    # short wave absortivity: white smooth surface\n",
    "α_gSW = 0.38    # short wave absortivity: reflective blue glass\n",
    "τ_gSW = 0.30    # short wave transmitance: reflective blue glass\n",
    "\n",
    "# Stefan-Bolzmann constant\n",
    "σ = 5.67e-8     # W/(m²⋅K⁴) Stefan-Bolzmann constant\n",
    "print('Stefan-Bolzmann constant: ',f'σ = {σ} W/(m²⋅K⁴)')"
   ]
  },
  {
   "cell_type": "markdown",
   "id": "a0cbf913-99b4-469c-b3fc-cbc711f46e48",
   "metadata": {},
   "source": [
    "### Convection coefficients\n",
    "\n",
    "Conventional values for the [convection coeficients](https://energieplus-lesite.be/theories/enveloppe9/echanges-chaleur-parois/resistance-thermique-d-echange-superficiel/) for indoor and outdoor convection in W/(m²⋅K) are:"
   ]
  },
  {
   "cell_type": "code",
   "execution_count": 6,
   "id": "6bf7d32e-c0f0-4774-9e54-067034c07aa2",
   "metadata": {},
   "outputs": [
    {
     "name": "stdout",
     "output_type": "stream",
     "text": [
      "Convection Coefficients:\n"
     ]
    },
    {
     "data": {
      "text/html": [
       "<div>\n",
       "<style scoped>\n",
       "    .dataframe tbody tr th:only-of-type {\n",
       "        vertical-align: middle;\n",
       "    }\n",
       "\n",
       "    .dataframe tbody tr th {\n",
       "        vertical-align: top;\n",
       "    }\n",
       "\n",
       "    .dataframe thead th {\n",
       "        text-align: right;\n",
       "    }\n",
       "</style>\n",
       "<table border=\"1\" class=\"dataframe\">\n",
       "  <thead>\n",
       "    <tr style=\"text-align: right;\">\n",
       "      <th></th>\n",
       "      <th>in</th>\n",
       "      <th>out</th>\n",
       "    </tr>\n",
       "  </thead>\n",
       "  <tbody>\n",
       "    <tr>\n",
       "      <th>h</th>\n",
       "      <td>8.0</td>\n",
       "      <td>25</td>\n",
       "    </tr>\n",
       "  </tbody>\n",
       "</table>\n",
       "</div>"
      ],
      "text/plain": [
       "    in  out\n",
       "h  8.0   25"
      ]
     },
     "metadata": {},
     "output_type": "display_data"
    }
   ],
   "source": [
    "h = pd.DataFrame([{'in': 8., 'out': 25}], index=['h'])  # W/(m²⋅K)\n",
    "print('Convection Coefficients:')\n",
    "display(h)"
   ]
  },
  {
   "cell_type": "markdown",
   "id": "c9bbffc0-c4a5-4980-9090-1d5a53ab66e9",
   "metadata": {},
   "source": [
    "### Thermal coductances\n",
    "#### Conduction\n",
    "The conductances 1, 2, 3, and 4 of the thermal circuit from Figure 3 model the heat transfer by [conduction](https://en.m.wikipedia.org/wiki/Thermal_conduction). Conduction conductances, in W/K, are of the form:\n",
    "$$G_{cd} = \\frac{\\lambda}{w}S$$\n",
    "where:\n",
    "\n",
    "- $\\lambda$ - [thermal conductvity](https://en.m.wikipedia.org/wiki/Thermal_conductivity), W/(m⋅K);\n",
    "- $w$ - width of the material, m;\n",
    "- $S$ - surface area of the wall, m²."
   ]
  },
  {
   "cell_type": "code",
   "execution_count": 7,
   "id": "b32ddf95-b925-4771-a2b7-c32244fe27c5",
   "metadata": {
    "tags": []
   },
   "outputs": [
    {
     "name": "stdout",
     "output_type": "stream",
     "text": [
      "Conductance of the wall without window:\n"
     ]
    },
    {
     "data": {
      "text/html": [
       "<div>\n",
       "<style scoped>\n",
       "    .dataframe tbody tr th:only-of-type {\n",
       "        vertical-align: middle;\n",
       "    }\n",
       "\n",
       "    .dataframe tbody tr th {\n",
       "        vertical-align: top;\n",
       "    }\n",
       "\n",
       "    .dataframe thead th {\n",
       "        text-align: right;\n",
       "    }\n",
       "</style>\n",
       "<table border=\"1\" class=\"dataframe\">\n",
       "  <thead>\n",
       "    <tr style=\"text-align: right;\">\n",
       "      <th></th>\n",
       "      <th>Conductance</th>\n",
       "    </tr>\n",
       "  </thead>\n",
       "  <tbody>\n",
       "    <tr>\n",
       "      <th>Layer_out</th>\n",
       "      <td>112.00</td>\n",
       "    </tr>\n",
       "    <tr>\n",
       "      <th>Layer_in</th>\n",
       "      <td>4.32</td>\n",
       "    </tr>\n",
       "  </tbody>\n",
       "</table>\n",
       "</div>"
      ],
      "text/plain": [
       "           Conductance\n",
       "Layer_out       112.00\n",
       "Layer_in          4.32"
      ]
     },
     "metadata": {},
     "output_type": "display_data"
    },
    {
     "name": "stdout",
     "output_type": "stream",
     "text": [
      "Conductance of the wall with window:\n"
     ]
    },
    {
     "data": {
      "text/html": [
       "<div>\n",
       "<style scoped>\n",
       "    .dataframe tbody tr th:only-of-type {\n",
       "        vertical-align: middle;\n",
       "    }\n",
       "\n",
       "    .dataframe tbody tr th {\n",
       "        vertical-align: top;\n",
       "    }\n",
       "\n",
       "    .dataframe thead th {\n",
       "        text-align: right;\n",
       "    }\n",
       "</style>\n",
       "<table border=\"1\" class=\"dataframe\">\n",
       "  <thead>\n",
       "    <tr style=\"text-align: right;\">\n",
       "      <th></th>\n",
       "      <th>Conductance</th>\n",
       "    </tr>\n",
       "  </thead>\n",
       "  <tbody>\n",
       "    <tr>\n",
       "      <th>Layer_out</th>\n",
       "      <td>96.2500</td>\n",
       "    </tr>\n",
       "    <tr>\n",
       "      <th>Layer_in</th>\n",
       "      <td>3.7125</td>\n",
       "    </tr>\n",
       "    <tr>\n",
       "      <th>Window</th>\n",
       "      <td>78.7500</td>\n",
       "    </tr>\n",
       "  </tbody>\n",
       "</table>\n",
       "</div>"
      ],
      "text/plain": [
       "           Conductance\n",
       "Layer_out      96.2500\n",
       "Layer_in        3.7125\n",
       "Window         78.7500"
      ]
     },
     "metadata": {},
     "output_type": "display_data"
    }
   ],
   "source": [
    "# conduction\n",
    "G_cond_wow = wall_wow['Conductivity'] / wall_wow['Width'] * wall_wow['Surface']\n",
    "G_cond_ww = wall_ww['Conductivity'] / wall_ww['Width'] * wall_ww['Surface']\n",
    "print('Conductance of the wall without window:')\n",
    "display(pd.DataFrame(G_cond_wow, columns={'Conductance'}))\n",
    "print('Conductance of the wall with window:')\n",
    "display(pd.DataFrame(G_cond_ww, columns={'Conductance'}))"
   ]
  },
  {
   "cell_type": "markdown",
   "id": "b1e751dc-63d1-4992-898b-01f1138baeb9",
   "metadata": {
    "tags": []
   },
   "source": [
    "#### Convection\n",
    "The conductances 0, 6 and 7 model the heat transfer by [convection](https://en.m.wikipedia.org/wiki/Convection_(heat_transfer). Convection conductances, in W/K, are of the form:\n",
    "$$G_{cv} = {h S}$$\n",
    "where:\n",
    "- $h$ is the [convection coefficient](https://en.m.wikipedia.org/wiki/Heat_transfer_coefficient), W/(m²⋅K);\n",
    "- $S$ - surface area of the wall, m².\n",
    "\n",
    ">Table 1. Surface thermal resistances [Dal Zotto et al. 2014, p. 251]\n",
    "\n",
    "| Type of wall | Indoor surface |Outdoor surface|\n",
    "|--------------|:--------------:|:-------------:|\n",
    "|              | $h_i$,W/(m²·K) | $h_o$,W/(m²·K)|\n",
    "|*Vertical* (tilt > 60°)|    7.7| 25 |\n",
    "|*Horizontal* (tilt < 60°)|     |    |\n",
    "|- Upward heat flow   |       10| 25 |\n",
    "|- Downward heat flow |      5.9| 25 |"
   ]
  },
  {
   "cell_type": "code",
   "execution_count": 8,
   "id": "97b6ff59-9fa7-4fea-8080-a9a4266aa112",
   "metadata": {
    "tags": []
   },
   "outputs": [
    {
     "name": "stdout",
     "output_type": "stream",
     "text": [
      "Convection Coefficients of wall without window:\n"
     ]
    },
    {
     "data": {
      "text/html": [
       "<div>\n",
       "<style scoped>\n",
       "    .dataframe tbody tr th:only-of-type {\n",
       "        vertical-align: middle;\n",
       "    }\n",
       "\n",
       "    .dataframe tbody tr th {\n",
       "        vertical-align: top;\n",
       "    }\n",
       "\n",
       "    .dataframe thead th {\n",
       "        text-align: right;\n",
       "    }\n",
       "</style>\n",
       "<table border=\"1\" class=\"dataframe\">\n",
       "  <thead>\n",
       "    <tr style=\"text-align: right;\">\n",
       "      <th></th>\n",
       "      <th>in</th>\n",
       "      <th>out</th>\n",
       "    </tr>\n",
       "  </thead>\n",
       "  <tbody>\n",
       "    <tr>\n",
       "      <th>h</th>\n",
       "      <td>128.0</td>\n",
       "      <td>400</td>\n",
       "    </tr>\n",
       "  </tbody>\n",
       "</table>\n",
       "</div>"
      ],
      "text/plain": [
       "      in  out\n",
       "h  128.0  400"
      ]
     },
     "metadata": {},
     "output_type": "display_data"
    },
    {
     "name": "stdout",
     "output_type": "stream",
     "text": [
      "Convection Coefficients of wall with window:\n"
     ]
    },
    {
     "data": {
      "text/html": [
       "<div>\n",
       "<style scoped>\n",
       "    .dataframe tbody tr th:only-of-type {\n",
       "        vertical-align: middle;\n",
       "    }\n",
       "\n",
       "    .dataframe tbody tr th {\n",
       "        vertical-align: top;\n",
       "    }\n",
       "\n",
       "    .dataframe thead th {\n",
       "        text-align: right;\n",
       "    }\n",
       "</style>\n",
       "<table border=\"1\" class=\"dataframe\">\n",
       "  <thead>\n",
       "    <tr style=\"text-align: right;\">\n",
       "      <th></th>\n",
       "      <th>in</th>\n",
       "      <th>out</th>\n",
       "    </tr>\n",
       "  </thead>\n",
       "  <tbody>\n",
       "    <tr>\n",
       "      <th>h</th>\n",
       "      <td>110.0</td>\n",
       "      <td>343.75</td>\n",
       "    </tr>\n",
       "  </tbody>\n",
       "</table>\n",
       "</div>"
      ],
      "text/plain": [
       "      in     out\n",
       "h  110.0  343.75"
      ]
     },
     "metadata": {},
     "output_type": "display_data"
    },
    {
     "name": "stdout",
     "output_type": "stream",
     "text": [
      "Convection Coefficients of window:\n"
     ]
    },
    {
     "data": {
      "text/html": [
       "<div>\n",
       "<style scoped>\n",
       "    .dataframe tbody tr th:only-of-type {\n",
       "        vertical-align: middle;\n",
       "    }\n",
       "\n",
       "    .dataframe tbody tr th {\n",
       "        vertical-align: top;\n",
       "    }\n",
       "\n",
       "    .dataframe thead th {\n",
       "        text-align: right;\n",
       "    }\n",
       "</style>\n",
       "<table border=\"1\" class=\"dataframe\">\n",
       "  <thead>\n",
       "    <tr style=\"text-align: right;\">\n",
       "      <th></th>\n",
       "      <th>in</th>\n",
       "      <th>out</th>\n",
       "    </tr>\n",
       "  </thead>\n",
       "  <tbody>\n",
       "    <tr>\n",
       "      <th>h</th>\n",
       "      <td>18.0</td>\n",
       "      <td>56.25</td>\n",
       "    </tr>\n",
       "  </tbody>\n",
       "</table>\n",
       "</div>"
      ],
      "text/plain": [
       "     in    out\n",
       "h  18.0  56.25"
      ]
     },
     "metadata": {},
     "output_type": "display_data"
    }
   ],
   "source": [
    "# convection\n",
    "G_conv_wow = h * wall_wow['Surface']['Layer_out']   # wall without window\n",
    "G_conv_ww  = h * wall_ww['Surface']['Layer_in']   # wall\n",
    "G_conv_g    = h * wall_ww['Surface']['Window']     # glass\n",
    "\n",
    "print('Convection Coefficients of wall without window:')\n",
    "display(G_conv_wow)\n",
    "print('Convection Coefficients of wall with window:')\n",
    "display(G_conv_ww)\n",
    "print('Convection Coefficients of window:')\n",
    "display(G_conv_g)"
   ]
  },
  {
   "cell_type": "markdown",
   "id": "ffc29244-d768-488c-9b7c-2a08b5f0d05e",
   "metadata": {
    "tags": []
   },
   "source": [
    "#### Long wave radiation\n",
    "##### View factors inside the building\n",
    "\n",
    "The view factor $F_{i,j}$ is defined as *the proportion of radiation leaving surface $i$ that is intercepted by surface $j$*. A simplified model is used to determine the viewfactors.\n",
    "\n",
    "The view factors are defined by:\n",
    "$$\\begin{cases}\n",
    "F_{i,j} = \\frac{S_j}{S_T -S_i}\\\\ \n",
    "F_{i,i} = 0\n",
    "\\end{cases}$$\n",
    "\n",
    "where $S_{T} = \\sum_{j=0}^{n-1} S_j$, i.e. the surface $S_i$ is not included in the total surface $S_{T,i} = S_T - S_i$. \n",
    "\n",
    "<div>\n",
    "<img src=\"./figures_project/viewfactorsSimplifiedRepresentation.png\" width=\"600\"/>\n",
    "</div>\n",
    "\n",
    "> Figure 4. Simplified representation of the relevant view factors of the cubic building model.\n"
   ]
  },
  {
   "cell_type": "code",
   "execution_count": 9,
   "id": "0f8e110f-0aef-4ce8-a5ec-cccb0a893700",
   "metadata": {},
   "outputs": [],
   "source": [
    "# Total surface\n",
    "S_t = wall_wow['Surface']['Layer_in']*6\n",
    "# Viewfactors (simplified)\n",
    "S_1_3 = wall_ww['Surface']['Layer_in']  / (S_t - wall_ww['Surface']['Layer_in'] - wall_ww['Surface']['Window'])  # (#3 / (total - #1 - #2)\n",
    "S_1_4 = wall_ww['Surface']['Window']    / (S_t - wall_ww['Surface']['Layer_in'] - wall_ww['Surface']['Window'])    # (#4 / (total - #1 - #2)\n",
    "S_1_5 = wall_wow['Surface']['Layer_in'] / (S_t - wall_ww['Surface']['Layer_in'] - wall_ww['Surface']['Window']) # (#5 / (total - #1 - #2)\n",
    "S_2_3 = wall_ww['Surface']['Layer_in']  / (S_t - wall_ww['Surface']['Window']   - wall_ww['Surface']['Layer_in'])  # (#3 / (total - #2 - #1)\n",
    "S_2_4 = wall_ww['Surface']['Window']    / (S_t - wall_ww['Surface']['Window']   - wall_ww['Surface']['Layer_in'])    # (#4 / (total - #2 - #1)\n",
    "S_2_5 = wall_wow['Surface']['Layer_in'] / (S_t - wall_ww['Surface']['Window']   - wall_ww['Surface']['Layer_in']) # (#5 / (total - #2 - #1)\n",
    "S_3_5 = wall_wow['Surface']['Layer_in'] / (S_t - wall_ww['Surface']['Layer_in'] - wall_ww['Surface']['Window']) # (#5 / (total - #3 - #4)\n",
    "S_4_5 = wall_wow['Surface']['Layer_in'] / (S_t - wall_ww['Surface']['Window']   - wall_ww['Surface']['Layer_in']) # (#5 / (total - #4 - #3)"
   ]
  },
  {
   "cell_type": "markdown",
   "id": "8c665f78-985c-4bb0-ab8c-2ae81b141ea6",
   "metadata": {},
   "source": [
    "##### Thermal network for long wave radiation\n",
    "\n",
    "The long-wave heat exchange between surfaces may be modelled by using the concept of [radiosity](https://en.m.wikipedia.org/wiki/Radiosity_(radiometry)) and then linearizing the radiative heat exchange. \n",
    "\n",
    "![LW_rad_excg](./figures/03_LW_rad_excg.svg)\n",
    "> Figure 5. Radiative long-wave heat exchange between two surfaces: a) modeled by [emmitance](https://en.m.wikipedia.org/wiki/Radiant_exitance) (source) and [radiosity](https://en.m.wikipedia.org/wiki/Radiosity_(radiometry)) (nodes); b) modeled by linearization of emmitance (temperature sources) and radiosity (temperature nodes).\n",
    "\n",
    "After linearization, the conductances, in W/K, for radiative heat exchange are:\n",
    "\n",
    "$$G_{1} = 4 \\sigma \\bar{T}^3 \\frac{\\varepsilon_1}{1 - \\varepsilon_1} S_1$$\n",
    "\n",
    "$$G_{1,2} = 4 \\sigma \\bar{T}^3 F_{1,2} S_1 = 4 \\sigma \\bar{T}^3 F_{2,1} S_2$$\n",
    "\n",
    "$$G_{2} = 4 \\sigma \\bar{T}^3 \\frac{\\varepsilon_2}{1 - \\varepsilon_2} S_2$$\n",
    "\n",
    "<div>\n",
    "<img src=\"./figures_project/ThermalModel_radiation.png\" width=\"500\"/>\n",
    "</div>\n",
    "\n",
    "> Figure 3. Model of long wave radiation in cubic building model"
   ]
  },
  {
   "cell_type": "code",
   "execution_count": 10,
   "id": "e0e8b54b-9aa7-4677-b04a-b09adef9cf10",
   "metadata": {},
   "outputs": [],
   "source": [
    "# long wave radiation\n",
    "Tm = 20 + 273   # K, mean temp for radiative exchange\n",
    "\n",
    "GLW24 = 4 * σ * Tm**3 * ε_wLW / (1 - ε_wLW) * wall_ww['Surface']['Layer_in']\n",
    "GLW25 = 4 * σ * Tm**3 * ε_gLW / (1 - ε_gLW) * wall_ww['Surface']['Window']\n",
    "GLW26 = 4 * σ * Tm**3 * ε_wLW / (1 - ε_wLW) * wall_ww['Surface']['Layer_in']\n",
    "GLW27 = 4 * σ * Tm**3 * ε_gLW / (1 - ε_gLW) * wall_ww['Surface']['Window']\n",
    "GLW28 = 4 * σ * Tm**3 * ε_wLW / (1 - ε_wLW) * wall_wow['Surface']['Layer_in']\n",
    "GLW29 = 4 * σ * Tm**3 * S_1_3 * wall_ww['Surface']['Layer_in']\n",
    "GLW30 = 4 * σ * Tm**3 * S_1_4 * wall_ww['Surface']['Layer_in']\n",
    "GLW31 = 4 * σ * Tm**3 * S_1_5 * wall_ww['Surface']['Layer_in']\n",
    "GLW32 = 4 * σ * Tm**3 * S_2_3 * wall_ww['Surface']['Window']\n",
    "GLW33 = 4 * σ * Tm**3 * S_2_4 * wall_ww['Surface']['Window']\n",
    "GLW34 = 4 * σ * Tm**3 * S_2_5 * wall_ww['Surface']['Window']\n",
    "GLW35 = 4 * σ * Tm**3 * S_3_5 * wall_ww['Surface']['Layer_in']\n",
    "GLW36 = 4 * σ * Tm**3 * S_4_5 * wall_ww['Surface']['Window']"
   ]
  },
  {
   "cell_type": "markdown",
   "id": "9b0f89db-b8cc-4ac1-8923-1da3a3a04f4a",
   "metadata": {},
   "source": [
    "#### Conductances in series and/or parallel\n",
    "If conductances are connected to temperature nodes which have no capacity and/or flow rate source, then the conductances can be considered in [series or parallel](https://en.m.wikipedia.org/wiki/Series_and_parallel_circuits) (depending on the connection). Let's consider, for example, the outdoor side of the glass window (Figure 3): the outdoor convection conductance and the conduction conductance (corresponding to half of the width of the glass) are in series:\n",
    "\n",
    "$$ G_{gs} = \\frac{1}{1/G_{g,cv.out } + 1/(2 G_{g,cd})} =  \n",
    "\\frac{1}{\\frac{1}{h_{out} S_g} + \\frac{w / 2}{\\lambda S_g}}\n",
    "$$"
   ]
  },
  {
   "cell_type": "code",
   "execution_count": 11,
   "id": "3042460a-1c87-41f3-a4af-c83864edef35",
   "metadata": {},
   "outputs": [],
   "source": [
    "# glass: convection outdoor & conduction\n",
    "G_conv_cond_g = float(1 / (1 / G_conv_g['out'] + 1 / (G_cond_ww['Window']/2)))"
   ]
  },
  {
   "cell_type": "markdown",
   "id": "677e77c0-000f-49e9-828d-908a6c6cece5",
   "metadata": {},
   "source": [
    "### Thermal capacities\n",
    "#### Walls\n",
    "The [thermal capacities](https://en.m.wikipedia.org/wiki/Heat_capacity) of the wall, in J/kg, are:\n",
    "\n",
    "$$C_w= m_w c_w= \\rho_w c_w w_w S_w$$\n",
    "\n",
    "where:\n",
    "- $m_w = \\rho_w w_w S_w$ is the mass of the wall, kg;\n",
    "- $c_w$ - [specific heat capacity](https://en.m.wikipedia.org/wiki/Specific_heat_capacity), J/(kg⋅K);\n",
    "- $\\rho_w$ - [density](https://en.m.wikipedia.org/wiki/Density), kg/m³;\n",
    "- $w_w$ - width of the wall, m;\n",
    "- $S_w$ - surface area of the wall, m²."
   ]
  },
  {
   "cell_type": "code",
   "execution_count": 12,
   "id": "6b3d07ab-0d7f-46e5-a651-b36cf28a234c",
   "metadata": {},
   "outputs": [],
   "source": [
    "C_wow = wall_wow['Density'] * wall_wow['Specific heat'] * wall_wow['Surface'] * wall_wow['Width']\n",
    "C_ww  = wall_ww['Density'] * wall_ww['Specific heat'] * wall_ww['Surface'] * wall_ww['Width']"
   ]
  },
  {
   "cell_type": "markdown",
   "id": "f0567b98-8781-4e4a-9fe3-bc67ce2e6fff",
   "metadata": {},
   "source": [
    "#### Air\n",
    "Similarly, the thermal capacity of the air, in J/kg, is:\n",
    "\n",
    "$$C_a = m_a c_a = \\rho_a c_a V_a$$\n",
    "\n",
    "where:\n",
    "- $m_a = \\rho_a V_a$ is the mass of the air, kg;\n",
    "- $\\rho_w$ - [density](https://en.m.wikipedia.org/wiki/Density) of air, kg/m³;\n",
    "- $c_a$ - specific heat capacity of the air, J/(kg⋅K);\n",
    "- $V_a$ - volume of the air in the thermal zone, m³."
   ]
  },
  {
   "cell_type": "code",
   "execution_count": 13,
   "id": "6e5542c1-afd8-4c76-9034-495fa41ad584",
   "metadata": {},
   "outputs": [],
   "source": [
    "Va = w_room**3 # m³, volume of air\n",
    "C_air = air['Density'] * air['Specific heat'] * Va"
   ]
  },
  {
   "cell_type": "markdown",
   "id": "ffc5092f-0a1f-4f22-856f-15d9ebd0d2cc",
   "metadata": {},
   "source": [
    "### Heat flow rate sources\n",
    "The [heat flow rate sources](https://en.m.wikipedia.org/wiki/Current_source#Background) model flow rates which vary idependently of what happens in the themal circuit. They are inputs of the physical model. Generally, the heat flow rate sources are:\n",
    "- solar radiation absorbed by the walls;\n",
    "- internal auxiliary sources."
   ]
  },
  {
   "cell_type": "markdown",
   "id": "e7f9baf7-2367-42c6-b309-353adec647d9",
   "metadata": {},
   "source": [
    "#### Solar radiation absorbed by the walls\n",
    "\n",
    "The [direct](https://en.m.wikipedia.org/wiki/Direct_insolation), diffuse and reflected components of the [solar radiation](https://en.m.wikipedia.org/wiki/Solar_irradiance) on a tilted surface can be estimated from weather data by using the function `sol_rad_tilt_surf` from the module `dm4bem` (see the tutorial on [Weather data and solar radiation](../t01/t01ReadWeatherData.ipynb))."
   ]
  },
  {
   "cell_type": "markdown",
   "id": "30be0a8b-d9aa-4693-add5-eaa14e9609ec",
   "metadata": {},
   "source": [
    "##### External wall\n",
    "\n",
    "The radiation absorbed by the outdoor surface of the wall is:\n",
    "\n",
    "$$\\Phi_o = \\alpha_{w,SW} S_w E_{tot}$$\n",
    "\n",
    "where:\n",
    "- $\\alpha_{w,SW}$ is the [absorptance](https://en.m.wikipedia.org/wiki/Absorptance) of the outdoor surface of the wall in short wave, $0 \\leqslant \\alpha_{w,SW} \\leqslant 1$;\n",
    "- $S_w$ - surface area of the wall, m²;\n",
    "- $E_{tot}$ - total [solar irradiance](https://en.m.wikipedia.org/wiki/Solar_irradiance) on the wall, W/m²."
   ]
  },
  {
   "cell_type": "markdown",
   "id": "621ac7d9-9e1b-44bc-9d35-1c7ef57f11d7",
   "metadata": {},
   "source": [
    "##### Internal walls\n",
    "\n",
    "The total shortwave incident irradiance on the wall $i$, $E_i$, may be estimated as a function of the direct solar irradiance incident on the surface of the walls, $E_{i}^{o}$:\n",
    "\n",
    "$$S_i E_i = S_i E_{i}^{o} + \\sum_{j=1}^{n} F_{j,i} S_j \\rho_j E_j$$\n",
    "\n",
    "where:\n",
    "- $S_i$ is the area of the surface of the wall $i$, m²;\n",
    "- $E_i$ - total irradiance received directly and by multiple reflections on surface $i$, W/m²;\n",
    "- $E_{i}^{o}$ - irradiance received directly from the sun on surface $i$, W/m²;\n",
    "- $F_{j, i}$ - [view factor](https://en.m.wikipedia.org/wiki/View_factor) between surface $j$ and surface $i$, $0 ⩽ F_{j,i} ⩽ 1$;\n",
    "- $\\rho_j$ - [reflectance](https://en.m.wikipedia.org/wiki/Reflectance) of surface $j$, $0 ⩽ \\rho_j ⩽ 1$.\n",
    "\n",
    "\n",
    "By taking into account the [reciprocity](https://en.m.wikipedia.org/wiki/View_factor#Reciprocity) of the view factors: $S_i F_{i,j} = S_j F_{j,i}$, the set of previous equation becomes:\n",
    "\n",
    "$$\n",
    "\\begin{bmatrix}\n",
    "1 - \\rho_1 F_{1,1} & - \\rho_2 F_{1,2}     & ...  & - \\rho_n F_{1,n}\\\\ \n",
    "- \\rho_1 F_{2,1}   & 1 - \\rho_2 F_{2,2}  & ...  & - \\rho_n F_{2,n} \\\\ \n",
    "...                         & ...                            & ...  & ... \\\\ \n",
    "- \\rho_1 F_{n,1}  & - \\rho_2 F_{n,1}      & ... & 1 - \\rho_n F_{n,n}\n",
    "\\end{bmatrix} \\begin{bmatrix}\n",
    "E_1\\\\ \n",
    "E_2\\\\ \n",
    "...\\\\ \n",
    "E_n\n",
    "\\end{bmatrix} = \\begin{bmatrix}\n",
    "E_{1}^{o}\\\\ \n",
    "E_{2}^{o}\\\\ \n",
    "...\\\\ \n",
    "E_{n}^{o}\n",
    "\\end{bmatrix}\n",
    "$$\n",
    "\n",
    "or\n",
    "\n",
    "$$(I - \\rho \\circ F) E = E^o$$\n",
    "\n",
    "The unknown total [irradiances](https://en.m.wikipedia.org/wiki/Irradiance) on walls, in W/m², are then\n",
    "\n",
    "$$ E = (I - \\rho \\circ F)^{-1} E^o$$\n",
    "\n",
    "where:\n",
    "\n",
    "- the symbol $\\circ$ represents the [Hadamard (or element-wise) product](https://en.wikipedia.org/wiki/Hadamard_product_(matrices));\n",
    "\n",
    "$I =\\begin{bmatrix}\n",
    "1 & 0 & ... & 0 \\\\ \n",
    "0 & 1 & ... & 0 \\\\ \n",
    "... & ... & ... & ...\\\\ \n",
    "0 & 0 & ... & 1 \n",
    "\\end{bmatrix}, $ is the [identity matrix](https://en.m.wikipedia.org/wiki/Identity_matrix);\n",
    "\n",
    "$\\rho = \\begin{bmatrix}\n",
    "\\rho_1\\\\ \n",
    "\\rho_2\\\\ \n",
    "...\\\\ \n",
    "\\rho_n\n",
    "\\end{bmatrix}$ - vector of [reflectances](https://en.m.wikipedia.org/wiki/Reflectance), $0 \\le \\rho_{i,j} \\le 1$;\n",
    "\n",
    "$F = \\begin{bmatrix}\n",
    "F_{1,1} & F_{1,2} & ... & F_{1,n}\\\\ \n",
    "F_{2,1} & F_{2,2} & ... & F_{2,n} \\\\ \n",
    "... & ... & ... & ...\\\\ \n",
    "F_{n,1} & F_{n,2} & ... & F_{n,n}\n",
    "\\end{bmatrix}$ - matrix of [view factors](https://en.m.wikipedia.org/wiki/View_factor), $0 \\le F_{i,j} \\le 1$;\n",
    "\n",
    "$E^o = \\begin{bmatrix}\n",
    "E_{1}^{o}\\\\ \n",
    "E_{2}^{o}\\\\ \n",
    "...\\\\ \n",
    "E_{n}^{o}\n",
    "\\end{bmatrix}$ - vector of [direct solar irradiances](https://en.m.wikipedia.org/wiki/Solar_irradiance), W/m²;\n",
    "\n",
    "$E = \\begin{bmatrix}\n",
    "E_1\\\\ \n",
    "E_2\\\\ \n",
    "...\\\\ \n",
    "E_n\n",
    "\\end{bmatrix}$ - vector of unknown total irradiances, W/m².\n",
    "\n",
    "\n",
    "The radiative short wave (i.e. solar) heat flow rate on each surface is:\n",
    "\n",
    "$$ \\Phi = S E $$\n",
    "\n",
    "where:\n",
    "\n",
    "$\\Phi = \\begin{bmatrix}\n",
    "\\Phi_1\\\\ \n",
    "\\Phi_2\\\\ \n",
    "...\\\\ \n",
    "\\Phi_n\n",
    "\\end{bmatrix}$ - vector of total heat flow rates due to solar radiation, W; \n",
    "\n",
    "$S =\\begin{bmatrix}\n",
    "S_1 & 0 & ... & 0 \\\\ \n",
    "0 & S_2 & ... & 0 \\\\ \n",
    "... & ... & ... & ...\\\\ \n",
    "0 & 0 & ... & S_n \n",
    "\\end{bmatrix}$ - matrix of surface areas of walls $i$, m²."
   ]
  },
  {
   "cell_type": "markdown",
   "id": "f73da6aa-fa28-45f9-9c4c-5c687c372eb7",
   "metadata": {},
   "source": [
    "## System of algebraic-differential equations (DAE)\n",
    "\n",
    "The analysis of a thermal circuit, or the direct problem ([Ghiaus 2022](https://hal.archives-ouvertes.fr/hal-03484064/document)), means to find the temperatures in the nodes, $\\theta$, and the heat flows on the branches, $q$, i.e. to solve for $\\theta$ and $q$ the system of [Differential-Algebraic Equations (DAE)](https://en.m.wikipedia.org/wiki/Differential-algebraic_system_of_equations) (Figures 3 and 4):\n",
    "\n",
    "$$\\left\\{\\begin{array}{ll}\n",
    "C \\dot{\\theta} = -(A^T G A) \\theta + A^T G b + f\\\\ \n",
    "q = G (-A \\theta + b)\n",
    "\\end{array}\\right.$$\n",
    "\n",
    "where:\n",
    "- $\\theta$ is the temperature vector of size $n_\\theta$ equal to the number of nodes;\n",
    "- $q$ - heat flow vector of size $n_q$ equal to the number of branches;\n",
    "- $A$ - [incidence matrix](https://en.m.wikipedia.org/wiki/Incidence_matrix) of size $n_q$ rows and $n_{\\theta}$ columns, where $n_q$ is the number of flow branches and $n_{\\theta}$  is the number of temperature nodes. It shows how the temperature nodes are connected by oriented branches of heat flows:\n",
    "    - if flow *m* enters into node *n*, then the element (*m, n*) of the matrix $A$ is 1, i.e., $A_{m,n} = 1$;\n",
    "    - if flow *m* exits from node *n*, then the element (*m, n*) of the matrix $A$ is -1, i.e., $A_{m,n} = -1$, ; \n",
    "    - if flow *m* is not connected to node *n*, then the element (*m, n*) of the matrix $A$ is 0, i.e., $A_{m,n} = 0$.\n",
    "\n",
    "- $G$ - conductance diagonal matrix of size $n_q \\times n_q$,  where $n_q$ is the number of flow branches: diagonal matrix containing the conductances. Each branch $k$ needs to contain a conductance $0 < G_{k,k} < \\infty $. \n",
    "\n",
    "- $C$ - capacity diagonal matrix of size $n_θ \\times n_θ$,  where $n_θ$ is the number of temperature nodes: diagonal matrix containing the capacities. If there is no capacity in the node *n*, then $C_{n, n} = 0$.\n",
    "\n",
    "- $b$ - temperature source vector of size $n_q$: if there is no temperature source on the branch *m*, then $b_m = 0$.\n",
    "\n",
    "- $f$ - heat flow source vector of size $n_θ$: if there is no heat flow source in the node *n*, then $f_n = 0$.\n",
    "\n",
    "The resolution is first done for temperatures, $\\theta$, by solving the equation\n",
    "$$C \\dot{\\theta} = -(A^T G A) \\theta + A^T G b + f$$\n",
    "which, generally, is a system of differential-algebraic equations (DAE). Then, the heat flow rates are found from the equation\n",
    "$$q = G (-A \\theta + b)$$\n"
   ]
  },
  {
   "cell_type": "markdown",
   "id": "f38edcfc-5fc1-4502-92fc-743419bae864",
   "metadata": {},
   "source": [
    "### A: incidence matrix\n",
    "\n",
    "The [incidence matrix](https://en.m.wikipedia.org/wiki/Incidence_matrix) is:\n",
    "\n",
    "$A_{kl} = \\begin{cases}\\phantom{-}\n",
    "0 & \\text{if branch } q_k \\text{ is not connected to node }  \\theta_l \\\\ \n",
    "+1 & \\text{if branch } q_k \\text{ enters into node }  \\theta_l\\\\ \n",
    "-1 & \\text{if branch } q_k \\text{ gets out of node }  \\theta_l \n",
    "\\end{cases}$"
   ]
  },
  {
   "cell_type": "code",
   "execution_count": 14,
   "id": "ddc48b96-39cb-4233-911b-b633c00a3d70",
   "metadata": {},
   "outputs": [],
   "source": [
    "# A --> 37x25\n",
    "#              Θ0    Θ1    Θ2    Θ3    Θ4    Θ5    Θ6    Θ7    Θ8    Θ9    Θ10   Θ11   Θ12   Θ13   Θ14   Θ15   Θ16   Θ17   Θ18   Θ19   Θ20   Θ21   Θ22   Θ23   Θ24 \n",
    "A = np.array([[ 1  ,  0  ,  0  ,  0  ,  0  ,  0  ,  0  ,  0  ,  0  ,  0  ,  0  ,  0  ,  0  ,  0  ,  0  ,  0  ,  0  ,  0  ,  0  ,  0  ,  0  ,  0  ,  0  ,  0  ,  0 ],  # q0\n",
    "              [-1  ,  1  ,  0  ,  0  ,  0  ,  0  ,  0  ,  0  ,  0  ,  0  ,  0  ,  0  ,  0  ,  0  ,  0  ,  0  ,  0  ,  0  ,  0  ,  0  ,  0  ,  0  ,  0  ,  0  ,  0 ],  # q1\n",
    "              [ 0  , -1  ,  1  ,  0  ,  0  ,  0  ,  0  ,  0  ,  0  ,  0  ,  0  ,  0  ,  0  ,  0  ,  0  ,  0  ,  0  ,  0  ,  0  ,  0  ,  0  ,  0  ,  0  ,  0  ,  0 ],  # q2\n",
    "              [ 0  ,  0  , -1  ,  1  ,  0  ,  0  ,  0  ,  0  ,  0  ,  0  ,  0  ,  0  ,  0  ,  0  ,  0  ,  0  ,  0  ,  0  ,  0  ,  0  ,  0  ,  0  ,  0  ,  0  ,  0 ],  # q3\n",
    "              [ 0  ,  0  ,  0  , -1  ,  1  ,  0  ,  0  ,  0  ,  0  ,  0  ,  0  ,  0  ,  0  ,  0  ,  0  ,  0  ,  0  ,  0  ,  0  ,  0  ,  0  ,  0  ,  0  ,  0  ,  0 ],  # q4\n",
    "              [ 0  ,  0  ,  0  ,  0  ,  0  ,  1  ,  0  ,  0  ,  0  ,  0  ,  0  ,  0  ,  0  ,  0  ,  0  ,  0  ,  0  ,  0  ,  0  ,  0  ,  0  ,  0  ,  0  ,  0  ,  0 ],  # q5\n",
    "              [ 0  ,  0  ,  0  ,  0  ,  0  , -1  ,  1  ,  0  ,  0  ,  0  ,  0  ,  0  ,  0  ,  0  ,  0  ,  0  ,  0  ,  0  ,  0  ,  0  ,  0  ,  0  ,  0  ,  0  ,  0 ],  # q6\n",
    "              [ 0  ,  0  ,  0  ,  0  ,  0  ,  0  ,  0  ,  1  ,  0  ,  0  ,  0  ,  0  ,  0  ,  0  ,  0  ,  0  ,  0  ,  0  ,  0  ,  0  ,  0  ,  0  ,  0  ,  0  ,  0 ],  # q7\n",
    "              [ 0  ,  0  ,  0  ,  0  ,  0  ,  0  ,  0  , -1  ,  1  ,  0  ,  0  ,  0  ,  0  ,  0  ,  0  ,  0  ,  0  ,  0  ,  0  ,  0  ,  0  ,  0  ,  0  ,  0  ,  0 ],  # q8\n",
    "              [ 0  ,  0  ,  0  ,  0  ,  0  ,  0  ,  0  ,  0  , -1  ,  1  ,  0  ,  0  ,  0  ,  0  ,  0  ,  0  ,  0  ,  0  ,  0  ,  0  ,  0  ,  0  ,  0  ,  0  ,  0 ],  # q9\n",
    "              [ 0  ,  0  ,  0  ,  0  ,  0  ,  0  ,  0  ,  0  ,  0  , -1  ,  1  ,  0  ,  0  ,  0  ,  0  ,  0  ,  0  ,  0  ,  0  ,  0  ,  0  ,  0  ,  0  ,  0  ,  0 ],  # q10\n",
    "              [ 0  ,  0  ,  0  ,  0  ,  0  ,  0  ,  0  ,  0  ,  0  ,  0  , -1  ,  1  ,  0  ,  0  ,  0  ,  0  ,  0  ,  0  ,  0  ,  0  ,  0  ,  0  ,  0  ,  0  ,  0 ],  # q11\n",
    "              [ 0  ,  0  ,  0  ,  0  ,  0  ,  0  ,  0  ,  0  ,  0  ,  0  ,  0  ,  0  ,  1  ,  0  ,  0  ,  0  ,  0  ,  0  ,  0  ,  0  ,  0  ,  0  ,  0  ,  0  ,  0 ],  # q12\n",
    "              [ 0  ,  0  ,  0  ,  0  ,  0  ,  0  ,  0  ,  0  ,  0  ,  0  ,  0  ,  0  , -1  ,  1  ,  0  ,  0  ,  0  ,  0  ,  0  ,  0  ,  0  ,  0  ,  0  ,  0  ,  0 ],  # q13\n",
    "              [ 0  ,  0  ,  0  ,  0  ,  0  ,  0  ,  0  ,  0  ,  0  ,  0  ,  0  ,  0  ,  0  ,  0  ,  1  ,  0  ,  0  ,  0  ,  0  ,  0  ,  0  ,  0  ,  0  ,  0  ,  0 ],  # q14\n",
    "              [ 0  ,  0  ,  0  ,  0  ,  0  ,  0  ,  0  ,  0  ,  0  ,  0  ,  0  ,  0  ,  0  ,  0  , -1  ,  1  ,  0  ,  0  ,  0  ,  0  ,  0  ,  0  ,  0  ,  0  ,  0 ],  # q15\n",
    "              [ 0  ,  0  ,  0  ,  0  ,  0  ,  0  ,  0  ,  0  ,  0  ,  0  ,  0  ,  0  ,  0  ,  0  ,  0  , -1  ,  1  ,  0  ,  0  ,  0  ,  0  ,  0  ,  0  ,  0  ,  0 ],  # q16\n",
    "              [ 0  ,  0  ,  0  ,  0  ,  0  ,  0  ,  0  ,  0  ,  0  ,  0  ,  0  ,  0  ,  0  ,  0  ,  0  ,  0  , -1  ,  1  ,  0  ,  0  ,  0  ,  0  ,  0  ,  0  ,  0 ],  # q17\n",
    "              [ 0  ,  0  ,  0  ,  0  ,  0  ,  0  ,  0  ,  0  ,  0  ,  0  ,  0  ,  0  ,  0  ,  0  ,  0  ,  0  ,  0  , -1  ,  1  ,  0  ,  0  ,  0  ,  0  ,  0  ,  0 ],  # q18\n",
    "              [ 0  ,  0  ,  0  ,  0  , -1  ,  0  ,  0  ,  0  ,  0  ,  0  ,  0  ,  0  ,  0  ,  0  ,  0  ,  0  ,  0  ,  0  ,  0  ,  1  ,  0  ,  0  ,  0  ,  0  ,  0 ],  # q19\n",
    "              [ 0  ,  0  ,  0  ,  0  ,  0  ,  0  , -1  ,  0  ,  0  ,  0  ,  0  ,  0  ,  0  ,  0  ,  0  ,  0  ,  0  ,  0  ,  0  ,  1  ,  0  ,  0  ,  0  ,  0  ,  0 ],  # q20\n",
    "              [ 0  ,  0  ,  0  ,  0  ,  0  ,  0  ,  0  ,  0  ,  0  ,  0  ,  0  , -1  ,  0  ,  0  ,  0  ,  0  ,  0  ,  0  ,  0  ,  1  ,  0  ,  0  ,  0  ,  0  ,  0 ],  # q21\n",
    "              [ 0  ,  0  ,  0  ,  0  ,  0  ,  0  ,  0  ,  0  ,  0  ,  0  ,  0  ,  0  ,  0  , -1  ,  0  ,  0  ,  0  ,  0  ,  0  ,  1  ,  0  ,  0  ,  0  ,  0  ,  0 ],  # q22\n",
    "              [ 0  ,  0  ,  0  ,  0  ,  0  ,  0  ,  0  ,  0  ,  0  ,  0  ,  0  ,  0  ,  0  ,  0  ,  0  ,  0  ,  0  ,  0  , -1  ,  1  ,  0  ,  0  ,  0  ,  0  ,  0 ],  # q23\n",
    "              [ 0  ,  0  ,  0  ,  0  , -1  ,  0  ,  0  ,  0  ,  0  ,  0  ,  0  ,  0  ,  0  ,  0  ,  0  ,  0  ,  0  ,  0  ,  0  ,  0  ,  1  ,  0  ,  0  ,  0  ,  0 ],  # q24\n",
    "              [ 0  ,  0  ,  0  ,  0  ,  0  ,  0  , -1  ,  0  ,  0  ,  0  ,  0  ,  0  ,  0  ,  0  ,  0  ,  0  ,  0  ,  0  ,  0  ,  0  ,  0  ,  1  ,  0  ,  0  ,  0 ],  # q25\n",
    "              [ 0  ,  0  ,  0  ,  0  ,  0  ,  0  ,  0  ,  0  ,  0  ,  0  ,  0  , -1  ,  0  ,  0  ,  0  ,  0  ,  0  ,  0  ,  0  ,  0  ,  0  ,  0  ,  1  ,  0  ,  0 ],  # q26\n",
    "              [ 0  ,  0  ,  0  ,  0  ,  0  ,  0  ,  0  ,  0  ,  0  ,  0  ,  0  ,  0  ,  0  , -1  ,  0  ,  0  ,  0  ,  0  ,  0  ,  0  ,  0  ,  0  ,  0  ,  1  ,  0 ],  # q27\n",
    "              [ 0  ,  0  ,  0  ,  0  ,  0  ,  0  ,  0  ,  0  ,  0  ,  0  ,  0  ,  0  ,  0  ,  0  ,  0  ,  0  ,  0  ,  0  , -1  ,  0  ,  0  ,  0  ,  0  ,  0  ,  1 ],  # q28\n",
    "              [ 0  ,  0  ,  0  ,  0  ,  0  ,  0  ,  0  ,  0  ,  0  ,  0  ,  0  ,  0  ,  0  ,  0  ,  0  ,  0  ,  0  ,  0  ,  0  ,  0  , -1  ,  0  ,  1  ,  0  ,  0 ],  # q29\n",
    "              [ 0  ,  0  ,  0  ,  0  ,  0  ,  0  ,  0  ,  0  ,  0  ,  0  ,  0  ,  0  ,  0  ,  0  ,  0  ,  0  ,  0  ,  0  ,  0  ,  0  , -1  ,  0  ,  0  ,  1  ,  0 ],  # q30\n",
    "              [ 0  ,  0  ,  0  ,  0  ,  0  ,  0  ,  0  ,  0  ,  0  ,  0  ,  0  ,  0  ,  0  ,  0  ,  0  ,  0  ,  0  ,  0  ,  0  ,  0  , -1  ,  0  ,  0  ,  0  ,  1 ],  # q31\n",
    "              [ 0  ,  0  ,  0  ,  0  ,  0  ,  0  ,  0  ,  0  ,  0  ,  0  ,  0  ,  0  ,  0  ,  0  ,  0  ,  0  ,  0  ,  0  ,  0  ,  0  ,  0  , -1  ,  0  ,  0  ,  1 ],  # q32\n",
    "              [ 0  ,  0  ,  0  ,  0  ,  0  ,  0  ,  0  ,  0  ,  0  ,  0  ,  0  ,  0  ,  0  ,  0  ,  0  ,  0  ,  0  ,  0  ,  0  ,  0  ,  0  , -1  ,  0  ,  1  ,  0 ],  # q33\n",
    "              [ 0  ,  0  ,  0  ,  0  ,  0  ,  0  ,  0  ,  0  ,  0  ,  0  ,  0  ,  0  ,  0  ,  0  ,  0  ,  0  ,  0  ,  0  ,  0  ,  0  ,  0  , -1  ,  1  ,  0  ,  0 ],  # q34\n",
    "              [ 0  ,  0  ,  0  ,  0  ,  0  ,  0  ,  0  ,  0  ,  0  ,  0  ,  0  ,  0  ,  0  ,  0  ,  0  ,  0  ,  0  ,  0  ,  0  ,  0  ,  0  ,  0  , -1  ,  0  ,  1 ],  # q35\n",
    "              [ 0  ,  0  ,  0  ,  0  ,  0  ,  0  ,  0  ,  0  ,  0  ,  0  ,  0  ,  0  ,  0  ,  0  ,  0  ,  0  ,  0  ,  0  ,  0  ,  0  ,  0  ,  0  ,  0  , -1  ,  1 ]]) # q36"
   ]
  },
  {
   "cell_type": "markdown",
   "id": "07610913-51cc-48bb-be4c-706647a53e97",
   "metadata": {},
   "source": [
    "### G: conductance matrix\n"
   ]
  },
  {
   "cell_type": "code",
   "execution_count": 15,
   "id": "40d2c888-f16a-40d3-89b0-89aa924efcf1",
   "metadata": {},
   "outputs": [],
   "source": [
    "# G --> 37x37\n",
    "G = np.zeros((37, 37))\n",
    "# Wall with window\n",
    "G[0,0]   = G_conv_ww['out']\n",
    "G[1,1]   = G_cond_ww['Layer_out']/2\n",
    "G[2,2]   = G_cond_ww['Layer_out']/2\n",
    "G[3,3]   = G_cond_ww['Layer_in']/2\n",
    "G[4,4]   = G_cond_ww['Layer_in']/2\n",
    "# Window\n",
    "G[5,5]   = G_conv_cond_g  # Convection and conduction of window\n",
    "G[6,6]   = G_cond_ww['Window']/2\n",
    "# Wall with window\n",
    "G[7,7]   = G_conv_ww['out']\n",
    "G[8,8]   = G_cond_ww['Layer_out']/2\n",
    "G[9,9]   = G_cond_ww['Layer_out']/2\n",
    "G[10,10] = G_cond_ww['Layer_in']/2\n",
    "G[11,11] = G_cond_ww['Layer_in']/2\n",
    "# Window\n",
    "G[12,12] = G_conv_cond_g  # Convection and conduction of window\n",
    "G[13,13] = G_cond_ww['Window']/2\n",
    "# Wall without window\n",
    "G[14,14] = G_conv_wow['out']\n",
    "G[15,15] = G_cond_wow['Layer_out']/2\n",
    "G[16,16] = G_cond_wow['Layer_out']/2\n",
    "G[17,17] = G_cond_wow['Layer_in']/2\n",
    "G[18,18] = G_cond_wow['Layer_in']/2\n",
    "# Convections to inside air\n",
    "G[19,19] = G_conv_ww['in']\n",
    "G[20,20] = G_conv_g['in']\n",
    "G[21,21] = G_conv_ww['in']\n",
    "G[22,22] = G_conv_g['in']\n",
    "G[23,23] = G_conv_wow['in']\n",
    "# Long wave radiation\n",
    "G[24,24] = GLW24\n",
    "G[25,25] = GLW25\n",
    "G[26,26] = GLW26\n",
    "G[27,27] = GLW27\n",
    "G[28,28] = GLW28\n",
    "G[29,29] = GLW29\n",
    "G[30,30] = GLW30\n",
    "G[31,31] = GLW31\n",
    "G[32,32] = GLW32\n",
    "G[33,33] = GLW33\n",
    "G[34,34] = GLW34\n",
    "G[35,35] = GLW35\n",
    "G[36,36] = GLW36"
   ]
  },
  {
   "cell_type": "markdown",
   "id": "fc46045f-100d-4c10-965d-7cdadcaff1bd",
   "metadata": {},
   "source": [
    "### C: capacity matrix\n"
   ]
  },
  {
   "cell_type": "code",
   "execution_count": 16,
   "id": "0438823e-f4a0-427e-be03-4825378d68ee",
   "metadata": {},
   "outputs": [],
   "source": [
    "# C --> 25x25\n",
    "C = np.zeros((25, 25))\n",
    "# Wall with window\n",
    "C[1,1] = C_ww['Layer_out']\n",
    "C[3,3] = C_ww['Layer_in']\n",
    "# Window\n",
    "C[5,5] = C_ww['Window']\n",
    "# Wall with window\n",
    "C[8,8] = C_ww['Layer_out']\n",
    "C[10,10] = C_ww['Layer_in']\n",
    "# Window\n",
    "C[12,12] = C_ww['Window']\n",
    "# Wall without window\n",
    "C[15,15] = C_wow['Layer_out']\n",
    "C[17,17] = C_wow['Layer_in']\n",
    "# Inside air\n",
    "C[19,19] = C_air"
   ]
  },
  {
   "cell_type": "markdown",
   "id": "bfed7f0d-c954-42c3-9004-f168a1c4f463",
   "metadata": {},
   "source": [
    "### b: temperature source vector\n",
    "\n",
    "The vector of *temperature sources* is $b$, of size $n_q$, the number of branches (in this example 12). An element of the vector $b$ corresponding to a branch without a source is zero. If the flow in a source is from the low potential to the high potential of the source (i.e. from - to +), then the source is positive. If the flow rate in the temperature source is from high potential to low potential (i.e. from + to -), then the source is negative (see [passive sign convention](https://en.m.wikipedia.org/wiki/Passive_sign_convention)). \n",
    "\n",
    "\n",
    "Since the temperature sorces $T_o$ is a [time series](https://en.m.wikipedia.org/wiki/Time_series), in vector $b$ the branches which contain temperature sources are designated by $1$ and the branches without any temeprature source by $0$."
   ]
  },
  {
   "cell_type": "code",
   "execution_count": 17,
   "id": "67d30ca8-12e7-42c3-8be8-1770bc0b7566",
   "metadata": {},
   "outputs": [],
   "source": [
    "# b --> 37x1\n",
    "b = np.zeros(37) \n",
    "b[[0, 5, 7, 12, 14]] = 1"
   ]
  },
  {
   "cell_type": "markdown",
   "id": "fc330da8-f3eb-426c-b80e-5376e1ff0c73",
   "metadata": {},
   "source": [
    "### f: heat flow source vector\n",
    "\n",
    "The vector of *heat sources* is $f$, of size $n_{\\theta}$, the number of nodes. An element of the vector $f$ corresponding to a node without a heat source is zero.\n",
    "\n",
    "\n",
    "Since the flow rate sorces $\\Phi_o$, $\\Phi_i$, $\\dot{Q}_a$ and $\\Phi_a$ are [time series](https://en.m.wikipedia.org/wiki/Time_series), in vector $f$ the nodes which contain flow rate sources are designated by $1$ and the  nodes without any flow rate source by $0$."
   ]
  },
  {
   "cell_type": "code",
   "execution_count": 18,
   "id": "78fa7ac7-3ae5-4aed-acad-f00de8a1d7a3",
   "metadata": {},
   "outputs": [],
   "source": [
    "# f --> 25x1\n",
    "f = np.zeros(25)         # nodes\n",
    "f[[0, 4, 5, 7, 11, 12, 14, 18]] = 1     # nodes with heat-flow sources"
   ]
  },
  {
   "cell_type": "markdown",
   "id": "23f7506e-a1ec-4832-b225-979a6f5512b0",
   "metadata": {},
   "source": [
    "### y: output vector\n",
    "\n",
    "The vector of outputs is $y$, of size $n_{\\theta}$, the number of nodes (in this example 25). The non-zero values of $y$ indicate the nodes which are the outputs of the model.\n",
    "\n",
    "In vector $y$, the nodes for which the temperatures are outputs are noted by $1$ and the other nodes by $0$."
   ]
  },
  {
   "cell_type": "code",
   "execution_count": 19,
   "id": "0909e3fc-3893-4b65-9f7b-b92439c16f52",
   "metadata": {},
   "outputs": [],
   "source": [
    "# y --> 25x1\n",
    "y = np.zeros(25)         # nodes\n",
    "y[[19]] = 1              # nodes (temperatures) of interest"
   ]
  },
  {
   "cell_type": "markdown",
   "id": "a6699a25-b595-489f-bbb6-8c19d99b8f70",
   "metadata": {},
   "source": [
    "## State-space representation\n",
    "The [differential-algebraic system of equations (DAE)](https://en.m.wikipedia.org/wiki/Differential-algebraic_system_of_equations)\n",
    "\n",
    "$$C \\dot{\\theta} = -(A^T G A) \\theta + A^T G b + f$$\n",
    "\n",
    "is transformed in [state-space representation](https://en.m.wikipedia.org/wiki/State-space_representation) ([Ghiaus 2013](https://hal.archives-ouvertes.fr/hal-03605823/document)):\n",
    "\n",
    "$$\\left\\{\\begin{array}{rr}\n",
    "\\dot{\\theta}_s=A_s \\theta_s + B_s u\\\\ \n",
    "y = C_s \\theta_s + D_s u\n",
    "\\end{array}\\right.$$\n",
    "\n",
    "where:\n",
    "- $\\theta_s$ is the vector of state variables which are the temperatures of nodes containing capacities; the elements are in the same order as in the vector of temperatures, $\\theta$; its dimension, $\\dim \\theta_s$, is equal to the number of capacities from the thermal network; for the circuit presented in Figure 3, $\\theta_s = [\\theta_1, \\theta_3, \\theta_6, \\theta_7]^T$;\n",
    "\n",
    "- $u = \\begin{bmatrix} b_T \\\\ f_Q\\end{bmatrix}$ - vector of inputs of dimension $\\dim u$ equal to the number of sources (of temperaure, $b_T$, and heat flows, $f_Q$) of the thermal network, where:\n",
    "\n",
    "    - vector $b_T$ of nonzero elements of vector $b$ of temperature sources; for the circuit presented in Figure 3, $b_T = [T_o, T_o, T_o, T_{i,sp}]^T$ corresponds to branches 0, 8, 10 and 11; \n",
    "    - vector $f_Q$ of nonzero elements of vector $f$ of flow sources; for the circuit presented in Figure 3, $f_Q = [\\Phi_o, \\Phi_i, \\dot{Q}_a, \\Phi_a]^T$ corresponds to nodes 0, 4, 6, and 7;\n",
    "    \n",
    "- $y$ - vector of outputs, a subset of vector $\\theta$ representing temperature nodes which are of interest; for the circuit presented in Figure 3, $y = \\theta_6$, the indoor temperature.\n",
    "\n",
    "- $A_s$ - state matrix, of dimension $\\dim A_s = \\dim {\\theta_s} \\times \\dim {\\theta_s}$;\n",
    "\n",
    "- $B_s$ - input matrix, of dimension $\\dim B_s = \\dim {\\theta_s} \\times \\dim u$;\n",
    "\n",
    "- $C_s$ - output matrix, of dimension $\\dim C_s = \\dim y \\times \\dim {\\theta_s}$;\n",
    "\n",
    "- $D_s$ - feedthrough (or feedforward) matrix, of dimension $\\dim D_s = \\dim y \\times \\dim u$.\n",
    "\n",
    "*Note*: The subscript $s$ of the matrices $A_s, B_s, C_s, D_s$ is used to differentiante the matrices $A_s, C_s$ of the state-space represenation of the matrices $A, C$ of the system of DAE."
   ]
  },
  {
   "cell_type": "markdown",
   "id": "6c812227-fff0-4874-b6ab-7846b905b59f",
   "metadata": {},
   "source": [
    "The [state-space representation](https://en.m.wikipedia.org/wiki/State-space_representation), i.e., matrices $A_s, B_s, C_s, D_s$ is obtained from the system of DAE, i.e., matrices and vectors $A, G, b, C, f, y$ ([Ghiaus 2013](https://hal.archives-ouvertes.fr/hal-03605823/document))."
   ]
  },
  {
   "cell_type": "code",
   "execution_count": 20,
   "id": "5e7f0e93-f86b-4889-8b34-8f5eb2328970",
   "metadata": {
    "tags": []
   },
   "outputs": [
    {
     "name": "stdout",
     "output_type": "stream",
     "text": [
      "9\n"
     ]
    }
   ],
   "source": [
    "[As, Bs, Cs, Ds] = dm4bem.tc2ss(A, G, C, b, f, y)\n",
    "θs = ['θ1', 'θ3', 'θ5', 'θ8', 'θ10', 'θ12', 'θ15', 'θ17', 'θ19']  # state temperature nodes\n",
    "uT = ['q0', 'q5', 'q7', 'q12', 'q14']                             # temperature sources\n",
    "uQ = ['θ0', 'θ4', 'θ5', 'θ7', 'θ11', 'θ12', 'θ14', 'θ18']         # flow sources\n",
    "u = uT + uQ                                                       # inputs\n",
    "y = ['θ19']                                                       # output"
   ]
  },
  {
   "cell_type": "code",
   "execution_count": 21,
   "id": "ad176ea7-8e67-49c8-a73f-28c991f2d7d5",
   "metadata": {},
   "outputs": [
    {
     "data": {
      "text/html": [
       "<div>\n",
       "<style scoped>\n",
       "    .dataframe tbody tr th:only-of-type {\n",
       "        vertical-align: middle;\n",
       "    }\n",
       "\n",
       "    .dataframe tbody tr th {\n",
       "        vertical-align: top;\n",
       "    }\n",
       "\n",
       "    .dataframe thead th {\n",
       "        text-align: right;\n",
       "    }\n",
       "</style>\n",
       "<table border=\"1\" class=\"dataframe\">\n",
       "  <thead>\n",
       "    <tr style=\"text-align: right;\">\n",
       "      <th></th>\n",
       "      <th>θ1</th>\n",
       "      <th>θ3</th>\n",
       "      <th>θ5</th>\n",
       "      <th>θ8</th>\n",
       "      <th>θ10</th>\n",
       "      <th>θ12</th>\n",
       "      <th>θ15</th>\n",
       "      <th>θ17</th>\n",
       "      <th>θ19</th>\n",
       "    </tr>\n",
       "  </thead>\n",
       "  <tbody>\n",
       "    <tr>\n",
       "      <th>θ1</th>\n",
       "      <td>-0.000008</td>\n",
       "      <td>3.211123e-07</td>\n",
       "      <td>0.000000e+00</td>\n",
       "      <td>0.000000</td>\n",
       "      <td>0.000000e+00</td>\n",
       "      <td>0.000000e+00</td>\n",
       "      <td>0.000000</td>\n",
       "      <td>0.000000e+00</td>\n",
       "      <td>0.000000</td>\n",
       "    </tr>\n",
       "    <tr>\n",
       "      <th>θ3</th>\n",
       "      <td>0.000020</td>\n",
       "      <td>-3.954430e-05</td>\n",
       "      <td>5.300235e-08</td>\n",
       "      <td>0.000000</td>\n",
       "      <td>2.635498e-08</td>\n",
       "      <td>2.130658e-07</td>\n",
       "      <td>0.000000</td>\n",
       "      <td>3.053118e-08</td>\n",
       "      <td>0.000020</td>\n",
       "    </tr>\n",
       "    <tr>\n",
       "      <th>θ5</th>\n",
       "      <td>0.000000</td>\n",
       "      <td>1.781468e-08</td>\n",
       "      <td>-1.381358e-04</td>\n",
       "      <td>0.000000</td>\n",
       "      <td>8.028342e-08</td>\n",
       "      <td>5.695895e-07</td>\n",
       "      <td>0.000000</td>\n",
       "      <td>7.400762e-08</td>\n",
       "      <td>0.000052</td>\n",
       "    </tr>\n",
       "    <tr>\n",
       "      <th>θ8</th>\n",
       "      <td>0.000000</td>\n",
       "      <td>0.000000e+00</td>\n",
       "      <td>0.000000e+00</td>\n",
       "      <td>-0.000008</td>\n",
       "      <td>3.211123e-07</td>\n",
       "      <td>0.000000e+00</td>\n",
       "      <td>0.000000</td>\n",
       "      <td>0.000000e+00</td>\n",
       "      <td>0.000000</td>\n",
       "    </tr>\n",
       "    <tr>\n",
       "      <th>θ10</th>\n",
       "      <td>0.000000</td>\n",
       "      <td>2.635498e-08</td>\n",
       "      <td>2.388598e-07</td>\n",
       "      <td>0.000020</td>\n",
       "      <td>-3.954485e-05</td>\n",
       "      <td>5.313404e-08</td>\n",
       "      <td>0.000000</td>\n",
       "      <td>3.045870e-08</td>\n",
       "      <td>0.000020</td>\n",
       "    </tr>\n",
       "    <tr>\n",
       "      <th>θ12</th>\n",
       "      <td>0.000000</td>\n",
       "      <td>7.161377e-08</td>\n",
       "      <td>5.695895e-07</td>\n",
       "      <td>0.000000</td>\n",
       "      <td>1.785894e-08</td>\n",
       "      <td>-1.381382e-04</td>\n",
       "      <td>0.000000</td>\n",
       "      <td>8.269211e-08</td>\n",
       "      <td>0.000052</td>\n",
       "    </tr>\n",
       "    <tr>\n",
       "      <th>θ15</th>\n",
       "      <td>0.000000</td>\n",
       "      <td>0.000000e+00</td>\n",
       "      <td>0.000000e+00</td>\n",
       "      <td>0.000000</td>\n",
       "      <td>0.000000e+00</td>\n",
       "      <td>0.000000e+00</td>\n",
       "      <td>-0.000008</td>\n",
       "      <td>3.211123e-07</td>\n",
       "      <td>0.000000</td>\n",
       "    </tr>\n",
       "    <tr>\n",
       "      <th>θ17</th>\n",
       "      <td>0.000000</td>\n",
       "      <td>2.623773e-08</td>\n",
       "      <td>1.892240e-07</td>\n",
       "      <td>0.000000</td>\n",
       "      <td>2.617545e-08</td>\n",
       "      <td>2.114287e-07</td>\n",
       "      <td>0.000020</td>\n",
       "      <td>-3.954308e-05</td>\n",
       "      <td>0.000020</td>\n",
       "    </tr>\n",
       "    <tr>\n",
       "      <th>θ19</th>\n",
       "      <td>0.000000</td>\n",
       "      <td>2.345947e-05</td>\n",
       "      <td>1.854659e-04</td>\n",
       "      <td>0.000000</td>\n",
       "      <td>2.342933e-05</td>\n",
       "      <td>1.854743e-04</td>\n",
       "      <td>0.000000</td>\n",
       "      <td>2.711621e-05</td>\n",
       "      <td>-0.000445</td>\n",
       "    </tr>\n",
       "  </tbody>\n",
       "</table>\n",
       "</div>"
      ],
      "text/plain": [
       "           θ1            θ3            θ5        θ8           θ10  \\\n",
       "θ1  -0.000008  3.211123e-07  0.000000e+00  0.000000  0.000000e+00   \n",
       "θ3   0.000020 -3.954430e-05  5.300235e-08  0.000000  2.635498e-08   \n",
       "θ5   0.000000  1.781468e-08 -1.381358e-04  0.000000  8.028342e-08   \n",
       "θ8   0.000000  0.000000e+00  0.000000e+00 -0.000008  3.211123e-07   \n",
       "θ10  0.000000  2.635498e-08  2.388598e-07  0.000020 -3.954485e-05   \n",
       "θ12  0.000000  7.161377e-08  5.695895e-07  0.000000  1.785894e-08   \n",
       "θ15  0.000000  0.000000e+00  0.000000e+00  0.000000  0.000000e+00   \n",
       "θ17  0.000000  2.623773e-08  1.892240e-07  0.000000  2.617545e-08   \n",
       "θ19  0.000000  2.345947e-05  1.854659e-04  0.000000  2.342933e-05   \n",
       "\n",
       "              θ12       θ15           θ17       θ19  \n",
       "θ1   0.000000e+00  0.000000  0.000000e+00  0.000000  \n",
       "θ3   2.130658e-07  0.000000  3.053118e-08  0.000020  \n",
       "θ5   5.695895e-07  0.000000  7.400762e-08  0.000052  \n",
       "θ8   0.000000e+00  0.000000  0.000000e+00  0.000000  \n",
       "θ10  5.313404e-08  0.000000  3.045870e-08  0.000020  \n",
       "θ12 -1.381382e-04  0.000000  8.269211e-08  0.000052  \n",
       "θ15  0.000000e+00 -0.000008  3.211123e-07  0.000000  \n",
       "θ17  2.114287e-07  0.000020 -3.954308e-05  0.000020  \n",
       "θ19  1.854743e-04  0.000000  2.711621e-05 -0.000445  "
      ]
     },
     "execution_count": 21,
     "metadata": {},
     "output_type": "execute_result"
    }
   ],
   "source": [
    "pd.DataFrame(As, index=θs, columns=θs)"
   ]
  },
  {
   "cell_type": "code",
   "execution_count": 22,
   "id": "2e2938dd-54a4-48a7-9902-678f2bba6ce0",
   "metadata": {},
   "outputs": [
    {
     "data": {
      "text/html": [
       "<div>\n",
       "<style scoped>\n",
       "    .dataframe tbody tr th:only-of-type {\n",
       "        vertical-align: middle;\n",
       "    }\n",
       "\n",
       "    .dataframe tbody tr th {\n",
       "        vertical-align: top;\n",
       "    }\n",
       "\n",
       "    .dataframe thead th {\n",
       "        text-align: right;\n",
       "    }\n",
       "</style>\n",
       "<table border=\"1\" class=\"dataframe\">\n",
       "  <thead>\n",
       "    <tr style=\"text-align: right;\">\n",
       "      <th></th>\n",
       "      <th>q0</th>\n",
       "      <th>q5</th>\n",
       "      <th>q7</th>\n",
       "      <th>q12</th>\n",
       "      <th>q14</th>\n",
       "      <th>θ0</th>\n",
       "      <th>θ4</th>\n",
       "      <th>θ5</th>\n",
       "      <th>θ7</th>\n",
       "      <th>θ11</th>\n",
       "      <th>θ12</th>\n",
       "      <th>θ14</th>\n",
       "      <th>θ18</th>\n",
       "    </tr>\n",
       "  </thead>\n",
       "  <tbody>\n",
       "    <tr>\n",
       "      <th>θ1</th>\n",
       "      <td>0.000008</td>\n",
       "      <td>0.000000</td>\n",
       "      <td>0.000000</td>\n",
       "      <td>0.000000</td>\n",
       "      <td>0.000000</td>\n",
       "      <td>2.206378e-08</td>\n",
       "      <td>0.000000e+00</td>\n",
       "      <td>0.000000</td>\n",
       "      <td>0.000000e+00</td>\n",
       "      <td>0.000000e+00</td>\n",
       "      <td>0.000000</td>\n",
       "      <td>0.000000e+00</td>\n",
       "      <td>0.000000e+00</td>\n",
       "    </tr>\n",
       "    <tr>\n",
       "      <th>θ3</th>\n",
       "      <td>0.000000</td>\n",
       "      <td>0.000000</td>\n",
       "      <td>0.000000</td>\n",
       "      <td>0.000000</td>\n",
       "      <td>0.000000</td>\n",
       "      <td>0.000000e+00</td>\n",
       "      <td>1.472415e-07</td>\n",
       "      <td>0.000000</td>\n",
       "      <td>0.000000e+00</td>\n",
       "      <td>1.419797e-08</td>\n",
       "      <td>0.000000</td>\n",
       "      <td>0.000000e+00</td>\n",
       "      <td>1.413481e-08</td>\n",
       "    </tr>\n",
       "    <tr>\n",
       "      <th>θ5</th>\n",
       "      <td>0.000000</td>\n",
       "      <td>0.000085</td>\n",
       "      <td>0.000000</td>\n",
       "      <td>0.000000</td>\n",
       "      <td>0.000000</td>\n",
       "      <td>0.000000e+00</td>\n",
       "      <td>9.597133e-09</td>\n",
       "      <td>0.000004</td>\n",
       "      <td>0.000000e+00</td>\n",
       "      <td>4.325033e-08</td>\n",
       "      <td>0.000000</td>\n",
       "      <td>0.000000e+00</td>\n",
       "      <td>3.426279e-08</td>\n",
       "    </tr>\n",
       "    <tr>\n",
       "      <th>θ8</th>\n",
       "      <td>0.000000</td>\n",
       "      <td>0.000000</td>\n",
       "      <td>0.000008</td>\n",
       "      <td>0.000000</td>\n",
       "      <td>0.000000</td>\n",
       "      <td>0.000000e+00</td>\n",
       "      <td>0.000000e+00</td>\n",
       "      <td>0.000000</td>\n",
       "      <td>2.206378e-08</td>\n",
       "      <td>0.000000e+00</td>\n",
       "      <td>0.000000</td>\n",
       "      <td>0.000000e+00</td>\n",
       "      <td>0.000000e+00</td>\n",
       "    </tr>\n",
       "    <tr>\n",
       "      <th>θ10</th>\n",
       "      <td>0.000000</td>\n",
       "      <td>0.000000</td>\n",
       "      <td>0.000000</td>\n",
       "      <td>0.000000</td>\n",
       "      <td>0.000000</td>\n",
       "      <td>0.000000e+00</td>\n",
       "      <td>1.419797e-08</td>\n",
       "      <td>0.000000</td>\n",
       "      <td>0.000000e+00</td>\n",
       "      <td>1.469428e-07</td>\n",
       "      <td>0.000000</td>\n",
       "      <td>0.000000e+00</td>\n",
       "      <td>1.410125e-08</td>\n",
       "    </tr>\n",
       "    <tr>\n",
       "      <th>θ12</th>\n",
       "      <td>0.000000</td>\n",
       "      <td>0.000000</td>\n",
       "      <td>0.000000</td>\n",
       "      <td>0.000085</td>\n",
       "      <td>0.000000</td>\n",
       "      <td>0.000000e+00</td>\n",
       "      <td>3.857981e-08</td>\n",
       "      <td>0.000000</td>\n",
       "      <td>0.000000e+00</td>\n",
       "      <td>9.620978e-09</td>\n",
       "      <td>0.000004</td>\n",
       "      <td>0.000000e+00</td>\n",
       "      <td>3.828339e-08</td>\n",
       "    </tr>\n",
       "    <tr>\n",
       "      <th>θ15</th>\n",
       "      <td>0.000000</td>\n",
       "      <td>0.000000</td>\n",
       "      <td>0.000000</td>\n",
       "      <td>0.000000</td>\n",
       "      <td>0.000008</td>\n",
       "      <td>0.000000e+00</td>\n",
       "      <td>0.000000e+00</td>\n",
       "      <td>0.000000</td>\n",
       "      <td>0.000000e+00</td>\n",
       "      <td>0.000000e+00</td>\n",
       "      <td>0.000000</td>\n",
       "      <td>1.896106e-08</td>\n",
       "      <td>0.000000e+00</td>\n",
       "    </tr>\n",
       "    <tr>\n",
       "      <th>θ17</th>\n",
       "      <td>0.000000</td>\n",
       "      <td>0.000000</td>\n",
       "      <td>0.000000</td>\n",
       "      <td>0.000000</td>\n",
       "      <td>0.000000</td>\n",
       "      <td>0.000000e+00</td>\n",
       "      <td>1.413481e-08</td>\n",
       "      <td>0.000000</td>\n",
       "      <td>0.000000e+00</td>\n",
       "      <td>1.410125e-08</td>\n",
       "      <td>0.000000</td>\n",
       "      <td>0.000000e+00</td>\n",
       "      <td>1.270998e-07</td>\n",
       "    </tr>\n",
       "    <tr>\n",
       "      <th>θ19</th>\n",
       "      <td>0.000000</td>\n",
       "      <td>0.000000</td>\n",
       "      <td>0.000000</td>\n",
       "      <td>0.000000</td>\n",
       "      <td>0.000000</td>\n",
       "      <td>0.000000e+00</td>\n",
       "      <td>1.263810e-05</td>\n",
       "      <td>0.000000</td>\n",
       "      <td>0.000000e+00</td>\n",
       "      <td>1.262186e-05</td>\n",
       "      <td>0.000000</td>\n",
       "      <td>0.000000e+00</td>\n",
       "      <td>1.255380e-05</td>\n",
       "    </tr>\n",
       "  </tbody>\n",
       "</table>\n",
       "</div>"
      ],
      "text/plain": [
       "           q0        q5        q7       q12       q14            θ0  \\\n",
       "θ1   0.000008  0.000000  0.000000  0.000000  0.000000  2.206378e-08   \n",
       "θ3   0.000000  0.000000  0.000000  0.000000  0.000000  0.000000e+00   \n",
       "θ5   0.000000  0.000085  0.000000  0.000000  0.000000  0.000000e+00   \n",
       "θ8   0.000000  0.000000  0.000008  0.000000  0.000000  0.000000e+00   \n",
       "θ10  0.000000  0.000000  0.000000  0.000000  0.000000  0.000000e+00   \n",
       "θ12  0.000000  0.000000  0.000000  0.000085  0.000000  0.000000e+00   \n",
       "θ15  0.000000  0.000000  0.000000  0.000000  0.000008  0.000000e+00   \n",
       "θ17  0.000000  0.000000  0.000000  0.000000  0.000000  0.000000e+00   \n",
       "θ19  0.000000  0.000000  0.000000  0.000000  0.000000  0.000000e+00   \n",
       "\n",
       "               θ4        θ5            θ7           θ11       θ12  \\\n",
       "θ1   0.000000e+00  0.000000  0.000000e+00  0.000000e+00  0.000000   \n",
       "θ3   1.472415e-07  0.000000  0.000000e+00  1.419797e-08  0.000000   \n",
       "θ5   9.597133e-09  0.000004  0.000000e+00  4.325033e-08  0.000000   \n",
       "θ8   0.000000e+00  0.000000  2.206378e-08  0.000000e+00  0.000000   \n",
       "θ10  1.419797e-08  0.000000  0.000000e+00  1.469428e-07  0.000000   \n",
       "θ12  3.857981e-08  0.000000  0.000000e+00  9.620978e-09  0.000004   \n",
       "θ15  0.000000e+00  0.000000  0.000000e+00  0.000000e+00  0.000000   \n",
       "θ17  1.413481e-08  0.000000  0.000000e+00  1.410125e-08  0.000000   \n",
       "θ19  1.263810e-05  0.000000  0.000000e+00  1.262186e-05  0.000000   \n",
       "\n",
       "              θ14           θ18  \n",
       "θ1   0.000000e+00  0.000000e+00  \n",
       "θ3   0.000000e+00  1.413481e-08  \n",
       "θ5   0.000000e+00  3.426279e-08  \n",
       "θ8   0.000000e+00  0.000000e+00  \n",
       "θ10  0.000000e+00  1.410125e-08  \n",
       "θ12  0.000000e+00  3.828339e-08  \n",
       "θ15  1.896106e-08  0.000000e+00  \n",
       "θ17  0.000000e+00  1.270998e-07  \n",
       "θ19  0.000000e+00  1.255380e-05  "
      ]
     },
     "execution_count": 22,
     "metadata": {},
     "output_type": "execute_result"
    }
   ],
   "source": [
    "pd.DataFrame(Bs, index=θs, columns=u)"
   ]
  },
  {
   "cell_type": "code",
   "execution_count": 23,
   "id": "cf947745-5682-4764-a44f-d8891879406d",
   "metadata": {},
   "outputs": [
    {
     "data": {
      "text/html": [
       "<div>\n",
       "<style scoped>\n",
       "    .dataframe tbody tr th:only-of-type {\n",
       "        vertical-align: middle;\n",
       "    }\n",
       "\n",
       "    .dataframe tbody tr th {\n",
       "        vertical-align: top;\n",
       "    }\n",
       "\n",
       "    .dataframe thead th {\n",
       "        text-align: right;\n",
       "    }\n",
       "</style>\n",
       "<table border=\"1\" class=\"dataframe\">\n",
       "  <thead>\n",
       "    <tr style=\"text-align: right;\">\n",
       "      <th></th>\n",
       "      <th>θ1</th>\n",
       "      <th>θ3</th>\n",
       "      <th>θ5</th>\n",
       "      <th>θ8</th>\n",
       "      <th>θ10</th>\n",
       "      <th>θ12</th>\n",
       "      <th>θ15</th>\n",
       "      <th>θ17</th>\n",
       "      <th>θ19</th>\n",
       "    </tr>\n",
       "  </thead>\n",
       "  <tbody>\n",
       "    <tr>\n",
       "      <th>θ19</th>\n",
       "      <td>0.0</td>\n",
       "      <td>0.0</td>\n",
       "      <td>0.0</td>\n",
       "      <td>0.0</td>\n",
       "      <td>0.0</td>\n",
       "      <td>0.0</td>\n",
       "      <td>0.0</td>\n",
       "      <td>0.0</td>\n",
       "      <td>1.0</td>\n",
       "    </tr>\n",
       "  </tbody>\n",
       "</table>\n",
       "</div>"
      ],
      "text/plain": [
       "      θ1   θ3   θ5   θ8  θ10  θ12  θ15  θ17  θ19\n",
       "θ19  0.0  0.0  0.0  0.0  0.0  0.0  0.0  0.0  1.0"
      ]
     },
     "execution_count": 23,
     "metadata": {},
     "output_type": "execute_result"
    }
   ],
   "source": [
    "pd.DataFrame(Cs, index=y, columns=θs)"
   ]
  },
  {
   "cell_type": "code",
   "execution_count": 24,
   "id": "ad463905-a2dc-490e-a79a-8e12039b3804",
   "metadata": {},
   "outputs": [
    {
     "data": {
      "text/html": [
       "<div>\n",
       "<style scoped>\n",
       "    .dataframe tbody tr th:only-of-type {\n",
       "        vertical-align: middle;\n",
       "    }\n",
       "\n",
       "    .dataframe tbody tr th {\n",
       "        vertical-align: top;\n",
       "    }\n",
       "\n",
       "    .dataframe thead th {\n",
       "        text-align: right;\n",
       "    }\n",
       "</style>\n",
       "<table border=\"1\" class=\"dataframe\">\n",
       "  <thead>\n",
       "    <tr style=\"text-align: right;\">\n",
       "      <th></th>\n",
       "      <th>q0</th>\n",
       "      <th>q5</th>\n",
       "      <th>q7</th>\n",
       "      <th>q12</th>\n",
       "      <th>q14</th>\n",
       "      <th>θ0</th>\n",
       "      <th>θ4</th>\n",
       "      <th>θ5</th>\n",
       "      <th>θ7</th>\n",
       "      <th>θ11</th>\n",
       "      <th>θ12</th>\n",
       "      <th>θ14</th>\n",
       "      <th>θ18</th>\n",
       "    </tr>\n",
       "  </thead>\n",
       "  <tbody>\n",
       "    <tr>\n",
       "      <th>θ19</th>\n",
       "      <td>0.0</td>\n",
       "      <td>0.0</td>\n",
       "      <td>0.0</td>\n",
       "      <td>0.0</td>\n",
       "      <td>0.0</td>\n",
       "      <td>0.0</td>\n",
       "      <td>0.0</td>\n",
       "      <td>0.0</td>\n",
       "      <td>0.0</td>\n",
       "      <td>0.0</td>\n",
       "      <td>0.0</td>\n",
       "      <td>0.0</td>\n",
       "      <td>0.0</td>\n",
       "    </tr>\n",
       "  </tbody>\n",
       "</table>\n",
       "</div>"
      ],
      "text/plain": [
       "      q0   q5   q7  q12  q14   θ0   θ4   θ5   θ7  θ11  θ12  θ14  θ18\n",
       "θ19  0.0  0.0  0.0  0.0  0.0  0.0  0.0  0.0  0.0  0.0  0.0  0.0  0.0"
      ]
     },
     "execution_count": 24,
     "metadata": {},
     "output_type": "execute_result"
    }
   ],
   "source": [
    "pd.DataFrame(Ds, index=y, columns=u)"
   ]
  },
  {
   "cell_type": "markdown",
   "id": "eacf3218-4027-4287-a79c-1c6a30df4878",
   "metadata": {},
   "source": [
    "## Steady-state\n",
    "[Steady-state](https://en.m.wikipedia.org/wiki/Steady_state) means that the term $C \\dot \\theta = 0$ in the system of DAE.\n",
    "\n",
    "In [steady-state](https://en.m.wikipedia.org/wiki/Steady_state), the model can be checked if it is incorrect. Let's consider that:\n",
    "- the controller is not active, $K_p \\rightarrow 0$,\n",
    "- the outdoor temperature is $T_o = 10 \\, \\mathrm{^\\circ C}$,\n",
    "- the indoor temperature setpoint is $T_{i,sp} = 20 \\, \\mathrm{^\\circ C}$,\n",
    "- all flow rate sources are zero."
   ]
  },
  {
   "cell_type": "code",
   "execution_count": 25,
   "id": "2777ab75-e774-4b75-97ee-657931ba9022",
   "metadata": {},
   "outputs": [],
   "source": [
    "b = np.zeros(37)        # temperature sources\n",
    "b[[0, 5, 7, 12, 14]] = 10      # outdoor temperature\n",
    "f = np.zeros(25)         # flow-rate sources"
   ]
  },
  {
   "cell_type": "markdown",
   "id": "7cead9cf-6f6c-40f4-8a9f-86556eb5412d",
   "metadata": {},
   "source": [
    "*Note*: Steady-state analysis is a test of [falsification (refutability)](https://en.m.wikipedia.org/wiki/Falsifiability) of the model, not a [verification and validation](https://en.m.wikipedia.org/wiki/Verification_and_validation). If the model does not pass the steady-state test, it means that it is wrong. If the model passes the steady-state test, it does not mean that it is correct. For example, the values of the capacities in matrix $C$ or of the conductances in matrix $G$ can be wrong even when the steady-state test is passed. "
   ]
  },
  {
   "cell_type": "markdown",
   "id": "9968af85-bc1c-4ee2-922e-158bf4f9171d",
   "metadata": {},
   "source": [
    "### Steady-state from differential algebraic equations (DAE)\n",
    "The value of temperature in [steady-state](https://en.m.wikipedia.org/wiki/Steady_state) is obtained from the system of DAE by considering that $C \\dot{\\theta} = 0$:\n",
    "\n",
    "$$\\theta_{ss} = (A^T G A)^{-1}(A^T G b + f)$$\n"
   ]
  },
  {
   "cell_type": "code",
   "execution_count": 26,
   "id": "89ad0e24-5f28-4d18-881f-eba42b4bd678",
   "metadata": {},
   "outputs": [
    {
     "name": "stdout",
     "output_type": "stream",
     "text": [
      "θ = [10. 10. 10. 10. 10. 10. 10. 10. 10. 10. 10. 10. 10. 10. 10. 10. 10. 10.\n",
      " 10. 10. 10. 10. 10. 10. 10.] °C\n"
     ]
    }
   ],
   "source": [
    "θ = np.linalg.inv(A.T @ G @ A) @ (A.T @ G @ b + f)\n",
    "print(f'θ = {θ} °C')"
   ]
  },
  {
   "cell_type": "markdown",
   "id": "89cf3320-f7b6-4506-953e-889887e6e40a",
   "metadata": {},
   "source": [
    "### Steady-state from state-space representation\n",
    "The input vector $u$ is obtained by stacking the vectors $b_T$ and $f_Q$:\n",
    "\n",
    "$$u = \\begin{bmatrix} b_T \\\\ f_Q\\end{bmatrix}$$\n",
    "\n",
    "*Note*: Zero in vectors $b$ and $f$ indicates that there is no source on the branch or in the node, respectively. However, a source can have the value zero."
   ]
  },
  {
   "cell_type": "code",
   "execution_count": 27,
   "id": "907f84b9-065e-40a0-871c-ed482d824736",
   "metadata": {},
   "outputs": [
    {
     "name": "stdout",
     "output_type": "stream",
     "text": [
      "u = [10 10 10 10 10  0  0  0  0  0  0  0  0]\n"
     ]
    }
   ],
   "source": [
    "bT = np.array([10, 10, 10, 10, 10])     # [To, To, To, To, To]\n",
    "fQ = np.array([0, 0, 0, 0, 0, 0, 0, 0])         # [Φ0, Φ1, Φ2, Φ3, Φ4, Φ5, Φ6, Φ7]\n",
    "u = np.hstack([bT, fQ])\n",
    "print(f'u = {u}')"
   ]
  },
  {
   "cell_type": "markdown",
   "id": "cc1882ae-bbc8-4af5-9728-bb06d376450d",
   "metadata": {},
   "source": [
    "The steady-state value of the output of the state-space representation is obtained when $\\dot \\theta_{C} = 0$:\n",
    "\n",
    "$$y_{ss} = (-C_s A_s^{-1} B_s + D_s) u$$"
   ]
  },
  {
   "cell_type": "code",
   "execution_count": 28,
   "id": "d508fc72-9519-4601-a5ca-25fa11f3d7d0",
   "metadata": {},
   "outputs": [
    {
     "name": "stdout",
     "output_type": "stream",
     "text": [
      "yss = [10.] °C\n"
     ]
    }
   ],
   "source": [
    "yss = (-Cs @ np.linalg.inv(As) @ Bs + Ds) @ u\n",
    "print(f'yss = {yss} °C')"
   ]
  },
  {
   "cell_type": "markdown",
   "id": "16d93486-8da0-46e9-b3c2-9ca06e2f7a34",
   "metadata": {},
   "source": [
    "The error between the steady-state values obtained from the system of DAE, $\\theta_6$, and the output of the state-space representation, $y_{ss}$, \n",
    "\n",
    "$$\\varepsilon = \\left | \\theta_6 - y_{ss} \\right |$$\n",
    "\n",
    "is practically zero; the slight difference is due to [numerical errors](https://en.m.wikipedia.org/wiki/Numerical_error)."
   ]
  },
  {
   "cell_type": "code",
   "execution_count": 29,
   "id": "4e6a78de-6f14-4d95-b08a-20f89d3fa667",
   "metadata": {},
   "outputs": [
    {
     "name": "stdout",
     "output_type": "stream",
     "text": [
      "Max error between DAE and state-space: 7.64e-14 °C\n"
     ]
    }
   ],
   "source": [
    "print(f'Max error between DAE and state-space: \\\n",
    "{max(abs(θ[19] - yss)):.2e} °C')"
   ]
  },
  {
   "cell_type": "markdown",
   "id": "cef48356-f037-454b-ba23-a0e8200efd45",
   "metadata": {},
   "source": [
    "## Dynamic simulation"
   ]
  },
  {
   "cell_type": "markdown",
   "id": "48fde621-d2ff-4207-99af-1bce9dfa2371",
   "metadata": {},
   "source": [
    "### Time step\n",
    "\n",
    "The condition for [numerical stability](https://en.m.wikipedia.org/wiki/Euler_method#Numerical_stability) of [Euler explicit integration](https://en.m.wikipedia.org/wiki/Numerical_methods_for_ordinary_differential_equations#Euler_method) method is\n",
    "\n",
    "$$\\left |  \\lambda_i \\Delta t + 1 \\right | < 1, \\forall \\lambda_i, $$\n",
    "\n",
    "i.e. in the complex plane, $\\lambda_i \\Delta t$ is inside a circle of radius 1 centered in {-1, 0j}, where:\n",
    "- $\\lambda_i$ are the eigenvalues of matrix $A_s$,\n",
    "- $\\Delta t$ - time step.\n",
    "\n",
    "For positive real eigenvalues $\\left \\{ \\lambda \\in \\Re |\\lambda >0  \\right \\}$, which is the case of thermal networks, the above condition [becomes](http://www.math.iit.edu/~fass/478578_Chapter_4.pdf)\n",
    "\n",
    "$$- \\lambda_i \\Delta t - 1  < 1, \\forall \\lambda_i, $$\n",
    "\n",
    "or\n",
    "\n",
    "$$ 0 < \\Delta t < -\\frac{2}{\\min \\lambda_i} = 2 \\min -\\frac{1}{\\lambda_i} = 2 \\min T_i$$\n",
    "\n",
    "where $T_i$ are the [time constants](https://en.m.wikipedia.org/wiki/Time_constant), $T_i = - \\frac{1}{\\lambda_i} $"
   ]
  },
  {
   "cell_type": "code",
   "execution_count": 30,
   "id": "263cf71d-bc6c-4695-bce6-0b3ee9cebae6",
   "metadata": {},
   "outputs": [
    {
     "name": "stdout",
     "output_type": "stream",
     "text": [
      "Time constants:\n",
      "['1994.35 s', '7209.46 s', '11412.16 s', '25145.01 s', '25146.05 s', '30125.04 s', '129723.56 s', '129723.73 s', '130366.89 s']\n",
      "\n",
      "2 x Time constants:\n",
      "['3988.71 s', '14418.91 s', '22824.33 s', '50290.02 s', '50292.11 s', '60250.08 s', '259447.12 s', '259447.46 s', '260733.78 s']\n",
      "\n",
      "Maximum time step: 3988.71 s = 66.48 min\n"
     ]
    }
   ],
   "source": [
    "λ = np.linalg.eig(As)[0]    # eigenvalues of matrix As\n",
    "λ = np.sort(λ)\n",
    "\n",
    "print('Time constants:') \n",
    "print([f'{T:.2f} s' for T in -1 / λ])\n",
    "\n",
    "print('\\n2 x Time constants:') \n",
    "print([f'{T:.2f} s' for T in -2 / λ])\n",
    "\n",
    "dtmax = 2 * min(-1. / λ)\n",
    "print(f'\\nMaximum time step: {dtmax:.2f} s = {dtmax / 60:.2f} min')"
   ]
  },
  {
   "cell_type": "code",
   "execution_count": 31,
   "id": "8e1e9e12-764e-4126-93d9-9f7c7f71bb2e",
   "metadata": {},
   "outputs": [
    {
     "name": "stdout",
     "output_type": "stream",
     "text": [
      "dt = 3960.0 s = 66 min\n"
     ]
    }
   ],
   "source": [
    "# time step\n",
    "dt = np.floor(dtmax / 60) * 60   # s\n",
    "print(f'dt = {dt} s = {dt / 60:.0f} min')"
   ]
  },
  {
   "cell_type": "markdown",
   "id": "8a4c6427-9d8f-4d32-8006-eeaed2b0b216",
   "metadata": {},
   "source": [
    "### Settling time\n",
    "The [settling time](https://en.m.wikipedia.org/wiki/Step_response) is roughly 4 times the larger time constant."
   ]
  },
  {
   "cell_type": "code",
   "execution_count": 32,
   "id": "8b54d3a1-2688-48dc-914c-9ce2b18386a6",
   "metadata": {},
   "outputs": [
    {
     "name": "stdout",
     "output_type": "stream",
     "text": [
      "4 * Time constants: \n",
      " [  7976  28836  45648 100580 100584 120500 518892 518892 521464] s \n",
      "\n",
      "Settling time: 521468 s = 8691.1 min = 144.85 h = 6.04 days\n"
     ]
    }
   ],
   "source": [
    "# settling time\n",
    "time_const = np.array([int(x) for x in sorted(-1 / λ)])\n",
    "print('4 * Time constants: \\n', 4 * time_const, 's \\n')\n",
    "\n",
    "t_settle = 4 * max(-1 / λ)\n",
    "print(f'Settling time: \\\n",
    "{t_settle:.0f} s = \\\n",
    "{t_settle / 60:.1f} min = \\\n",
    "{t_settle / (3600):.2f} h = \\\n",
    "{t_settle / (3600 * 24):.2f} days')"
   ]
  },
  {
   "cell_type": "markdown",
   "id": "fc53f93f-dbbe-4e90-9a8e-ef45a397437f",
   "metadata": {},
   "source": [
    "### Step response\n",
    "Let's obtain the dynamic response of the system to a [step input](https://en.m.wikipedia.org/wiki/Step_response).\n",
    "\n",
    "#### Duration\n",
    "The duration of the simulation needs to be larger than the estimated [settling time](https://en.m.wikipedia.org/wiki/Settling_time). This requires a corresponding number of time steps in the time vector."
   ]
  },
  {
   "cell_type": "code",
   "execution_count": 33,
   "id": "a7df87c7-b472-443e-a03a-ef304e78ebc4",
   "metadata": {},
   "outputs": [
    {
     "name": "stdout",
     "output_type": "stream",
     "text": [
      "Duration = 522000.0 s\n",
      "Number of time steps = 131\n"
     ]
    }
   ],
   "source": [
    "# Step response\n",
    "# -------------\n",
    "# duration: next multiple of 3600 s that is larger than t_settle\n",
    "duration = np.ceil(t_settle / 3600) * 3600\n",
    "n = int(np.floor(duration / dt))    # number of time steps\n",
    "t = np.arange(0, n * dt, dt)        # time vector for n time steps\n",
    "\n",
    "print(f'Duration = {duration} s')\n",
    "print(f'Number of time steps = {n}')\n",
    "# pd.DataFrame(t, columns=['time'])"
   ]
  },
  {
   "cell_type": "markdown",
   "id": "f7031ab8-aab5-403e-93ae-1c0d2fc3320b",
   "metadata": {},
   "source": [
    "#### Input vector\n",
    "In dynamic simulation, the inputs are [time series](https://en.m.wikipedia.org/wiki/Time_series), e.g., the oudoor temperature will have $n$ values $T_o = [T_{o(0)}, T_{o(1)}, ..., T_{o(n-1)}]$ at [discrete time](https://en.m.wikipedia.org/wiki/Discrete_time_and_continuous_time#Discrete_time) $t = [t_0, t_1, ... , t_{n-1}]$.\n",
    "\n",
    "The input vector $u$ of the state-space representation is obtained by stacking the vectors $b_T$ and $f_Q$ of the system of Differential Algebraic Equations:\n",
    "\n",
    "$$u = \\begin{bmatrix} b_T \\\\ f_Q\\end{bmatrix}$$\n",
    "\n",
    "where:\n",
    "- vector $b_T$ consists of the nonzero elements of vector $b$ of temperature sources; for the circuit presented in Figure 3, \n",
    "\n",
    "$$b = [\\begin{matrix}\n",
    "T_o &0  &0  &0  &0  &0  &T_o  &0  &T_o  &0  &0  &0  &0  &T_o  &0  &T_o  &0  &0  &0  &0  &0  &0  &0  &0  &0  &0\n",
    "\\end{matrix}]^T$$\n",
    "and \n",
    "$$b_T = [T_o, T_o, T_o, T_o, T_o]^T$$"
   ]
  },
  {
   "cell_type": "code",
   "execution_count": 34,
   "id": "f20a5cee-4d51-4507-886f-08429aef86de",
   "metadata": {},
   "outputs": [
    {
     "data": {
      "text/html": [
       "<div>\n",
       "<style scoped>\n",
       "    .dataframe tbody tr th:only-of-type {\n",
       "        vertical-align: middle;\n",
       "    }\n",
       "\n",
       "    .dataframe tbody tr th {\n",
       "        vertical-align: top;\n",
       "    }\n",
       "\n",
       "    .dataframe thead th {\n",
       "        text-align: right;\n",
       "    }\n",
       "</style>\n",
       "<table border=\"1\" class=\"dataframe\">\n",
       "  <thead>\n",
       "    <tr style=\"text-align: right;\">\n",
       "      <th></th>\n",
       "      <th>0</th>\n",
       "      <th>1</th>\n",
       "      <th>2</th>\n",
       "      <th>3</th>\n",
       "      <th>4</th>\n",
       "      <th>5</th>\n",
       "      <th>6</th>\n",
       "      <th>7</th>\n",
       "      <th>8</th>\n",
       "      <th>9</th>\n",
       "      <th>10</th>\n",
       "      <th>11</th>\n",
       "      <th>12</th>\n",
       "    </tr>\n",
       "  </thead>\n",
       "  <tbody>\n",
       "    <tr>\n",
       "      <th>0</th>\n",
       "      <td>10.0</td>\n",
       "      <td>10.0</td>\n",
       "      <td>10.0</td>\n",
       "      <td>10.0</td>\n",
       "      <td>10.0</td>\n",
       "      <td>0.0</td>\n",
       "      <td>0.0</td>\n",
       "      <td>0.0</td>\n",
       "      <td>0.0</td>\n",
       "      <td>0.0</td>\n",
       "      <td>0.0</td>\n",
       "      <td>0.0</td>\n",
       "      <td>0.0</td>\n",
       "    </tr>\n",
       "    <tr>\n",
       "      <th>1</th>\n",
       "      <td>10.0</td>\n",
       "      <td>10.0</td>\n",
       "      <td>10.0</td>\n",
       "      <td>10.0</td>\n",
       "      <td>10.0</td>\n",
       "      <td>0.0</td>\n",
       "      <td>0.0</td>\n",
       "      <td>0.0</td>\n",
       "      <td>0.0</td>\n",
       "      <td>0.0</td>\n",
       "      <td>0.0</td>\n",
       "      <td>0.0</td>\n",
       "      <td>0.0</td>\n",
       "    </tr>\n",
       "    <tr>\n",
       "      <th>2</th>\n",
       "      <td>10.0</td>\n",
       "      <td>10.0</td>\n",
       "      <td>10.0</td>\n",
       "      <td>10.0</td>\n",
       "      <td>10.0</td>\n",
       "      <td>0.0</td>\n",
       "      <td>0.0</td>\n",
       "      <td>0.0</td>\n",
       "      <td>0.0</td>\n",
       "      <td>0.0</td>\n",
       "      <td>0.0</td>\n",
       "      <td>0.0</td>\n",
       "      <td>0.0</td>\n",
       "    </tr>\n",
       "    <tr>\n",
       "      <th>3</th>\n",
       "      <td>10.0</td>\n",
       "      <td>10.0</td>\n",
       "      <td>10.0</td>\n",
       "      <td>10.0</td>\n",
       "      <td>10.0</td>\n",
       "      <td>0.0</td>\n",
       "      <td>0.0</td>\n",
       "      <td>0.0</td>\n",
       "      <td>0.0</td>\n",
       "      <td>0.0</td>\n",
       "      <td>0.0</td>\n",
       "      <td>0.0</td>\n",
       "      <td>0.0</td>\n",
       "    </tr>\n",
       "    <tr>\n",
       "      <th>4</th>\n",
       "      <td>10.0</td>\n",
       "      <td>10.0</td>\n",
       "      <td>10.0</td>\n",
       "      <td>10.0</td>\n",
       "      <td>10.0</td>\n",
       "      <td>0.0</td>\n",
       "      <td>0.0</td>\n",
       "      <td>0.0</td>\n",
       "      <td>0.0</td>\n",
       "      <td>0.0</td>\n",
       "      <td>0.0</td>\n",
       "      <td>0.0</td>\n",
       "      <td>0.0</td>\n",
       "    </tr>\n",
       "    <tr>\n",
       "      <th>...</th>\n",
       "      <td>...</td>\n",
       "      <td>...</td>\n",
       "      <td>...</td>\n",
       "      <td>...</td>\n",
       "      <td>...</td>\n",
       "      <td>...</td>\n",
       "      <td>...</td>\n",
       "      <td>...</td>\n",
       "      <td>...</td>\n",
       "      <td>...</td>\n",
       "      <td>...</td>\n",
       "      <td>...</td>\n",
       "      <td>...</td>\n",
       "    </tr>\n",
       "    <tr>\n",
       "      <th>126</th>\n",
       "      <td>10.0</td>\n",
       "      <td>10.0</td>\n",
       "      <td>10.0</td>\n",
       "      <td>10.0</td>\n",
       "      <td>10.0</td>\n",
       "      <td>0.0</td>\n",
       "      <td>0.0</td>\n",
       "      <td>0.0</td>\n",
       "      <td>0.0</td>\n",
       "      <td>0.0</td>\n",
       "      <td>0.0</td>\n",
       "      <td>0.0</td>\n",
       "      <td>0.0</td>\n",
       "    </tr>\n",
       "    <tr>\n",
       "      <th>127</th>\n",
       "      <td>10.0</td>\n",
       "      <td>10.0</td>\n",
       "      <td>10.0</td>\n",
       "      <td>10.0</td>\n",
       "      <td>10.0</td>\n",
       "      <td>0.0</td>\n",
       "      <td>0.0</td>\n",
       "      <td>0.0</td>\n",
       "      <td>0.0</td>\n",
       "      <td>0.0</td>\n",
       "      <td>0.0</td>\n",
       "      <td>0.0</td>\n",
       "      <td>0.0</td>\n",
       "    </tr>\n",
       "    <tr>\n",
       "      <th>128</th>\n",
       "      <td>10.0</td>\n",
       "      <td>10.0</td>\n",
       "      <td>10.0</td>\n",
       "      <td>10.0</td>\n",
       "      <td>10.0</td>\n",
       "      <td>0.0</td>\n",
       "      <td>0.0</td>\n",
       "      <td>0.0</td>\n",
       "      <td>0.0</td>\n",
       "      <td>0.0</td>\n",
       "      <td>0.0</td>\n",
       "      <td>0.0</td>\n",
       "      <td>0.0</td>\n",
       "    </tr>\n",
       "    <tr>\n",
       "      <th>129</th>\n",
       "      <td>10.0</td>\n",
       "      <td>10.0</td>\n",
       "      <td>10.0</td>\n",
       "      <td>10.0</td>\n",
       "      <td>10.0</td>\n",
       "      <td>0.0</td>\n",
       "      <td>0.0</td>\n",
       "      <td>0.0</td>\n",
       "      <td>0.0</td>\n",
       "      <td>0.0</td>\n",
       "      <td>0.0</td>\n",
       "      <td>0.0</td>\n",
       "      <td>0.0</td>\n",
       "    </tr>\n",
       "    <tr>\n",
       "      <th>130</th>\n",
       "      <td>10.0</td>\n",
       "      <td>10.0</td>\n",
       "      <td>10.0</td>\n",
       "      <td>10.0</td>\n",
       "      <td>10.0</td>\n",
       "      <td>0.0</td>\n",
       "      <td>0.0</td>\n",
       "      <td>0.0</td>\n",
       "      <td>0.0</td>\n",
       "      <td>0.0</td>\n",
       "      <td>0.0</td>\n",
       "      <td>0.0</td>\n",
       "      <td>0.0</td>\n",
       "    </tr>\n",
       "  </tbody>\n",
       "</table>\n",
       "<p>131 rows × 13 columns</p>\n",
       "</div>"
      ],
      "text/plain": [
       "       0     1     2     3     4    5    6    7    8    9    10   11   12\n",
       "0    10.0  10.0  10.0  10.0  10.0  0.0  0.0  0.0  0.0  0.0  0.0  0.0  0.0\n",
       "1    10.0  10.0  10.0  10.0  10.0  0.0  0.0  0.0  0.0  0.0  0.0  0.0  0.0\n",
       "2    10.0  10.0  10.0  10.0  10.0  0.0  0.0  0.0  0.0  0.0  0.0  0.0  0.0\n",
       "3    10.0  10.0  10.0  10.0  10.0  0.0  0.0  0.0  0.0  0.0  0.0  0.0  0.0\n",
       "4    10.0  10.0  10.0  10.0  10.0  0.0  0.0  0.0  0.0  0.0  0.0  0.0  0.0\n",
       "..    ...   ...   ...   ...   ...  ...  ...  ...  ...  ...  ...  ...  ...\n",
       "126  10.0  10.0  10.0  10.0  10.0  0.0  0.0  0.0  0.0  0.0  0.0  0.0  0.0\n",
       "127  10.0  10.0  10.0  10.0  10.0  0.0  0.0  0.0  0.0  0.0  0.0  0.0  0.0\n",
       "128  10.0  10.0  10.0  10.0  10.0  0.0  0.0  0.0  0.0  0.0  0.0  0.0  0.0\n",
       "129  10.0  10.0  10.0  10.0  10.0  0.0  0.0  0.0  0.0  0.0  0.0  0.0  0.0\n",
       "130  10.0  10.0  10.0  10.0  10.0  0.0  0.0  0.0  0.0  0.0  0.0  0.0  0.0\n",
       "\n",
       "[131 rows x 13 columns]"
      ]
     },
     "execution_count": 34,
     "metadata": {},
     "output_type": "execute_result"
    }
   ],
   "source": [
    "u = np.zeros([n, 13])                # u = [To To To Tisp Φo Φi Qa Φa]\n",
    "u[:, 0:5] = 10 * np.ones([n, 5])    # To = 10 for n time steps\n",
    "\n",
    "pd.DataFrame(u)"
   ]
  },
  {
   "cell_type": "markdown",
   "id": "5dbf3194-81ae-4729-911f-a0d8d1ba7f5b",
   "metadata": {},
   "source": [
    "#### Time integration"
   ]
  },
  {
   "cell_type": "markdown",
   "id": "78b34d69-ba47-4f01-a74e-753ad77d3684",
   "metadata": {},
   "source": [
    "The state-space model\n",
    "\n",
    "$$\\left\\{\\begin{array}{rr}\n",
    "\\dot{\\theta}_C=A_s \\theta_C + B_s u\\\\ \n",
    "y = C_s \\theta_C + D_s u\n",
    "\\end{array}\\right.$$\n",
    "\n",
    "is integrated in time by using [Euler forward (or explicit) method](https://en.m.wikipedia.org/wiki/Numerical_methods_for_ordinary_differential_equations#Euler_method) for numerical integration:\n",
    "\n",
    "$$ \\theta_{s,k+1} = (I + \\Delta t A) \\theta_{s,k} + \\Delta t B u_k $$\n",
    "\n",
    "and [Euler backward (or implicit) method](https://en.m.wikipedia.org/wiki/Numerical_methods_for_ordinary_differential_equations#Backward_Euler_method) for numerical integration:\n",
    "\n",
    "$$\\theta_{s,k+1} = (I - \\Delta t A)^{-1} ( \\theta_{s,k} + \\Delta t B u_k )$$\n",
    "\n",
    "where $k = 0, ... , n - 1$."
   ]
  },
  {
   "cell_type": "code",
   "execution_count": 35,
   "id": "32c56126-d693-4803-acc1-fd5c174cb92f",
   "metadata": {},
   "outputs": [],
   "source": [
    "# initial conditions\n",
    "n_s = As.shape[0]                      # number of state variables\n",
    "θ_exp = np.zeros([n_s, t.shape[0]])    # explicit Euler in time t\n",
    "θ_imp = np.zeros([n_s, t.shape[0]])    # implicit Euler in time t\n",
    "\n",
    "# time integration\n",
    "I = np.eye(n_s)                        # identity matrix\n",
    "\n",
    "for k in range(n - 1):\n",
    "    θ_exp[:, k + 1] = (I + dt * As) @ θ_exp[:, k]\\\n",
    "        + dt * Bs @ u[k, :]\n",
    "    θ_imp[:, k + 1] = np.linalg.inv(I - dt * As) @ (θ_imp[:, k]\\\n",
    "        + dt * Bs @ u[k, :])   "
   ]
  },
  {
   "cell_type": "markdown",
   "id": "e9a20ba5-441b-4c8a-acbb-a9cd60c12596",
   "metadata": {},
   "source": [
    "Then, we obtain the outputs\n",
    "\n",
    "$$ y = C_s \\theta_s + D_s u$$\n",
    "\n",
    "for explicit and for implicit Euler methods, respectively."
   ]
  },
  {
   "cell_type": "code",
   "execution_count": 36,
   "id": "ad16264b-88d1-442e-8871-457145df2b95",
   "metadata": {},
   "outputs": [],
   "source": [
    "# outputs\n",
    "y_exp = Cs @ θ_exp + Ds @  u.T\n",
    "y_imp = Cs @ θ_imp + Ds @  u.T"
   ]
  },
  {
   "cell_type": "markdown",
   "id": "8dd962a5-2b46-4d35-9a97-66a95e7f631b",
   "metadata": {},
   "source": [
    "The results of explicit and implicit Euler integration are practically identical."
   ]
  },
  {
   "cell_type": "code",
   "execution_count": 37,
   "id": "972e68d4-a2ae-4778-b2f8-b8fd61433c3b",
   "metadata": {},
   "outputs": [
    {
     "data": {
      "image/png": "[encoded data removed]",
      "text/plain": [
       "<Figure size 640x480 with 1 Axes>"
      ]
     },
     "metadata": {
      "image/png": {
       "height": 455,
       "width": 564
      }
     },
     "output_type": "display_data"
    }
   ],
   "source": [
    "fig, ax = plt.subplots()\n",
    "ax.plot(t / 3600, y_exp.T, t / 3600, y_imp.T)\n",
    "ax.set(xlabel='Time, $t$ / h',\n",
    "       ylabel='Temperatue, $θ_i$ / °C',\n",
    "       title='Step input: outdoor temperature $T_o$')\n",
    "ax.legend(['Explicit', 'Implicit'])\n",
    "ax.grid()\n",
    "plt.show()"
   ]
  },
  {
   "cell_type": "markdown",
   "id": "f6aa8a5c-1459-48e7-b916-dcb261ad7429",
   "metadata": {},
   "source": [
    "> Figure 7. Step response to outdoor temperature by using Euler\n",
    "[implicit](https://en.m.wikipedia.org/wiki/Numerical_methods_for_ordinary_differential_equations#Backward_Euler_method)\n",
    "and\n",
    "[explicit](https://en.m.wikipedia.org/wiki/Numerical_methods_for_ordinary_differential_equations#Euler_method) integration.\n",
    "\n",
    "The value the indoor temperature obtained after the [settling time](https://en.m.wikipedia.org/wiki/Settling_time) is almost equal to the value obtained in steady-state."
   ]
  },
  {
   "cell_type": "code",
   "execution_count": 38,
   "id": "009155b1-2803-488a-a99f-a78718200bae",
   "metadata": {},
   "outputs": [
    {
     "name": "stdout",
     "output_type": "stream",
     "text": [
      "Steady-state indoor temperature obtained with:\n",
      "- DAE model: 10.0000 °C\n",
      "- state-space model: 10.0000 °C\n",
      "- steady-state response to step input: 9.7335 °C\n"
     ]
    }
   ],
   "source": [
    "print('Steady-state indoor temperature obtained with:')\n",
    "print(f'- DAE model: {float(θ[6]):.4f} °C')\n",
    "print(f'- state-space model: {float(yss):.4f} °C')\n",
    "print(f'- steady-state response to step input: {float(y_exp[:, -2]):.4f} °C')"
   ]
  }
 ],
 "metadata": {
  "kernelspec": {
   "display_name": "Python 3 (ipykernel)",
   "language": "python",
   "name": "python3"
  },
  "language_info": {
   "codemirror_mode": {
    "name": "ipython",
    "version": 3
   },
   "file_extension": ".py",
   "mimetype": "text/x-python",
   "name": "python",
   "nbconvert_exporter": "python",
   "pygments_lexer": "ipython3",
   "version": "3.9.13"
  }
 },
 "nbformat": 4,
 "nbformat_minor": 5
}
